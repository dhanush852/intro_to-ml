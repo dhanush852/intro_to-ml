{
  "cells": [
    {
      "cell_type": "markdown",
      "metadata": {
        "id": "view-in-github",
        "colab_type": "text"
      },
      "source": [
        "<a href=\"https://colab.research.google.com/github/dhanush852/intro_to-ml/blob/main/HomeWork_7.ipynb\" target=\"_parent\"><img src=\"https://colab.research.google.com/assets/colab-badge.svg\" alt=\"Open In Colab\"/></a>"
      ]
    },
    {
      "cell_type": "code",
      "execution_count": 8,
      "metadata": {
        "id": "oAFTpNZUe8fp"
      },
      "outputs": [],
      "source": [
        "import numpy as np\n",
        "import warnings\n",
        "warnings.filterwarnings('ignore')\n",
        "import matplotlib.pyplot as plt\n",
        "import pandas as pd\n",
        "from sklearn.metrics import precision_score, recall_score, accuracy_score, confusion_matrix\n",
        "import seaborn as sns\n",
        "\n"
      ]
    },
    {
      "cell_type": "code",
      "source": [
        "import torch\n",
        "import torch.nn as nn\n",
        "import torch.optim as optim\n",
        "from torchvision import datasets, transforms\n",
        "torch.set_printoptions(edgeitems=2, linewidth=75)\n",
        "torch.manual_seed(123)"
      ],
      "metadata": {
        "colab": {
          "base_uri": "https://localhost:8080/"
        },
        "id": "LY1MPBqIq2mS",
        "outputId": "de4aa9a3-0e52-40c3-e646-2cc81746d07f"
      },
      "execution_count": 9,
      "outputs": [
        {
          "output_type": "execute_result",
          "data": {
            "text/plain": [
              "<torch._C.Generator at 0x7970a6fbd630>"
            ]
          },
          "metadata": {},
          "execution_count": 9
        }
      ]
    },
    {
      "cell_type": "code",
      "execution_count": 10,
      "metadata": {
        "colab": {
          "base_uri": "https://localhost:8080/"
        },
        "id": "kxxY55ZIfzrt",
        "outputId": "0d19e912-4a2b-459c-c100-3fc7b27405f5"
      },
      "outputs": [
        {
          "output_type": "stream",
          "name": "stdout",
          "text": [
            "Downloading https://www.cs.toronto.edu/~kriz/cifar-10-python.tar.gz to ../data-unversioned/p1ch7/cifar-10-python.tar.gz\n"
          ]
        },
        {
          "output_type": "stream",
          "name": "stderr",
          "text": [
            "100%|██████████| 170498071/170498071 [00:10<00:00, 15823795.20it/s]\n"
          ]
        },
        {
          "output_type": "stream",
          "name": "stdout",
          "text": [
            "Extracting ../data-unversioned/p1ch7/cifar-10-python.tar.gz to ../data-unversioned/p1ch7/\n",
            "Files already downloaded and verified\n"
          ]
        }
      ],
      "source": [
        "class_names = ['airplane','automobile','bird','cat','deer','dog','frog','horse','ship','truck']\n",
        "\n",
        "data_path = '../data-unversioned/p1ch7/'\n",
        "cifar10 = cifar10 = datasets.CIFAR10(\n",
        "    data_path, train=True, download=True,\n",
        "    transform=transforms.Compose([\n",
        "        transforms.ToTensor(),\n",
        "        transforms.Normalize((0.4915, 0.4823, 0.4468), (0.2470, 0.2435, 0.2616))\n",
        "    ]))\n",
        "cifar10_val = datasets.CIFAR10(\n",
        "    data_path, train=False, download=True,\n",
        "    transform=transforms.Compose([\n",
        "        transforms.ToTensor(),\n",
        "        transforms.Normalize((0.4915, 0.4823, 0.4468), (0.2470, 0.2435, 0.2616))\n",
        "    ]))\n"
      ]
    },
    {
      "cell_type": "code",
      "execution_count": 11,
      "metadata": {
        "id": "MAoAxIQomeZW"
      },
      "outputs": [],
      "source": [
        "class Net_1(nn.Module):\n",
        "  def __init__(self):\n",
        "    super(Net_1, self).__init__()\n",
        "    self.conv1 = nn.Conv2d(3, 16, kernel_size=3, padding=1)\n",
        "    self.act1 = nn.Tanh()\n",
        "    self.pool1 = nn.MaxPool2d(2)\n",
        "    self.conv2 = nn.Conv2d(16, 8, kernel_size=3, padding=1)\n",
        "    self.act2 = nn.Tanh()\n",
        "    self.pool2 = nn.MaxPool2d(2)\n",
        "    self.fc1 = nn.Linear(8 * 8 * 8, 32)\n",
        "    self.act3 = nn.Tanh()\n",
        "    self.fc2 = nn.Linear(32, 10)\n",
        "\n",
        "  def forward(self, x):\n",
        "    out = self.pool1(self.act1(self.conv1(x)))\n",
        "    out = self.pool2(self.act2(self.conv2(out)))\n",
        "    out = out.view(-1, 8 * 8 * 8)\n",
        "    out = self.act3(self.fc1(out))\n",
        "    out = self.fc2(out)\n",
        "    return out\n"
      ]
    },
    {
      "cell_type": "code",
      "source": [
        "# Updated Net_2 class with significant modifications\n",
        "class Net_2(nn.Module):\n",
        "    def __init__(self):\n",
        "        super().__init__()\n",
        "        self.conv1 = nn.Conv2d(3, 16, kernel_size=3, padding=1)\n",
        "        self.act1 = nn.Tanh()\n",
        "        self.pool1 = nn.MaxPool2d(2)\n",
        "        self.conv2 = nn.Conv2d(16, 32, kernel_size=3, padding=1)\n",
        "        self.act2 = nn.Tanh()\n",
        "        self.pool2 = nn.MaxPool2d(2)\n",
        "        self.conv3 = nn.Conv2d(32, 4, kernel_size=3, padding=1)\n",
        "        self.act3 = nn.Tanh()\n",
        "        self.pool3 = nn.MaxPool2d(2)\n",
        "        self.fc1 = nn.Linear(4 * 4 * 4, 32)\n",
        "        self.act4 = nn.Tanh()\n",
        "        self.fc2 = nn.Linear(32, 10)\n",
        "\n",
        "    def forward(self, x):\n",
        "        out = self.pool1(self.act1(self.conv1(x)))\n",
        "        out = self.pool2(self.act2(self.conv2(out)))\n",
        "        out = self.pool3(self.act3(self.conv3(out)))\n",
        "        out = out.view(-1, 4 * 4 * 4)\n",
        "        out = self.act4(self.fc1(out))\n",
        "        out = self.fc2(out)\n",
        "        return out"
      ],
      "metadata": {
        "id": "y0a-gYWatcwQ"
      },
      "execution_count": 12,
      "outputs": []
    },
    {
      "cell_type": "code",
      "source": [
        "def training_loop(n_epochs, optimizer, model, loss_fn, train_loader):\n",
        "  for epoch in range(1, n_epochs + 1):\n",
        "    train_loss = 0.0\n",
        "    for imgs, labels in train_loader:\n",
        "      outputs = model(imgs)\n",
        "      loss = loss_fn(outputs, labels)\n",
        "\n",
        "      optimizer.zero_grad()\n",
        "      loss.backward()\n",
        "      optimizer.step()\n",
        "\n",
        "      train_loss += loss.item()\n",
        "    if ((epoch == 1) or (epoch % 10 == 0)):\n",
        "      print(f\"Epoch {epoch}, Training Loss: {train_loss/len(train_loader):.4f}\")\n"
      ],
      "metadata": {
        "id": "_lMTgpbHtZw1"
      },
      "execution_count": 13,
      "outputs": []
    },
    {
      "cell_type": "code",
      "source": [
        "learning_rate = 0.01\n",
        "n_epochs = 300\n",
        "loss_fn = nn.CrossEntropyLoss()"
      ],
      "metadata": {
        "id": "JiCAB4-tuCa4"
      },
      "execution_count": 14,
      "outputs": []
    },
    {
      "cell_type": "code",
      "execution_count": 69,
      "metadata": {
        "colab": {
          "base_uri": "https://localhost:8080/"
        },
        "id": "yaqcaxpsXSTK",
        "outputId": "f4bf5781-7d2b-4835-acb0-ec2ad573e281"
      },
      "outputs": [
        {
          "output_type": "stream",
          "name": "stdout",
          "text": [
            "Epoch 1, Training Loss: 2.0436\n",
            "Epoch 10, Training Loss: 1.1815\n",
            "Epoch 20, Training Loss: 1.0107\n",
            "Epoch 30, Training Loss: 0.9201\n",
            "Epoch 40, Training Loss: 0.8610\n",
            "Epoch 50, Training Loss: 0.8186\n",
            "Epoch 60, Training Loss: 0.7850\n",
            "Epoch 70, Training Loss: 0.7579\n",
            "Epoch 80, Training Loss: 0.7351\n",
            "Epoch 90, Training Loss: 0.7149\n",
            "Epoch 100, Training Loss: 0.6988\n",
            "Epoch 110, Training Loss: 0.6798\n",
            "Epoch 120, Training Loss: 0.6673\n",
            "Epoch 130, Training Loss: 0.6528\n",
            "Epoch 140, Training Loss: 0.6416\n",
            "Epoch 150, Training Loss: 0.6316\n",
            "Epoch 160, Training Loss: 0.6216\n",
            "Epoch 170, Training Loss: 0.6133\n",
            "Epoch 180, Training Loss: 0.6020\n",
            "Epoch 190, Training Loss: 0.5957\n",
            "Epoch 200, Training Loss: 0.5888\n",
            "Epoch 210, Training Loss: 0.5788\n",
            "Epoch 220, Training Loss: 0.5721\n",
            "Epoch 230, Training Loss: 0.5666\n",
            "Epoch 240, Training Loss: 0.5618\n",
            "Epoch 250, Training Loss: 0.5552\n",
            "Epoch 260, Training Loss: 0.5500\n",
            "Epoch 270, Training Loss: 0.5452\n",
            "Epoch 280, Training Loss: 0.5402\n",
            "Epoch 290, Training Loss: 0.5354\n",
            "Epoch 300, Training Loss: 0.5324\n"
          ]
        }
      ],
      "source": [
        "train_loader = torch.utils.data.DataLoader(cifar10, batch_size=64, shuffle=True)\n",
        "model_layer_1 = Net_1()\n",
        "optimizer_1layer = optim.SGD(model_layer_1.parameters(), lr=learning_rate)\n",
        "\n",
        "training_loop(\n",
        "    n_epochs = n_epochs,\n",
        "    optimizer = optimizer_1layer,\n",
        "    model = model_layer_1,\n",
        "    loss_fn = loss_fn,\n",
        "    train_loader = train_loader)"
      ]
    },
    {
      "cell_type": "code",
      "source": [
        "train_loader = torch.utils.data.DataLoader(cifar10, batch_size=64, shuffle=False)\n",
        "correct = 0\n",
        "total = 0\n",
        "with torch.no_grad():\n",
        "  for imgs, labels in train_loader:\n",
        "    outputs = model_layer_1(imgs)\n",
        "    _, predicted = torch.max(outputs, dim=1)\n",
        "    total += labels.shape[0]\n",
        "    correct += int((predicted == labels).sum())\n",
        "\n",
        "print(\"2 Layer Conv Training Accuracy: %f\" % (correct / total))"
      ],
      "metadata": {
        "colab": {
          "base_uri": "https://localhost:8080/"
        },
        "id": "Rf7e8pZV2oZl",
        "outputId": "f559d286-747b-45a4-ec5b-22d30caf73e8"
      },
      "execution_count": 18,
      "outputs": [
        {
          "output_type": "stream",
          "name": "stdout",
          "text": [
            "2 Layer Conv Training Accuracy: 0.113720\n"
          ]
        }
      ]
    },
    {
      "cell_type": "code",
      "source": [
        "val_loader = torch.utils.data.DataLoader(cifar10_val, batch_size=64, shuffle=False)\n",
        "\n",
        "correct = 0\n",
        "total = 0\n",
        "all_preds = []\n",
        "all_labels = []\n",
        "\n",
        "with torch.no_grad():\n",
        "  for imgs, labels in val_loader:\n",
        "    outputs = model_layer_1(imgs)\n",
        "    _, predicted = torch.max(outputs, dim=1)\n",
        "    total += labels.shape[0]\n",
        "    correct += int((predicted == labels).sum())\n",
        "    all_preds.extend(predicted.cpu().numpy())\n",
        "    all_labels.extend(labels.cpu().numpy())"
      ],
      "metadata": {
        "id": "QenB5ISx2rWc"
      },
      "execution_count": 19,
      "outputs": []
    },
    {
      "cell_type": "code",
      "source": [
        "precision = precision_score(all_labels, all_preds, average='macro')\n",
        "recall = recall_score(all_labels, all_preds, average='macro')\n",
        "cnf_matrix = confusion_matrix(all_labels, all_preds)\n",
        "\n",
        "print(\"Accuracy = %f\" % (correct / total))\n",
        "print(\"Precision =  %f\" % (precision))\n",
        "print(\"Recall =  %f\" % (recall))\n",
        "print(\"F1 Score = %f\" % (2 * (precision * recall) / (precision + recall)))\n",
        "cnf_matrix"
      ],
      "metadata": {
        "colab": {
          "base_uri": "https://localhost:8080/"
        },
        "id": "DJQRWhtU2uSA",
        "outputId": "fc583984-abde-4892-d555-47e58f240e0b"
      },
      "execution_count": 20,
      "outputs": [
        {
          "output_type": "stream",
          "name": "stdout",
          "text": [
            "Accuracy = 0.110600\n",
            "Precision =  0.049575\n",
            "Recall =  0.110600\n",
            "F1 Score = 0.068462\n"
          ]
        },
        {
          "output_type": "execute_result",
          "data": {
            "text/plain": [
              "array([[476,   0,   0, 232, 174, 100,   0,  17,   0,   1],\n",
              "       [565,   0,   0, 145, 228,  28,   0,  34,   0,   0],\n",
              "       [495,   0,   0,  77, 320,  53,   0,  54,   0,   1],\n",
              "       [400,   0,   0,  97, 317,  60,   0, 126,   0,   0],\n",
              "       [430,   0,   0,  44, 440,  39,   0,  47,   0,   0],\n",
              "       [293,   0,   0, 149, 331,  51,   0, 175,   0,   1],\n",
              "       [478,   0,   0,  42, 339,  54,   0,  87,   0,   0],\n",
              "       [376,   0,   0,  62, 427,  92,   0,  42,   0,   1],\n",
              "       [622,   0,   0, 233,  89,  32,   0,  24,   0,   0],\n",
              "       [617,   0,   0, 105, 229,  31,   0,  18,   0,   0]])"
            ]
          },
          "metadata": {},
          "execution_count": 20
        }
      ]
    },
    {
      "cell_type": "code",
      "execution_count": null,
      "metadata": {
        "id": "7uy5YgZqYzkD",
        "colab": {
          "base_uri": "https://localhost:8080/"
        },
        "outputId": "a06cfd91-43c6-4582-a15c-b95e534bdb4d"
      },
      "outputs": [
        {
          "output_type": "stream",
          "name": "stdout",
          "text": [
            "Epoch 1, Training Loss: 2.1312\n",
            "Epoch 10, Training Loss: 1.3409\n",
            "Epoch 20, Training Loss: 1.1289\n",
            "Epoch 30, Training Loss: 1.0312\n",
            "Epoch 40, Training Loss: 0.9703\n",
            "Epoch 50, Training Loss: 0.9265\n",
            "Epoch 60, Training Loss: 0.8933\n",
            "Epoch 70, Training Loss: 0.8669\n",
            "Epoch 80, Training Loss: 0.8480\n",
            "Epoch 90, Training Loss: 0.8310\n",
            "Epoch 100, Training Loss: 0.8170\n",
            "Epoch 110, Training Loss: 0.8030\n",
            "Epoch 120, Training Loss: 0.7900\n",
            "Epoch 130, Training Loss: 0.7840\n",
            "Epoch 140, Training Loss: 0.7745\n",
            "Epoch 150, Training Loss: 0.7655\n",
            "Epoch 160, Training Loss: 0.7583\n",
            "Epoch 170, Training Loss: 0.7526\n",
            "Epoch 180, Training Loss: 0.7471\n",
            "Epoch 190, Training Loss: 0.7401\n",
            "Epoch 200, Training Loss: 0.7361\n"
          ]
        }
      ],
      "source": [
        "train_loader = torch.utils.data.DataLoader(cifar10, batch_size=64, shuffle=True)\n",
        "model_layer_2 = Net_2()\n",
        "optimizer_2_layer = optim.SGD(model_layer_2.parameters(), lr=learning_rate)\n",
        "loss_fn = nn.CrossEntropyLoss()\n",
        "\n",
        "training_loop(\n",
        "    n_epochs = 200,\n",
        "    optimizer = optimizer_2_layer,\n",
        "    model = model_layer_2,\n",
        "    loss_fn = loss_fn,\n",
        "    train_loader = train_loader)"
      ]
    },
    {
      "cell_type": "code",
      "source": [
        "import torch\n",
        "train_loader = torch.utils.data.DataLoader(cifar10, batch_size=64, shuffle=False)\n",
        "\n",
        "correct = 0\n",
        "total = 0\n",
        "\n",
        "with torch.no_grad():\n",
        "  for imgs, labels in train_loader:\n",
        "    outputs = model_layer_2(imgs)\n",
        "    _, predicted = torch.max(outputs, dim=1)\n",
        "    total += labels.shape[0]\n",
        "    correct += int((predicted == labels).sum())\n",
        "\n",
        "print(\"3 Layer Conv Training Accuracy: %f\" % (correct / total))\n"
      ],
      "metadata": {
        "colab": {
          "base_uri": "https://localhost:8080/"
        },
        "id": "X6Pp6QPX1dK5",
        "outputId": "ecc9632c-6360-416d-e72a-d5fbf184ef91"
      },
      "execution_count": 22,
      "outputs": [
        {
          "output_type": "stream",
          "name": "stdout",
          "text": [
            "3 Layer Conv Training Accuracy: 0.101560\n"
          ]
        }
      ]
    },
    {
      "cell_type": "code",
      "execution_count": 23,
      "metadata": {
        "id": "k4mrEyLYRoLq"
      },
      "outputs": [],
      "source": [
        "val_loader = torch.utils.data.DataLoader(cifar10_val, batch_size=64, shuffle=False)\n",
        "\n",
        "correct = 0\n",
        "total = 0\n",
        "all_preds = []\n",
        "all_labels = []\n",
        "\n",
        "with torch.no_grad():\n",
        "  for imgs, labels in val_loader:\n",
        "    outputs = model_layer_2(imgs)\n",
        "    _, predicted = torch.max(outputs, dim=1)\n",
        "    total += labels.shape[0]\n",
        "    correct += int((predicted == labels).sum())\n",
        "    all_preds.extend(predicted.cpu().numpy())\n",
        "    all_labels.extend(labels.cpu().numpy())"
      ]
    },
    {
      "cell_type": "code",
      "source": [
        "precision = precision_score(all_labels, all_preds, average='macro')\n",
        "recall = recall_score(all_labels, all_preds, average='macro')\n",
        "cnf_matrix = confusion_matrix(all_labels, all_preds)\n",
        "\n",
        "print(\"Accuracy = %f\" % (correct / total))\n",
        "print(\"Precision =  %f\" % (precision))\n",
        "print(\"Recall =  %f\" % (recall))\n",
        "print(\"F1 Score = %f\" % (2 * (precision * recall) / (precision + recall)))\n",
        "cnf_matrix"
      ],
      "metadata": {
        "colab": {
          "base_uri": "https://localhost:8080/"
        },
        "id": "wVb6jsjr1nA4",
        "outputId": "99e40929-4364-4f56-c818-6a0fe7cf9ddb"
      },
      "execution_count": 24,
      "outputs": [
        {
          "output_type": "stream",
          "name": "stdout",
          "text": [
            "Accuracy = 0.099400\n",
            "Precision =  0.035102\n",
            "Recall =  0.099400\n",
            "F1 Score = 0.051882\n"
          ]
        },
        {
          "output_type": "execute_result",
          "data": {
            "text/plain": [
              "array([[  0, 202,   0,   0,  15,   0,   0,   5, 778,   0],\n",
              "       [  0, 285,   0,   0,  10,   0,   0,   3, 702,   0],\n",
              "       [  0, 148,   0,   0,   7,   0,   0,   7, 838,   0],\n",
              "       [  0, 204,   0,   0,  22,   0,   0,  13, 761,   0],\n",
              "       [  0, 172,   0,   0,   3,   0,   0,   2, 823,   0],\n",
              "       [  0, 277,   0,   0,  48,   0,   0,   6, 669,   0],\n",
              "       [  0, 231,   0,   0,   6,   0,   0,   1, 762,   0],\n",
              "       [  0, 182,   0,   0,  27,   0,   0,   7, 784,   0],\n",
              "       [  0, 292,   0,   0,   7,   0,   0,   2, 699,   0],\n",
              "       [  0, 173,   0,   0,   5,   0,   0,  19, 803,   0]])"
            ]
          },
          "metadata": {},
          "execution_count": 24
        }
      ]
    },
    {
      "cell_type": "code",
      "source": [
        "total_params1 = sum(p.numel() for p in model_layer_1.parameters() if p.requires_grad)\n",
        "print(f'Total trainable parameters in net 1: {total_params1}')\n",
        "total_params2 = sum(p.numel() for p in model_layer_2.parameters() if p.requires_grad)\n",
        "print(f'Total trainable parameters in net 2: {total_params2}')"
      ],
      "metadata": {
        "colab": {
          "base_uri": "https://localhost:8080/"
        },
        "id": "QUvmpR1Rtt2V",
        "outputId": "03dd5471-1c30-421a-c5e8-b0d444d3c43b"
      },
      "execution_count": 25,
      "outputs": [
        {
          "output_type": "stream",
          "name": "stdout",
          "text": [
            "Total trainable parameters in net 1: 18354\n",
            "Total trainable parameters in net 2: 8654\n"
          ]
        }
      ]
    },
    {
      "cell_type": "code",
      "source": [],
      "metadata": {
        "id": "D9SODsc23ON-"
      },
      "execution_count": null,
      "outputs": []
    }
  ],
  "metadata": {
    "colab": {
      "provenance": [],
      "gpuType": "T4",
      "include_colab_link": true
    },
    "kernelspec": {
      "display_name": "Python 3",
      "name": "python3"
    },
    "language_info": {
      "name": "python"
    },
    "accelerator": "GPU"
  },
  "nbformat": 4,
  "nbformat_minor": 0
}