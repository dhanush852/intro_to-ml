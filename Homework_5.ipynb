{
  "nbformat": 4,
  "nbformat_minor": 0,
  "metadata": {
    "colab": {
      "provenance": [],
      "authorship_tag": "ABX9TyM/jFX3NNReBPZavh94WdD1",
      "include_colab_link": true
    },
    "kernelspec": {
      "name": "python3",
      "display_name": "Python 3"
    },
    "language_info": {
      "name": "python"
    }
  },
  "cells": [
    {
      "cell_type": "markdown",
      "metadata": {
        "id": "view-in-github",
        "colab_type": "text"
      },
      "source": [
        "<a href=\"https://colab.research.google.com/github/dhanush852/intro_to-ml/blob/main/Homework_5.ipynb\" target=\"_parent\"><img src=\"https://colab.research.google.com/assets/colab-badge.svg\" alt=\"Open In Colab\"/></a>"
      ]
    },
    {
      "cell_type": "code",
      "execution_count": 1,
      "metadata": {
        "id": "VfKWx_tliSOC"
      },
      "outputs": [],
      "source": [
        "import numpy as np\n",
        "import matplotlib.pyplot as plt\n",
        "import torch"
      ]
    },
    {
      "cell_type": "markdown",
      "source": [
        "1st Problem"
      ],
      "metadata": {
        "id": "jQNz2tTlmAUR"
      }
    },
    {
      "cell_type": "code",
      "source": [
        "t_c = [0.5, 14.0, 15.0, 28.0, 11.0, 8.0, 3.0, -4.0, 6.0, 13.0, 21.0]\n",
        "t_u = [35.7, 55.9, 58.2, 81.9, 56.3, 48.9, 33.9, 21.8, 48.4, 60.4, 68.4]\n",
        "t_c = torch.tensor(t_c)\n",
        "t_u = torch.tensor(t_u)"
      ],
      "metadata": {
        "id": "A0dLjGdpiUDc"
      },
      "execution_count": 77,
      "outputs": []
    },
    {
      "cell_type": "markdown",
      "source": [
        "1a Problem"
      ],
      "metadata": {
        "id": "XDtM99itmDtd"
      }
    },
    {
      "cell_type": "code",
      "source": [
        "def model(t_u, w1, w2, b):\n",
        "    return w2*t_u**2 + w1*t_u + b #w2 * t_u ** 2 + w1 * t_u + b."
      ],
      "metadata": {
        "id": "cWI94OxGiXkP"
      },
      "execution_count": 78,
      "outputs": []
    },
    {
      "cell_type": "code",
      "source": [
        "def loss_fn(t_p, t_c):\n",
        "    squared_diffs = (t_p - t_c)**2\n",
        "    return squared_diffs.mean()"
      ],
      "metadata": {
        "id": "Sk2O2bitia9N"
      },
      "execution_count": 79,
      "outputs": []
    },
    {
      "cell_type": "code",
      "source": [
        "def training_loop(n_epochs, optimizer, params, t_u, t_c):\n",
        "    for epoch in range(1, n_epochs + 1):\n",
        "        t_p = model(t_u, *params)\n",
        "        loss = loss_fn(t_p, t_c)\n",
        "\n",
        "        optimizer.zero_grad()\n",
        "        loss.backward()\n",
        "        optimizer.step()\n",
        "\n",
        "        if epoch <= 1 or epoch % 500 ==0:\n",
        "            print(f\"Epoch {epoch}, loss {loss.item():.4f}\")\n",
        "\n",
        "    return params"
      ],
      "metadata": {
        "id": "RI6YmBV8icbD"
      },
      "execution_count": 80,
      "outputs": []
    },
    {
      "cell_type": "code",
      "source": [
        "import torch.optim as optim\n",
        "\n",
        "dir(optim)"
      ],
      "metadata": {
        "colab": {
          "base_uri": "https://localhost:8080/"
        },
        "id": "R7e53VHwieWl",
        "outputId": "0d6b4524-11fa-4452-b35f-49b89f764f94"
      },
      "execution_count": 81,
      "outputs": [
        {
          "output_type": "execute_result",
          "data": {
            "text/plain": [
              "['ASGD',\n",
              " 'Adadelta',\n",
              " 'Adagrad',\n",
              " 'Adam',\n",
              " 'AdamW',\n",
              " 'Adamax',\n",
              " 'LBFGS',\n",
              " 'NAdam',\n",
              " 'Optimizer',\n",
              " 'RAdam',\n",
              " 'RMSprop',\n",
              " 'Rprop',\n",
              " 'SGD',\n",
              " 'SparseAdam',\n",
              " '__builtins__',\n",
              " '__cached__',\n",
              " '__doc__',\n",
              " '__file__',\n",
              " '__loader__',\n",
              " '__name__',\n",
              " '__package__',\n",
              " '__path__',\n",
              " '__spec__',\n",
              " '_functional',\n",
              " '_multi_tensor',\n",
              " 'lr_scheduler',\n",
              " 'swa_utils']"
            ]
          },
          "metadata": {},
          "execution_count": 81
        }
      ]
    },
    {
      "cell_type": "markdown",
      "source": [
        "1b problem\n"
      ],
      "metadata": {
        "id": "sp1T6oQuiuEh"
      }
    },
    {
      "cell_type": "code",
      "source": [
        "t_un = 0.1 * t_u\n",
        "params = torch.tensor([1.0,1.0,0.0], requires_grad=True)\n",
        "learning_rate = 0.1\n",
        "optimizer = optim.Adam([params], lr = learning_rate)\n",
        "\n",
        "training_loop(\n",
        "    n_epochs=5000,\n",
        "    optimizer = optimizer,\n",
        "    params = params,\n",
        "    t_u = t_un,\n",
        "    t_c = t_c)"
      ],
      "metadata": {
        "colab": {
          "base_uri": "https://localhost:8080/"
        },
        "id": "wHofCSjCiqT5",
        "outputId": "28fc354a-1410-417d-ad57-3aa05bbe9d2f"
      },
      "execution_count": 82,
      "outputs": [
        {
          "output_type": "stream",
          "name": "stdout",
          "text": [
            "Epoch 1, loss 675.7944\n",
            "Epoch 500, loss 2.7825\n",
            "Epoch 1000, loss 2.4860\n",
            "Epoch 1500, loss 2.2615\n",
            "Epoch 2000, loss 2.1441\n",
            "Epoch 2500, loss 2.1019\n",
            "Epoch 3000, loss 2.0921\n",
            "Epoch 3500, loss 2.0908\n",
            "Epoch 4000, loss 2.0907\n",
            "Epoch 4500, loss 2.0907\n",
            "Epoch 5000, loss 2.0907\n"
          ]
        },
        {
          "output_type": "execute_result",
          "data": {
            "text/plain": [
              "tensor([  2.4760,   0.2830, -10.6496], requires_grad=True)"
            ]
          },
          "metadata": {},
          "execution_count": 82
        }
      ]
    },
    {
      "cell_type": "code",
      "source": [
        "t_p = model(t_un, *params)\n",
        "\n",
        "plt.figure()\n",
        "\n",
        "# Set labels for the axes\n",
        "plt.xlabel('Temperature (Fahrenheit)')\n",
        "plt.ylabel('Temperature (Celsius)')\n",
        "\n",
        "# Plot the model's predictions in peachpuff color\n",
        "plt.plot(t_u.numpy(), t_p.detach().numpy(), color='red', label='Model Predictions')\n",
        "\n",
        "# Plot the actual data as points\n",
        "plt.plot(t_u.numpy(), t_c.numpy(), 'p', label='Actual Data')\n",
        "\n",
        "# Add a legend to the plot\n",
        "plt.legend()\n",
        "\n",
        "# Show the plot\n",
        "plt.show()\n"
      ],
      "metadata": {
        "colab": {
          "base_uri": "https://localhost:8080/",
          "height": 452
        },
        "id": "k3jNzeO4itR4",
        "outputId": "f4de6fab-872b-4b19-94be-708d3cb7ba35"
      },
      "execution_count": 83,
      "outputs": [
        {
          "output_type": "display_data",
          "data": {
            "text/plain": [
              "<Figure size 640x480 with 1 Axes>"
            ],
            "image/png": "[encoded data removed]"
          },
          "metadata": {}
        }
      ]
    },
    {
      "cell_type": "code",
      "source": [
        "t_un = 0.01 * t_u\n",
        "params = torch.tensor([1.0,1.0,0.0], requires_grad=True)\n",
        "learning_rate = 0.01\n",
        "optimizer = optim.Adam([params], lr = learning_rate)\n",
        "\n",
        "training_loop(\n",
        "    n_epochs=5000,\n",
        "    optimizer = optimizer,\n",
        "    params = params,\n",
        "    t_u = t_un,\n",
        "    t_c = t_c)"
      ],
      "metadata": {
        "colab": {
          "base_uri": "https://localhost:8080/"
        },
        "id": "o0q238e-i2Wx",
        "outputId": "89201c10-539b-4ecc-ad35-331c34ecb6f9"
      },
      "execution_count": 84,
      "outputs": [
        {
          "output_type": "stream",
          "name": "stdout",
          "text": [
            "Epoch 1, loss 165.4495\n",
            "Epoch 500, loss 57.9494\n",
            "Epoch 1000, loss 40.5514\n",
            "Epoch 1500, loss 33.9744\n",
            "Epoch 2000, loss 27.2750\n",
            "Epoch 2500, loss 20.7528\n",
            "Epoch 3000, loss 14.9406\n",
            "Epoch 3500, loss 10.1993\n",
            "Epoch 4000, loss 6.6878\n",
            "Epoch 4500, loss 4.3673\n",
            "Epoch 5000, loss 3.0380\n"
          ]
        },
        {
          "output_type": "execute_result",
          "data": {
            "text/plain": [
              "tensor([19.8351, 27.2414, -7.6692], requires_grad=True)"
            ]
          },
          "metadata": {},
          "execution_count": 84
        }
      ]
    },
    {
      "cell_type": "code",
      "source": [
        "t_un.numpy()"
      ],
      "metadata": {
        "colab": {
          "base_uri": "https://localhost:8080/"
        },
        "id": "GJ70wAn-i39_",
        "outputId": "4bdba0fa-c1c3-4bae-830e-a7d07b399ee4"
      },
      "execution_count": 10,
      "outputs": [
        {
          "output_type": "execute_result",
          "data": {
            "text/plain": [
              "array([3.5700002, 5.59     , 5.82     , 8.190001 , 5.63     , 4.8900003,\n",
              "       3.39     , 2.18     , 4.84     , 6.0400004, 6.84     ],\n",
              "      dtype=float32)"
            ]
          },
          "metadata": {},
          "execution_count": 10
        }
      ]
    },
    {
      "cell_type": "code",
      "source": [
        "t_p.detach().numpy()"
      ],
      "metadata": {
        "colab": {
          "base_uri": "https://localhost:8080/"
        },
        "id": "5YHimBcGi5f5",
        "outputId": "fc7e7406-a5ce-41b7-a7b6-7561f7ce550b"
      },
      "execution_count": 11,
      "outputs": [
        {
          "output_type": "execute_result",
          "data": {
            "text/plain": [
              "array([ 1.7972012, 12.035997 , 13.348276 , 28.614595 , 12.262068 ,\n",
              "        8.226366 ,  0.9969187, -3.9067006,  7.964863 , 14.631525 ,\n",
              "       19.528837 ], dtype=float32)"
            ]
          },
          "metadata": {},
          "execution_count": 11
        }
      ]
    },
    {
      "cell_type": "code",
      "source": [
        "t_p = model(t_un, *params)\n",
        "\n",
        "plt.figure()\n",
        "\n",
        "# Set labels for the axes\n",
        "plt.xlabel('Temperature (Fahrenheit)')\n",
        "plt.ylabel('Temperature (Celsius)')\n",
        "\n",
        "# Plot the nodel's predictions in peachpuff color\n",
        "plt.plot(t_u.numpy(), t_p.detach().numpy(), color='red', label='Model Predictions')\n",
        "\n",
        "# Plot the actual data as points\n",
        "plt.plot(t_u.numpy(), t_c.numpy(), 'p', label='Actual Data')\n",
        "\n",
        "# Add a legend to the plot\n",
        "plt.legend()\n",
        "\n",
        "# Show the plot\n",
        "plt.show()\n"
      ],
      "metadata": {
        "colab": {
          "base_uri": "https://localhost:8080/",
          "height": 449
        },
        "id": "CS63WHHfi7dw",
        "outputId": "fdf76b59-5911-4453-e25e-8aca99dbb65b"
      },
      "execution_count": 85,
      "outputs": [
        {
          "output_type": "display_data",
          "data": {
            "text/plain": [
              "<Figure size 640x480 with 1 Axes>"
            ],
            "image/png": "[encoded data removed]"
          },
          "metadata": {}
        }
      ]
    },
    {
      "cell_type": "code",
      "source": [
        "t_un = 0.01 * t_u\n",
        "params = torch.tensor([1.0,1.0,0.0], requires_grad=True)\n",
        "learning_rate = 0.001\n",
        "optimizer = optim.Adam([params], lr = learning_rate)\n",
        "\n",
        "training_loop(\n",
        "    n_epochs=5000,\n",
        "    optimizer = optimizer,\n",
        "    params = params,\n",
        "    t_u = t_un,\n",
        "    t_c = t_c)"
      ],
      "metadata": {
        "colab": {
          "base_uri": "https://localhost:8080/"
        },
        "id": "FrcsBzGBi93C",
        "outputId": "cfdc6e14-2f88-4c1d-c0f0-420555ef3c7a"
      },
      "execution_count": 86,
      "outputs": [
        {
          "output_type": "stream",
          "name": "stdout",
          "text": [
            "Epoch 1, loss 165.4495\n",
            "Epoch 500, loss 146.4046\n",
            "Epoch 1000, loss 129.5789\n",
            "Epoch 1500, loss 114.7723\n",
            "Epoch 2000, loss 101.7867\n",
            "Epoch 2500, loss 90.4592\n",
            "Epoch 3000, loss 80.6544\n",
            "Epoch 3500, loss 72.2552\n",
            "Epoch 4000, loss 65.1566\n",
            "Epoch 4500, loss 59.2574\n",
            "Epoch 5000, loss 54.4534\n"
          ]
        },
        {
          "output_type": "execute_result",
          "data": {
            "text/plain": [
              "tensor([5.2978, 5.4165, 4.0355], requires_grad=True)"
            ]
          },
          "metadata": {},
          "execution_count": 86
        }
      ]
    },
    {
      "cell_type": "code",
      "source": [
        "t_p = model(t_u, *params)\n",
        "\n",
        "plt.figure()\n",
        "\n",
        "# Set labels for the axes\n",
        "plt.xlabel('Temperature (Fahrenheit)')\n",
        "plt.ylabel('Temperature (Celsius)')\n",
        "\n",
        "# Plot the model's predictions in peachpuff color\n",
        "plt.plot(t_u.numpy(), t_p.detach().numpy(), color='red', label='Model Predictions')\n",
        "\n",
        "# Plot the actual data as points\n",
        "plt.plot(t_u.numpy(), t_c.numpy(), 'p', label='Actual Data')\n",
        "\n",
        "# Add a legend to the plot\n",
        "plt.legend()\n",
        "\n",
        "# Show the plot\n",
        "plt.show()"
      ],
      "metadata": {
        "colab": {
          "base_uri": "https://localhost:8080/",
          "height": 449
        },
        "id": "Oq-A5Veqi_67",
        "outputId": "1771a962-d3c2-44ec-c44a-7540703d2b32"
      },
      "execution_count": 87,
      "outputs": [
        {
          "output_type": "display_data",
          "data": {
            "text/plain": [
              "<Figure size 640x480 with 1 Axes>"
            ],
            "image/png": "[encoded data removed]"
          },
          "metadata": {}
        }
      ]
    },
    {
      "cell_type": "code",
      "source": [
        "t_un = 0.01 * t_u\n",
        "params = torch.tensor([1.0,1.0,0.0], requires_grad=True)\n",
        "learning_rate = 0.0001\n",
        "optimizer = optim.Adam([params], lr = learning_rate)\n",
        "\n",
        "training_loop(\n",
        "    n_epochs=5000,\n",
        "    optimizer = optimizer,\n",
        "    params = params,\n",
        "    t_u = t_un,\n",
        "    t_c = t_c)"
      ],
      "metadata": {
        "colab": {
          "base_uri": "https://localhost:8080/"
        },
        "id": "vL-I75D3jCQE",
        "outputId": "97c45946-0a03-4980-bea6-ef7918ce53b8"
      },
      "execution_count": 88,
      "outputs": [
        {
          "output_type": "stream",
          "name": "stdout",
          "text": [
            "Epoch 1, loss 165.4495\n",
            "Epoch 500, loss 163.4383\n",
            "Epoch 1000, loss 161.4469\n",
            "Epoch 1500, loss 159.4780\n",
            "Epoch 2000, loss 157.5304\n",
            "Epoch 2500, loss 155.6028\n",
            "Epoch 3000, loss 153.6945\n",
            "Epoch 3500, loss 151.8047\n",
            "Epoch 4000, loss 149.9329\n",
            "Epoch 4500, loss 148.0788\n",
            "Epoch 5000, loss 146.2419\n"
          ]
        },
        {
          "output_type": "execute_result",
          "data": {
            "text/plain": [
              "tensor([1.4946, 1.4952, 0.4935], requires_grad=True)"
            ]
          },
          "metadata": {},
          "execution_count": 88
        }
      ]
    },
    {
      "cell_type": "code",
      "source": [
        "t_p = model(t_un, *params)\n",
        "\n",
        "plt.figure()\n",
        "\n",
        "# Set labels for the axes\n",
        "plt.xlabel('Temperature (Fahrenheit)')\n",
        "plt.ylabel('Temperature (Celsius)')\n",
        "\n",
        "# Plot the model's predictions in peachpuff color\n",
        "plt.plot(t_u.numpy(), t_p.detach().numpy(), color='red', label='Model Predictions')\n",
        "\n",
        "# Plot the actual data as points\n",
        "plt.plot(t_u.numpy(), t_c.numpy(), 'p', label='Actual Data')\n",
        "\n",
        "# Add a legend to the plot\n",
        "plt.legend()\n",
        "\n",
        "# Show the plot\n",
        "plt.show()"
      ],
      "metadata": {
        "colab": {
          "base_uri": "https://localhost:8080/",
          "height": 449
        },
        "id": "8IHN5fmNjEK_",
        "outputId": "c16aa541-8ac0-4b01-9800-a733daa9efca"
      },
      "execution_count": 89,
      "outputs": [
        {
          "output_type": "display_data",
          "data": {
            "text/plain": [
              "<Figure size 640x480 with 1 Axes>"
            ],
            "image/png": "[encoded data removed]"
          },
          "metadata": {}
        }
      ]
    },
    {
      "cell_type": "code",
      "source": [
        "t_un = 0.01 * t_u\n",
        "params = torch.tensor([1.0,1.0,0.0], requires_grad=True)\n",
        "learning_rate = 0.1\n",
        "optimizer = optim.SGD([params], lr = learning_rate)\n",
        "\n",
        "training_loop(\n",
        "    n_epochs=5000,\n",
        "    optimizer = optimizer,\n",
        "    params = params,\n",
        "    t_u = t_un,\n",
        "    t_c = t_c)"
      ],
      "metadata": {
        "colab": {
          "base_uri": "https://localhost:8080/"
        },
        "id": "XgmN5_5CjGlP",
        "outputId": "db9709b9-b17e-46f5-a1e1-872cfa04b409"
      },
      "execution_count": 90,
      "outputs": [
        {
          "output_type": "stream",
          "name": "stdout",
          "text": [
            "Epoch 1, loss 165.4495\n",
            "Epoch 500, loss 2.1085\n",
            "Epoch 1000, loss 2.0907\n",
            "Epoch 1500, loss 2.0907\n",
            "Epoch 2000, loss 2.0907\n",
            "Epoch 2500, loss 2.0907\n",
            "Epoch 3000, loss 2.0907\n",
            "Epoch 3500, loss 2.0907\n",
            "Epoch 4000, loss 2.0907\n",
            "Epoch 4500, loss 2.0907\n",
            "Epoch 5000, loss 2.0907\n"
          ]
        },
        {
          "output_type": "execute_result",
          "data": {
            "text/plain": [
              "tensor([ 24.7210,  28.3420, -10.6403], requires_grad=True)"
            ]
          },
          "metadata": {},
          "execution_count": 90
        }
      ]
    },
    {
      "cell_type": "code",
      "source": [
        "t_p = model(t_un, *params)\n",
        "\n",
        "plt.figure()\n",
        "\n",
        "# Set labels for the axes\n",
        "plt.xlabel('Temperature (Fahrenheit)')\n",
        "plt.ylabel('Temperature (Celsius)')\n",
        "\n",
        "# Plot the model's predictions in peachpuff color\n",
        "plt.plot(t_u.numpy(), t_p.detach().numpy(), color='red', label='Model Predictions')\n",
        "\n",
        "# Plot the actual data as points\n",
        "plt.plot(t_u.numpy(), t_c.numpy(), 'p', label='Actual Data')\n",
        "\n",
        "# Add a legend to the plot\n",
        "plt.legend()\n",
        "\n",
        "# Show the plot\n",
        "plt.show()"
      ],
      "metadata": {
        "colab": {
          "base_uri": "https://localhost:8080/",
          "height": 452
        },
        "id": "0rn4WbLcjIan",
        "outputId": "b3d270b7-cc15-44d7-de4d-e9deb097d845"
      },
      "execution_count": 91,
      "outputs": [
        {
          "output_type": "display_data",
          "data": {
            "text/plain": [
              "<Figure size 640x480 with 1 Axes>"
            ],
            "image/png": "[encoded data removed]"
          },
          "metadata": {}
        }
      ]
    },
    {
      "cell_type": "code",
      "source": [
        "t_un = 0.1* t_u\n",
        "params = torch.tensor([1.0,1.0,0.0], requires_grad=True)\n",
        "learning_rate = 0.00000001\n",
        "optimizer = optim.SGD([params], lr = learning_rate)\n",
        "\n",
        "training_loop(\n",
        "    n_epochs=5000,\n",
        "    optimizer = optimizer,\n",
        "    params = params,\n",
        "    t_u = t_un,\n",
        "    t_c = t_c)"
      ],
      "metadata": {
        "colab": {
          "base_uri": "https://localhost:8080/"
        },
        "id": "eoc6pIqpjKYu",
        "outputId": "0aa14f17-131c-461c-9730-3c776edbb185"
      },
      "execution_count": 92,
      "outputs": [
        {
          "output_type": "stream",
          "name": "stdout",
          "text": [
            "Epoch 1, loss 675.7944\n",
            "Epoch 500, loss 660.4702\n",
            "Epoch 1000, loss 645.4760\n",
            "Epoch 1500, loss 630.8257\n",
            "Epoch 2000, loss 616.5156\n",
            "Epoch 2500, loss 602.5386\n",
            "Epoch 3000, loss 588.8858\n",
            "Epoch 3500, loss 575.5479\n",
            "Epoch 4000, loss 562.5198\n",
            "Epoch 4500, loss 549.7927\n",
            "Epoch 5000, loss 537.3621\n"
          ]
        },
        {
          "output_type": "execute_result",
          "data": {
            "text/plain": [
              "tensor([ 0.9868,  0.9179, -0.0023], requires_grad=True)"
            ]
          },
          "metadata": {},
          "execution_count": 92
        }
      ]
    },
    {
      "cell_type": "code",
      "source": [
        "t_p = model(t_un, *params)\n",
        "\n",
        "plt.figure()\n",
        "\n",
        "# Set labels for the axes\n",
        "plt.xlabel('Temperature (Fahrenheit)')\n",
        "plt.ylabel('Temperature (Celsius)')\n",
        "\n",
        "# Plot the model's predictions in peachpuff color\n",
        "plt.plot(t_u.numpy(), t_p.detach().numpy(), color='red', label='Model Predictions')\n",
        "\n",
        "# Plot the actual data as points\n",
        "plt.plot(t_u.numpy(), t_c.numpy(), 'p', label='Actual Data')\n",
        "\n",
        "# Add a legend to the plot\n",
        "plt.legend()\n",
        "\n",
        "# Show the plot\n",
        "plt.show()"
      ],
      "metadata": {
        "colab": {
          "base_uri": "https://localhost:8080/",
          "height": 449
        },
        "id": "usEvfyVGjMkx",
        "outputId": "ad543c45-fec1-4276-98e7-9533626f3c1e"
      },
      "execution_count": 94,
      "outputs": [
        {
          "output_type": "display_data",
          "data": {
            "text/plain": [
              "<Figure size 640x480 with 1 Axes>"
            ],
            "image/png": "[encoded data removed]"
          },
          "metadata": {}
        }
      ]
    },
    {
      "cell_type": "code",
      "source": [
        "t_un = 0.1*t_u\n",
        "params = torch.tensor([1.0,1.0,0.0], requires_grad=True)\n",
        "learning_rate = 0.01\n",
        "optimizer = optim.SGD([params], lr = learning_rate)\n",
        "\n",
        "training_loop(\n",
        "    n_epochs=5000,\n",
        "    optimizer = optimizer,\n",
        "    params = params,\n",
        "    t_u = t_un,\n",
        "    t_c = t_c)"
      ],
      "metadata": {
        "colab": {
          "base_uri": "https://localhost:8080/"
        },
        "id": "tIaYccFvjO7x",
        "outputId": "c93c6676-ccf6-463d-dfad-306c536748d0"
      },
      "execution_count": 95,
      "outputs": [
        {
          "output_type": "stream",
          "name": "stdout",
          "text": [
            "Epoch 1, loss 675.7944\n",
            "Epoch 500, loss nan\n",
            "Epoch 1000, loss nan\n",
            "Epoch 1500, loss nan\n",
            "Epoch 2000, loss nan\n",
            "Epoch 2500, loss nan\n",
            "Epoch 3000, loss nan\n",
            "Epoch 3500, loss nan\n",
            "Epoch 4000, loss nan\n",
            "Epoch 4500, loss nan\n",
            "Epoch 5000, loss nan\n"
          ]
        },
        {
          "output_type": "execute_result",
          "data": {
            "text/plain": [
              "tensor([nan, nan, nan], requires_grad=True)"
            ]
          },
          "metadata": {},
          "execution_count": 95
        }
      ]
    },
    {
      "cell_type": "markdown",
      "source": [
        "2nd Problem"
      ],
      "metadata": {
        "id": "Ym-ry9I4lwlh"
      }
    },
    {
      "cell_type": "code",
      "source": [
        "import pandas as pd\n",
        "from sklearn.preprocessing import StandardScaler, MinMaxScaler"
      ],
      "metadata": {
        "id": "RstfaKqRjQo1"
      },
      "execution_count": 96,
      "outputs": []
    },
    {
      "cell_type": "code",
      "source": [
        "#Use the URL for the raw CSV data\n",
        "url = 'https://raw.githubusercontent.com/dhanush852/intro_to-ml/main/Housing.csv'\n",
        "df = pd.read_csv(url)\n",
        "\n",
        "# Display the first 5 rows of the DataFrame\n",
        "df.head()"
      ],
      "metadata": {
        "colab": {
          "base_uri": "https://localhost:8080/",
          "height": 206
        },
        "id": "eaGE5vWfjSkM",
        "outputId": "5b5a0bd5-c489-49ad-d2c8-a03d2f6e220d"
      },
      "execution_count": 97,
      "outputs": [
        {
          "output_type": "execute_result",
          "data": {
            "text/plain": [
              "      price  area  bedrooms  bathrooms  stories mainroad guestroom basement  \\\n",
              "0  13300000  7420         4          2        3      yes        no       no   \n",
              "1  12250000  8960         4          4        4      yes        no       no   \n",
              "2  12250000  9960         3          2        2      yes        no      yes   \n",
              "3  12215000  7500         4          2        2      yes        no      yes   \n",
              "4  11410000  7420         4          1        2      yes       yes      yes   \n",
              "\n",
              "  hotwaterheating airconditioning  parking prefarea furnishingstatus  \n",
              "0              no             yes        2      yes        furnished  \n",
              "1              no             yes        3       no        furnished  \n",
              "2              no              no        2      yes   semi-furnished  \n",
              "3              no             yes        3      yes        furnished  \n",
              "4              no             yes        2       no        furnished  "
            ],
            "text/html": [
              "\n",
              "  <div id=\"df-b29bbff3-f102-46bc-a80f-4f3928d8903b\" class=\"colab-df-container\">\n",
              "    <div>\n",
              "<style scoped>\n",
              "    .dataframe tbody tr th:only-of-type {\n",
              "        vertical-align: middle;\n",
              "    }\n",
              "\n",
              "    .dataframe tbody tr th {\n",
              "        vertical-align: top;\n",
              "    }\n",
              "\n",
              "    .dataframe thead th {\n",
              "        text-align: right;\n",
              "    }\n",
              "</style>\n",
              "<table border=\"1\" class=\"dataframe\">\n",
              "  <thead>\n",
              "    <tr style=\"text-align: right;\">\n",
              "      <th></th>\n",
              "      <th>price</th>\n",
              "      <th>area</th>\n",
              "      <th>bedrooms</th>\n",
              "      <th>bathrooms</th>\n",
              "      <th>stories</th>\n",
              "      <th>mainroad</th>\n",
              "      <th>guestroom</th>\n",
              "      <th>basement</th>\n",
              "      <th>hotwaterheating</th>\n",
              "      <th>airconditioning</th>\n",
              "      <th>parking</th>\n",
              "      <th>prefarea</th>\n",
              "      <th>furnishingstatus</th>\n",
              "    </tr>\n",
              "  </thead>\n",
              "  <tbody>\n",
              "    <tr>\n",
              "      <th>0</th>\n",
              "      <td>13300000</td>\n",
              "      <td>7420</td>\n",
              "      <td>4</td>\n",
              "      <td>2</td>\n",
              "      <td>3</td>\n",
              "      <td>yes</td>\n",
              "      <td>no</td>\n",
              "      <td>no</td>\n",
              "      <td>no</td>\n",
              "      <td>yes</td>\n",
              "      <td>2</td>\n",
              "      <td>yes</td>\n",
              "      <td>furnished</td>\n",
              "    </tr>\n",
              "    <tr>\n",
              "      <th>1</th>\n",
              "      <td>12250000</td>\n",
              "      <td>8960</td>\n",
              "      <td>4</td>\n",
              "      <td>4</td>\n",
              "      <td>4</td>\n",
              "      <td>yes</td>\n",
              "      <td>no</td>\n",
              "      <td>no</td>\n",
              "      <td>no</td>\n",
              "      <td>yes</td>\n",
              "      <td>3</td>\n",
              "      <td>no</td>\n",
              "      <td>furnished</td>\n",
              "    </tr>\n",
              "    <tr>\n",
              "      <th>2</th>\n",
              "      <td>12250000</td>\n",
              "      <td>9960</td>\n",
              "      <td>3</td>\n",
              "      <td>2</td>\n",
              "      <td>2</td>\n",
              "      <td>yes</td>\n",
              "      <td>no</td>\n",
              "      <td>yes</td>\n",
              "      <td>no</td>\n",
              "      <td>no</td>\n",
              "      <td>2</td>\n",
              "      <td>yes</td>\n",
              "      <td>semi-furnished</td>\n",
              "    </tr>\n",
              "    <tr>\n",
              "      <th>3</th>\n",
              "      <td>12215000</td>\n",
              "      <td>7500</td>\n",
              "      <td>4</td>\n",
              "      <td>2</td>\n",
              "      <td>2</td>\n",
              "      <td>yes</td>\n",
              "      <td>no</td>\n",
              "      <td>yes</td>\n",
              "      <td>no</td>\n",
              "      <td>yes</td>\n",
              "      <td>3</td>\n",
              "      <td>yes</td>\n",
              "      <td>furnished</td>\n",
              "    </tr>\n",
              "    <tr>\n",
              "      <th>4</th>\n",
              "      <td>11410000</td>\n",
              "      <td>7420</td>\n",
              "      <td>4</td>\n",
              "      <td>1</td>\n",
              "      <td>2</td>\n",
              "      <td>yes</td>\n",
              "      <td>yes</td>\n",
              "      <td>yes</td>\n",
              "      <td>no</td>\n",
              "      <td>yes</td>\n",
              "      <td>2</td>\n",
              "      <td>no</td>\n",
              "      <td>furnished</td>\n",
              "    </tr>\n",
              "  </tbody>\n",
              "</table>\n",
              "</div>\n",
              "    <div class=\"colab-df-buttons\">\n",
              "\n",
              "  <div class=\"colab-df-container\">\n",
              "    <button class=\"colab-df-convert\" onclick=\"convertToInteractive('df-b29bbff3-f102-46bc-a80f-4f3928d8903b')\"\n",
              "            title=\"Convert this dataframe to an interactive table.\"\n",
              "            style=\"display:none;\">\n",
              "\n",
              "  <svg xmlns=\"http://www.w3.org/2000/svg\" height=\"24px\" viewBox=\"0 -960 960 960\">\n",
              "    <path d=\"M120-120v-720h720v720H120Zm60-500h600v-160H180v160Zm220 220h160v-160H400v160Zm0 220h160v-160H400v160ZM180-400h160v-160H180v160Zm440 0h160v-160H620v160ZM180-180h160v-160H180v160Zm440 0h160v-160H620v160Z\"/>\n",
              "  </svg>\n",
              "    </button>\n",
              "\n",
              "  <style>\n",
              "    .colab-df-container {\n",
              "      display:flex;\n",
              "      gap: 12px;\n",
              "    }\n",
              "\n",
              "    .colab-df-convert {\n",
              "      background-color: #E8F0FE;\n",
              "      border: none;\n",
              "      border-radius: 50%;\n",
              "      cursor: pointer;\n",
              "      display: none;\n",
              "      fill: #1967D2;\n",
              "      height: 32px;\n",
              "      padding: 0 0 0 0;\n",
              "      width: 32px;\n",
              "    }\n",
              "\n",
              "    .colab-df-convert:hover {\n",
              "      background-color: #E2EBFA;\n",
              "      box-shadow: 0px 1px 2px rgba(60, 64, 67, 0.3), 0px 1px 3px 1px rgba(60, 64, 67, 0.15);\n",
              "      fill: #174EA6;\n",
              "    }\n",
              "\n",
              "    .colab-df-buttons div {\n",
              "      margin-bottom: 4px;\n",
              "    }\n",
              "\n",
              "    [theme=dark] .colab-df-convert {\n",
              "      background-color: #3B4455;\n",
              "      fill: #D2E3FC;\n",
              "    }\n",
              "\n",
              "    [theme=dark] .colab-df-convert:hover {\n",
              "      background-color: #434B5C;\n",
              "      box-shadow: 0px 1px 3px 1px rgba(0, 0, 0, 0.15);\n",
              "      filter: drop-shadow(0px 1px 2px rgba(0, 0, 0, 0.3));\n",
              "      fill: #FFFFFF;\n",
              "    }\n",
              "  </style>\n",
              "\n",
              "    <script>\n",
              "      const buttonEl =\n",
              "        document.querySelector('#df-b29bbff3-f102-46bc-a80f-4f3928d8903b button.colab-df-convert');\n",
              "      buttonEl.style.display =\n",
              "        google.colab.kernel.accessAllowed ? 'block' : 'none';\n",
              "\n",
              "      async function convertToInteractive(key) {\n",
              "        const element = document.querySelector('#df-b29bbff3-f102-46bc-a80f-4f3928d8903b');\n",
              "        const dataTable =\n",
              "          await google.colab.kernel.invokeFunction('convertToInteractive',\n",
              "                                                    [key], {});\n",
              "        if (!dataTable) return;\n",
              "\n",
              "        const docLinkHtml = 'Like what you see? Visit the ' +\n",
              "          '<a target=\"_blank\" href=https://colab.research.google.com/notebooks/data_table.ipynb>data table notebook</a>'\n",
              "          + ' to learn more about interactive tables.';\n",
              "        element.innerHTML = '';\n",
              "        dataTable['output_type'] = 'display_data';\n",
              "        await google.colab.output.renderOutput(dataTable, element);\n",
              "        const docLink = document.createElement('div');\n",
              "        docLink.innerHTML = docLinkHtml;\n",
              "        element.appendChild(docLink);\n",
              "      }\n",
              "    </script>\n",
              "  </div>\n",
              "\n",
              "\n",
              "<div id=\"df-6ea1e34c-2012-4033-97fd-79442fd856b0\">\n",
              "  <button class=\"colab-df-quickchart\" onclick=\"quickchart('df-6ea1e34c-2012-4033-97fd-79442fd856b0')\"\n",
              "            title=\"Suggest charts\"\n",
              "            style=\"display:none;\">\n",
              "\n",
              "<svg xmlns=\"http://www.w3.org/2000/svg\" height=\"24px\"viewBox=\"0 0 24 24\"\n",
              "     width=\"24px\">\n",
              "    <g>\n",
              "        <path d=\"M19 3H5c-1.1 0-2 .9-2 2v14c0 1.1.9 2 2 2h14c1.1 0 2-.9 2-2V5c0-1.1-.9-2-2-2zM9 17H7v-7h2v7zm4 0h-2V7h2v10zm4 0h-2v-4h2v4z\"/>\n",
              "    </g>\n",
              "</svg>\n",
              "  </button>\n",
              "\n",
              "<style>\n",
              "  .colab-df-quickchart {\n",
              "      --bg-color: #E8F0FE;\n",
              "      --fill-color: #1967D2;\n",
              "      --hover-bg-color: #E2EBFA;\n",
              "      --hover-fill-color: #174EA6;\n",
              "      --disabled-fill-color: #AAA;\n",
              "      --disabled-bg-color: #DDD;\n",
              "  }\n",
              "\n",
              "  [theme=dark] .colab-df-quickchart {\n",
              "      --bg-color: #3B4455;\n",
              "      --fill-color: #D2E3FC;\n",
              "      --hover-bg-color: #434B5C;\n",
              "      --hover-fill-color: #FFFFFF;\n",
              "      --disabled-bg-color: #3B4455;\n",
              "      --disabled-fill-color: #666;\n",
              "  }\n",
              "\n",
              "  .colab-df-quickchart {\n",
              "    background-color: var(--bg-color);\n",
              "    border: none;\n",
              "    border-radius: 50%;\n",
              "    cursor: pointer;\n",
              "    display: none;\n",
              "    fill: var(--fill-color);\n",
              "    height: 32px;\n",
              "    padding: 0;\n",
              "    width: 32px;\n",
              "  }\n",
              "\n",
              "  .colab-df-quickchart:hover {\n",
              "    background-color: var(--hover-bg-color);\n",
              "    box-shadow: 0 1px 2px rgba(60, 64, 67, 0.3), 0 1px 3px 1px rgba(60, 64, 67, 0.15);\n",
              "    fill: var(--button-hover-fill-color);\n",
              "  }\n",
              "\n",
              "  .colab-df-quickchart-complete:disabled,\n",
              "  .colab-df-quickchart-complete:disabled:hover {\n",
              "    background-color: var(--disabled-bg-color);\n",
              "    fill: var(--disabled-fill-color);\n",
              "    box-shadow: none;\n",
              "  }\n",
              "\n",
              "  .colab-df-spinner {\n",
              "    border: 2px solid var(--fill-color);\n",
              "    border-color: transparent;\n",
              "    border-bottom-color: var(--fill-color);\n",
              "    animation:\n",
              "      spin 1s steps(1) infinite;\n",
              "  }\n",
              "\n",
              "  @keyframes spin {\n",
              "    0% {\n",
              "      border-color: transparent;\n",
              "      border-bottom-color: var(--fill-color);\n",
              "      border-left-color: var(--fill-color);\n",
              "    }\n",
              "    20% {\n",
              "      border-color: transparent;\n",
              "      border-left-color: var(--fill-color);\n",
              "      border-top-color: var(--fill-color);\n",
              "    }\n",
              "    30% {\n",
              "      border-color: transparent;\n",
              "      border-left-color: var(--fill-color);\n",
              "      border-top-color: var(--fill-color);\n",
              "      border-right-color: var(--fill-color);\n",
              "    }\n",
              "    40% {\n",
              "      border-color: transparent;\n",
              "      border-right-color: var(--fill-color);\n",
              "      border-top-color: var(--fill-color);\n",
              "    }\n",
              "    60% {\n",
              "      border-color: transparent;\n",
              "      border-right-color: var(--fill-color);\n",
              "    }\n",
              "    80% {\n",
              "      border-color: transparent;\n",
              "      border-right-color: var(--fill-color);\n",
              "      border-bottom-color: var(--fill-color);\n",
              "    }\n",
              "    90% {\n",
              "      border-color: transparent;\n",
              "      border-bottom-color: var(--fill-color);\n",
              "    }\n",
              "  }\n",
              "</style>\n",
              "\n",
              "  <script>\n",
              "    async function quickchart(key) {\n",
              "      const quickchartButtonEl =\n",
              "        document.querySelector('#' + key + ' button');\n",
              "      quickchartButtonEl.disabled = true;  // To prevent multiple clicks.\n",
              "      quickchartButtonEl.classList.add('colab-df-spinner');\n",
              "      try {\n",
              "        const charts = await google.colab.kernel.invokeFunction(\n",
              "            'suggestCharts', [key], {});\n",
              "      } catch (error) {\n",
              "        console.error('Error during call to suggestCharts:', error);\n",
              "      }\n",
              "      quickchartButtonEl.classList.remove('colab-df-spinner');\n",
              "      quickchartButtonEl.classList.add('colab-df-quickchart-complete');\n",
              "    }\n",
              "    (() => {\n",
              "      let quickchartButtonEl =\n",
              "        document.querySelector('#df-6ea1e34c-2012-4033-97fd-79442fd856b0 button');\n",
              "      quickchartButtonEl.style.display =\n",
              "        google.colab.kernel.accessAllowed ? 'block' : 'none';\n",
              "    })();\n",
              "  </script>\n",
              "</div>\n",
              "    </div>\n",
              "  </div>\n"
            ]
          },
          "metadata": {},
          "execution_count": 97
        }
      ]
    },
    {
      "cell_type": "code",
      "source": [
        "input_features = ['area', 'bedrooms', 'bathrooms', 'stories', 'parking']\n",
        "output_feature = 'price'"
      ],
      "metadata": {
        "id": "EM1NMLthjZjT"
      },
      "execution_count": 24,
      "outputs": []
    },
    {
      "cell_type": "code",
      "source": [
        "scaler = StandardScaler()\n",
        "df[input_features + [output_feature]] = scaler.fit_transform(df[input_features + [output_feature]])"
      ],
      "metadata": {
        "id": "Fnov6E71jcJS"
      },
      "execution_count": 98,
      "outputs": []
    },
    {
      "cell_type": "code",
      "source": [
        "from sklearn.model_selection import train_test_split\n",
        "\n",
        "X = df[input_features].values\n",
        "y = df[[output_feature]].values"
      ],
      "metadata": {
        "id": "-SvpKGr3jdvq"
      },
      "execution_count": 99,
      "outputs": []
    },
    {
      "cell_type": "code",
      "source": [
        "X_t = torch.tensor(X)\n",
        "y_t = torch.tensor(y)"
      ],
      "metadata": {
        "id": "_ex5sNDOrE_C"
      },
      "execution_count": 103,
      "outputs": []
    },
    {
      "cell_type": "code",
      "source": [
        "def model(X, W1, W2, W3, W4, W5, B):\n",
        "    return W5*X[:,4] + W4*X[:,3] + W3*X[:,2] + W2*X[:,1] + W1*X[:,0] + B"
      ],
      "metadata": {
        "id": "k5GddiPZjflL"
      },
      "execution_count": 104,
      "outputs": []
    },
    {
      "cell_type": "code",
      "source": [
        "np.random.seed(13)\n",
        "train_X, val_X, train_Y, val_Y = train_test_split(X_t, y_t, test_size=0.2, random_state=100)"
      ],
      "metadata": {
        "id": "fpfGakUdjhgP"
      },
      "execution_count": 105,
      "outputs": []
    },
    {
      "cell_type": "code",
      "source": [
        "train_X.shape, train_Y.shape, val_X.shape, val_Y.shape"
      ],
      "metadata": {
        "colab": {
          "base_uri": "https://localhost:8080/"
        },
        "id": "q9sVlYSPjjT4",
        "outputId": "c3675687-beb0-4bd8-e902-c7e15c54ae17"
      },
      "execution_count": 106,
      "outputs": [
        {
          "output_type": "execute_result",
          "data": {
            "text/plain": [
              "(torch.Size([436, 5]),\n",
              " torch.Size([436, 1]),\n",
              " torch.Size([109, 5]),\n",
              " torch.Size([109, 1]))"
            ]
          },
          "metadata": {},
          "execution_count": 106
        }
      ]
    },
    {
      "cell_type": "code",
      "source": [
        "def training_loop(n_epochs, optimizer, params, X_train, X_val, y_train, y_val):\n",
        "\n",
        "    for epoch in range(1, n_epochs + 1):\n",
        "        y_train_p = model(X_train, *params)\n",
        "        train_loss = loss_fn(y_train_p, y_train)\n",
        "\n",
        "        y_val_p = model(X_train, *params)\n",
        "        val_loss = loss_fn(y_val_p, y_val)\n",
        "\n",
        "        optimizer.zero_grad()\n",
        "        train_loss.backward()\n",
        "        optimizer.step()\n",
        "\n",
        "        if epoch % 500 == 0:\n",
        "            print(f\"Epoch {epoch}, Training loss {train_loss.item():.4f},\"\n",
        "                  f\" Validation loss {val_loss.item():.4f}\")\n",
        "\n",
        "    return params"
      ],
      "metadata": {
        "id": "em5sYYFdjlQU"
      },
      "execution_count": 107,
      "outputs": []
    },
    {
      "cell_type": "code",
      "source": [
        "params = torch.tensor([1.0, 1.0, 1.0, 1.0, 1.0, 0.0], requires_grad=True)\n",
        "learning_rate = 0.1\n",
        "optimizer = optim.Adam([params], lr=learning_rate)\n",
        "\n",
        "training_loop(\n",
        "    n_epochs = 5000,\n",
        "    optimizer = optimizer,\n",
        "    params = params,\n",
        "    X_train = train_X,\n",
        "    X_val = val_X,\n",
        "    y_train = train_Y,\n",
        "    y_val = val_Y)"
      ],
      "metadata": {
        "colab": {
          "base_uri": "https://localhost:8080/"
        },
        "id": "P_9qtNlxjnLM",
        "outputId": "2f53f64f-7342-4bcd-9ac9-06ba86e34398"
      },
      "execution_count": 108,
      "outputs": [
        {
          "output_type": "stream",
          "name": "stdout",
          "text": [
            "Epoch 500, Training loss 0.9961, Validation loss 1.0167\n",
            "Epoch 1000, Training loss 0.9961, Validation loss 1.0167\n",
            "Epoch 1500, Training loss 0.9961, Validation loss 1.0167\n",
            "Epoch 2000, Training loss 0.9961, Validation loss 1.0175\n",
            "Epoch 2500, Training loss 0.9961, Validation loss 1.0167\n",
            "Epoch 3000, Training loss 0.9961, Validation loss 1.0167\n",
            "Epoch 3500, Training loss 0.9961, Validation loss 1.0167\n",
            "Epoch 4000, Training loss 0.9961, Validation loss 1.0167\n",
            "Epoch 4500, Training loss 0.9961, Validation loss 1.0167\n",
            "Epoch 5000, Training loss 0.9961, Validation loss 1.0167\n"
          ]
        },
        {
          "output_type": "execute_result",
          "data": {
            "text/plain": [
              "tensor([ 5.5435e-12, -2.2354e-11,  1.8757e-11,  2.7120e-11,  6.6666e-11,\n",
              "         1.5519e-02], requires_grad=True)"
            ]
          },
          "metadata": {},
          "execution_count": 108
        }
      ]
    },
    {
      "cell_type": "code",
      "source": [
        "params = torch.tensor([1.0, 1.0, 1.0, 1.0, 1.0, 0.0], requires_grad=True)\n",
        "learning_rate = 0.01\n",
        "optimizer = optim.Adam([params], lr=learning_rate)\n",
        "\n",
        "training_loop(\n",
        "    n_epochs = 5000,\n",
        "    optimizer = optimizer,\n",
        "    params = params,\n",
        "    X_train = train_X,\n",
        "    X_val = val_X,\n",
        "    y_train = train_Y,\n",
        "    y_val = val_Y)"
      ],
      "metadata": {
        "colab": {
          "base_uri": "https://localhost:8080/"
        },
        "id": "BA43ri3pjqt4",
        "outputId": "2baae4a3-4bbb-4379-f215-9d0f50394d0c"
      },
      "execution_count": 109,
      "outputs": [
        {
          "output_type": "stream",
          "name": "stdout",
          "text": [
            "Epoch 500, Training loss 0.9961, Validation loss 1.0167\n",
            "Epoch 1000, Training loss 0.9961, Validation loss 1.0167\n",
            "Epoch 1500, Training loss 0.9961, Validation loss 1.0167\n",
            "Epoch 2000, Training loss 0.9961, Validation loss 1.0167\n",
            "Epoch 2500, Training loss 0.9961, Validation loss 1.0167\n",
            "Epoch 3000, Training loss 0.9961, Validation loss 1.0167\n",
            "Epoch 3500, Training loss 0.9961, Validation loss 1.0167\n",
            "Epoch 4000, Training loss 0.9961, Validation loss 1.0167\n",
            "Epoch 4500, Training loss 0.9961, Validation loss 1.0167\n",
            "Epoch 5000, Training loss 0.9961, Validation loss 1.0166\n"
          ]
        },
        {
          "output_type": "execute_result",
          "data": {
            "text/plain": [
              "tensor([-1.5259e-08, -1.7117e-07,  5.6357e-08,  9.3351e-08,  3.1048e-07,\n",
              "         1.6152e-02], requires_grad=True)"
            ]
          },
          "metadata": {},
          "execution_count": 109
        }
      ]
    },
    {
      "cell_type": "code",
      "source": [
        "params = torch.tensor([1.0, 1.0, 1.0, 1.0, 1.0, 0.0], requires_grad=True)\n",
        "learning_rate = 0.001\n",
        "optimizer = optim.Adam([params], lr=learning_rate)\n",
        "\n",
        "training_loop(\n",
        "    n_epochs = 5000,\n",
        "    optimizer = optimizer,\n",
        "    params = params,\n",
        "    X_train = train_X,\n",
        "    X_val = val_X,\n",
        "    y_train = train_Y,\n",
        "    y_val = val_Y)"
      ],
      "metadata": {
        "colab": {
          "base_uri": "https://localhost:8080/"
        },
        "id": "Tku3UZ6WjtCp",
        "outputId": "45165f77-6eea-44ec-c1a4-6584a3c949e5"
      },
      "execution_count": 110,
      "outputs": [
        {
          "output_type": "stream",
          "name": "stdout",
          "text": [
            "Epoch 500, Training loss 3.9224, Validation loss 3.9430\n",
            "Epoch 1000, Training loss 1.6151, Validation loss 1.6357\n",
            "Epoch 1500, Training loss 1.0697, Validation loss 1.0903\n",
            "Epoch 2000, Training loss 1.0001, Validation loss 1.0207\n",
            "Epoch 2500, Training loss 0.9962, Validation loss 1.0168\n",
            "Epoch 3000, Training loss 0.9961, Validation loss 1.0167\n",
            "Epoch 3500, Training loss 0.9961, Validation loss 1.0167\n",
            "Epoch 4000, Training loss 0.9961, Validation loss 1.0167\n",
            "Epoch 4500, Training loss 0.9961, Validation loss 1.0167\n",
            "Epoch 5000, Training loss 0.9961, Validation loss 1.0167\n"
          ]
        },
        {
          "output_type": "execute_result",
          "data": {
            "text/plain": [
              "tensor([-7.3107e-10, -6.4281e-09,  2.7522e-09,  3.5717e-09,  1.1928e-09,\n",
              "         1.5519e-02], requires_grad=True)"
            ]
          },
          "metadata": {},
          "execution_count": 110
        }
      ]
    },
    {
      "cell_type": "code",
      "source": [
        "params = torch.tensor([1.0, 1.0, 1.0, 1.0, 1.0, 0.0], requires_grad=True)\n",
        "learning_rate = 0.0001\n",
        "optimizer = optim.Adam([params], lr=learning_rate)\n",
        "\n",
        "training_loop(\n",
        "    n_epochs = 5000,\n",
        "    optimizer = optimizer,\n",
        "    params = params,\n",
        "    X_train = train_X,\n",
        "    X_val = val_X,\n",
        "    y_train = train_Y,\n",
        "    y_val = val_Y)"
      ],
      "metadata": {
        "colab": {
          "base_uri": "https://localhost:8080/"
        },
        "id": "fG386DfDjukx",
        "outputId": "7beda742-825d-48df-f966-416248edcbff"
      },
      "execution_count": 111,
      "outputs": [
        {
          "output_type": "stream",
          "name": "stdout",
          "text": [
            "Epoch 500, Training loss 9.3915, Validation loss 9.4121\n",
            "Epoch 1000, Training loss 8.5590, Validation loss 8.5795\n",
            "Epoch 1500, Training loss 7.7847, Validation loss 7.8052\n",
            "Epoch 2000, Training loss 7.0642, Validation loss 7.0848\n",
            "Epoch 2500, Training loss 6.3941, Validation loss 6.4147\n",
            "Epoch 3000, Training loss 5.7714, Validation loss 5.7920\n",
            "Epoch 3500, Training loss 5.1939, Validation loss 5.2145\n",
            "Epoch 4000, Training loss 4.6598, Validation loss 4.6804\n",
            "Epoch 4500, Training loss 4.1675, Validation loss 4.1881\n",
            "Epoch 5000, Training loss 3.7160, Validation loss 3.7366\n"
          ]
        },
        {
          "output_type": "execute_result",
          "data": {
            "text/plain": [
              "tensor([ 0.5410,  0.5410,  0.5410,  0.5410,  0.5410, -0.0044],\n",
              "       requires_grad=True)"
            ]
          },
          "metadata": {},
          "execution_count": 111
        }
      ]
    },
    {
      "cell_type": "code",
      "source": [
        "\n",
        "params = torch.tensor([1.0, 1.0, 1.0, 1.0, 1.0, 0.0], requires_grad=True)\n",
        "learning_rate = 0.1\n",
        "optimizer = optim.SGD([params], lr=learning_rate)\n",
        "\n",
        "training_loop(\n",
        "    n_epochs = 5000,\n",
        "    optimizer = optimizer,\n",
        "    params = params,\n",
        "    X_train = train_X,\n",
        "    X_val = val_X,\n",
        "    y_train = train_Y,\n",
        "    y_val = val_Y)\n",
        "\n"
      ],
      "metadata": {
        "colab": {
          "base_uri": "https://localhost:8080/"
        },
        "id": "zm33F-E3jyiZ",
        "outputId": "fd3ffca0-ed56-450b-c210-e855e38cfaf2"
      },
      "execution_count": 112,
      "outputs": [
        {
          "output_type": "stream",
          "name": "stdout",
          "text": [
            "Epoch 500, Training loss 0.9961, Validation loss 1.0167\n",
            "Epoch 1000, Training loss 0.9961, Validation loss 1.0167\n",
            "Epoch 1500, Training loss 0.9961, Validation loss 1.0167\n",
            "Epoch 2000, Training loss 0.9961, Validation loss 1.0167\n",
            "Epoch 2500, Training loss 0.9961, Validation loss 1.0167\n",
            "Epoch 3000, Training loss 0.9961, Validation loss 1.0167\n",
            "Epoch 3500, Training loss 0.9961, Validation loss 1.0167\n",
            "Epoch 4000, Training loss 0.9961, Validation loss 1.0167\n",
            "Epoch 4500, Training loss 0.9961, Validation loss 1.0167\n",
            "Epoch 5000, Training loss 0.9961, Validation loss 1.0167\n"
          ]
        },
        {
          "output_type": "execute_result",
          "data": {
            "text/plain": [
              "tensor([-3.2832e-11, -9.5968e-11,  2.7644e-11,  5.5027e-11,  9.3738e-11,\n",
              "         1.5519e-02], requires_grad=True)"
            ]
          },
          "metadata": {},
          "execution_count": 112
        }
      ]
    },
    {
      "cell_type": "code",
      "source": [
        "params = torch.tensor([1.0, 1.0, 1.0, 1.0, 1.0, 0.0], requires_grad=True)\n",
        "learning_rate = 0.01\n",
        "optimizer = optim.SGD([params], lr=learning_rate)\n",
        "\n",
        "training_loop(\n",
        "    n_epochs = 5000,\n",
        "    optimizer = optimizer,\n",
        "    params = params,\n",
        "    X_train = train_X,\n",
        "    X_val = val_X,\n",
        "    y_train = train_Y,\n",
        "    y_val = val_Y)"
      ],
      "metadata": {
        "colab": {
          "base_uri": "https://localhost:8080/"
        },
        "id": "RjiGdXoEj2UG",
        "outputId": "e91e3a04-0875-4e08-a8e0-366d4f0bda57"
      },
      "execution_count": 113,
      "outputs": [
        {
          "output_type": "stream",
          "name": "stdout",
          "text": [
            "Epoch 500, Training loss 0.9961, Validation loss 1.0167\n",
            "Epoch 1000, Training loss 0.9961, Validation loss 1.0167\n",
            "Epoch 1500, Training loss 0.9961, Validation loss 1.0167\n",
            "Epoch 2000, Training loss 0.9961, Validation loss 1.0167\n",
            "Epoch 2500, Training loss 0.9961, Validation loss 1.0167\n",
            "Epoch 3000, Training loss 0.9961, Validation loss 1.0167\n",
            "Epoch 3500, Training loss 0.9961, Validation loss 1.0167\n",
            "Epoch 4000, Training loss 0.9961, Validation loss 1.0167\n",
            "Epoch 4500, Training loss 0.9961, Validation loss 1.0167\n",
            "Epoch 5000, Training loss 0.9961, Validation loss 1.0167\n"
          ]
        },
        {
          "output_type": "execute_result",
          "data": {
            "text/plain": [
              "tensor([-4.4244e-10, -1.2932e-09,  3.7252e-10,  7.4154e-10,  1.2632e-09,\n",
              "         1.5519e-02], requires_grad=True)"
            ]
          },
          "metadata": {},
          "execution_count": 113
        }
      ]
    },
    {
      "cell_type": "code",
      "source": [
        "params = torch.tensor([1.0, 1.0, 1.0, 1.0, 1.0, 0.0], requires_grad=True)\n",
        "learning_rate = 0.001\n",
        "optimizer = optim.SGD([params], lr=learning_rate)\n",
        "\n",
        "training_loop(\n",
        "    n_epochs = 5000,\n",
        "    optimizer = optimizer,\n",
        "    params = params,\n",
        "    X_train = train_X,\n",
        "    X_val = val_X,\n",
        "    y_train = train_Y,\n",
        "    y_val = val_Y)"
      ],
      "metadata": {
        "colab": {
          "base_uri": "https://localhost:8080/"
        },
        "id": "fQkk5f3yj5wB",
        "outputId": "6254aa1d-bd92-4eac-b10c-7935de091954"
      },
      "execution_count": 114,
      "outputs": [
        {
          "output_type": "stream",
          "name": "stdout",
          "text": [
            "Epoch 500, Training loss 1.2285, Validation loss 1.2479\n",
            "Epoch 1000, Training loss 1.0042, Validation loss 1.0239\n",
            "Epoch 1500, Training loss 0.9968, Validation loss 1.0169\n",
            "Epoch 2000, Training loss 0.9963, Validation loss 1.0166\n",
            "Epoch 2500, Training loss 0.9962, Validation loss 1.0166\n",
            "Epoch 3000, Training loss 0.9961, Validation loss 1.0167\n",
            "Epoch 3500, Training loss 0.9961, Validation loss 1.0167\n",
            "Epoch 4000, Training loss 0.9961, Validation loss 1.0167\n",
            "Epoch 4500, Training loss 0.9961, Validation loss 1.0167\n",
            "Epoch 5000, Training loss 0.9961, Validation loss 1.0167\n"
          ]
        },
        {
          "output_type": "execute_result",
          "data": {
            "text/plain": [
              "tensor([-4.2783e-06, -2.1327e-04, -8.2233e-05,  2.6443e-04,  8.9936e-05,\n",
              "         1.5484e-02], requires_grad=True)"
            ]
          },
          "metadata": {},
          "execution_count": 114
        }
      ]
    },
    {
      "cell_type": "code",
      "source": [
        "params = torch.tensor([1.0, 1.0, 1.0, 1.0, 1.0, 0.0], requires_grad=True)\n",
        "learning_rate = 0.0001\n",
        "optimizer = optim.SGD([params], lr=learning_rate)\n",
        "\n",
        "training_loop(\n",
        "    n_epochs = 5000,\n",
        "    optimizer = optimizer,\n",
        "    params = params,\n",
        "    X_train = train_X,\n",
        "    X_val = val_X,\n",
        "    y_train = train_Y,\n",
        "    y_val = val_Y)"
      ],
      "metadata": {
        "colab": {
          "base_uri": "https://localhost:8080/"
        },
        "id": "9z_LZD66j87y",
        "outputId": "67377f60-3432-48e8-a0f2-167e5e2384ad"
      },
      "execution_count": 115,
      "outputs": [
        {
          "output_type": "stream",
          "name": "stdout",
          "text": [
            "Epoch 500, Training loss 7.3896, Validation loss 7.4125\n",
            "Epoch 1000, Training loss 5.3963, Validation loss 5.4182\n",
            "Epoch 1500, Training loss 4.0271, Validation loss 4.0484\n",
            "Epoch 2000, Training loss 3.0861, Validation loss 3.1069\n",
            "Epoch 2500, Training loss 2.4390, Validation loss 2.4593\n",
            "Epoch 3000, Training loss 1.9936, Validation loss 2.0137\n",
            "Epoch 3500, Training loss 1.6869, Validation loss 1.7067\n",
            "Epoch 4000, Training loss 1.4753, Validation loss 1.4950\n",
            "Epoch 4500, Training loss 1.3293, Validation loss 1.3488\n",
            "Epoch 5000, Training loss 1.2284, Validation loss 1.2478\n"
          ]
        },
        {
          "output_type": "execute_result",
          "data": {
            "text/plain": [
              "tensor([ 0.1940,  0.1146,  0.1084,  0.1675,  0.2101, -0.0011],\n",
              "       requires_grad=True)"
            ]
          },
          "metadata": {},
          "execution_count": 115
        }
      ]
    },
    {
      "cell_type": "markdown",
      "source": [
        "3rd problem"
      ],
      "metadata": {
        "id": "8YtOShyAmXOb"
      }
    },
    {
      "cell_type": "code",
      "source": [
        "#Use the URL for the raw CSV data\n",
        "url = 'https://raw.githubusercontent.com/dhanush852/intro_to-ml/main/Housing.csv'\n",
        "df = pd.read_csv(url)\n",
        "\n",
        "# Display the first 5 rows of the DataFrame\n",
        "df.head()"
      ],
      "metadata": {
        "colab": {
          "base_uri": "https://localhost:8080/",
          "height": 206
        },
        "id": "7hvYP4kfkS4z",
        "outputId": "6834ebc5-1cd5-492f-fe34-795a4bc8fd3c"
      },
      "execution_count": 49,
      "outputs": [
        {
          "output_type": "execute_result",
          "data": {
            "text/plain": [
              "      price  area  bedrooms  bathrooms  stories mainroad guestroom basement  \\\n",
              "0  13300000  7420         4          2        3      yes        no       no   \n",
              "1  12250000  8960         4          4        4      yes        no       no   \n",
              "2  12250000  9960         3          2        2      yes        no      yes   \n",
              "3  12215000  7500         4          2        2      yes        no      yes   \n",
              "4  11410000  7420         4          1        2      yes       yes      yes   \n",
              "\n",
              "  hotwaterheating airconditioning  parking prefarea furnishingstatus  \n",
              "0              no             yes        2      yes        furnished  \n",
              "1              no             yes        3       no        furnished  \n",
              "2              no              no        2      yes   semi-furnished  \n",
              "3              no             yes        3      yes        furnished  \n",
              "4              no             yes        2       no        furnished  "
            ],
            "text/html": [
              "\n",
              "  <div id=\"df-6ad515cc-09ed-4eec-992e-56b431337012\" class=\"colab-df-container\">\n",
              "    <div>\n",
              "<style scoped>\n",
              "    .dataframe tbody tr th:only-of-type {\n",
              "        vertical-align: middle;\n",
              "    }\n",
              "\n",
              "    .dataframe tbody tr th {\n",
              "        vertical-align: top;\n",
              "    }\n",
              "\n",
              "    .dataframe thead th {\n",
              "        text-align: right;\n",
              "    }\n",
              "</style>\n",
              "<table border=\"1\" class=\"dataframe\">\n",
              "  <thead>\n",
              "    <tr style=\"text-align: right;\">\n",
              "      <th></th>\n",
              "      <th>price</th>\n",
              "      <th>area</th>\n",
              "      <th>bedrooms</th>\n",
              "      <th>bathrooms</th>\n",
              "      <th>stories</th>\n",
              "      <th>mainroad</th>\n",
              "      <th>guestroom</th>\n",
              "      <th>basement</th>\n",
              "      <th>hotwaterheating</th>\n",
              "      <th>airconditioning</th>\n",
              "      <th>parking</th>\n",
              "      <th>prefarea</th>\n",
              "      <th>furnishingstatus</th>\n",
              "    </tr>\n",
              "  </thead>\n",
              "  <tbody>\n",
              "    <tr>\n",
              "      <th>0</th>\n",
              "      <td>13300000</td>\n",
              "      <td>7420</td>\n",
              "      <td>4</td>\n",
              "      <td>2</td>\n",
              "      <td>3</td>\n",
              "      <td>yes</td>\n",
              "      <td>no</td>\n",
              "      <td>no</td>\n",
              "      <td>no</td>\n",
              "      <td>yes</td>\n",
              "      <td>2</td>\n",
              "      <td>yes</td>\n",
              "      <td>furnished</td>\n",
              "    </tr>\n",
              "    <tr>\n",
              "      <th>1</th>\n",
              "      <td>12250000</td>\n",
              "      <td>8960</td>\n",
              "      <td>4</td>\n",
              "      <td>4</td>\n",
              "      <td>4</td>\n",
              "      <td>yes</td>\n",
              "      <td>no</td>\n",
              "      <td>no</td>\n",
              "      <td>no</td>\n",
              "      <td>yes</td>\n",
              "      <td>3</td>\n",
              "      <td>no</td>\n",
              "      <td>furnished</td>\n",
              "    </tr>\n",
              "    <tr>\n",
              "      <th>2</th>\n",
              "      <td>12250000</td>\n",
              "      <td>9960</td>\n",
              "      <td>3</td>\n",
              "      <td>2</td>\n",
              "      <td>2</td>\n",
              "      <td>yes</td>\n",
              "      <td>no</td>\n",
              "      <td>yes</td>\n",
              "      <td>no</td>\n",
              "      <td>no</td>\n",
              "      <td>2</td>\n",
              "      <td>yes</td>\n",
              "      <td>semi-furnished</td>\n",
              "    </tr>\n",
              "    <tr>\n",
              "      <th>3</th>\n",
              "      <td>12215000</td>\n",
              "      <td>7500</td>\n",
              "      <td>4</td>\n",
              "      <td>2</td>\n",
              "      <td>2</td>\n",
              "      <td>yes</td>\n",
              "      <td>no</td>\n",
              "      <td>yes</td>\n",
              "      <td>no</td>\n",
              "      <td>yes</td>\n",
              "      <td>3</td>\n",
              "      <td>yes</td>\n",
              "      <td>furnished</td>\n",
              "    </tr>\n",
              "    <tr>\n",
              "      <th>4</th>\n",
              "      <td>11410000</td>\n",
              "      <td>7420</td>\n",
              "      <td>4</td>\n",
              "      <td>1</td>\n",
              "      <td>2</td>\n",
              "      <td>yes</td>\n",
              "      <td>yes</td>\n",
              "      <td>yes</td>\n",
              "      <td>no</td>\n",
              "      <td>yes</td>\n",
              "      <td>2</td>\n",
              "      <td>no</td>\n",
              "      <td>furnished</td>\n",
              "    </tr>\n",
              "  </tbody>\n",
              "</table>\n",
              "</div>\n",
              "    <div class=\"colab-df-buttons\">\n",
              "\n",
              "  <div class=\"colab-df-container\">\n",
              "    <button class=\"colab-df-convert\" onclick=\"convertToInteractive('df-6ad515cc-09ed-4eec-992e-56b431337012')\"\n",
              "            title=\"Convert this dataframe to an interactive table.\"\n",
              "            style=\"display:none;\">\n",
              "\n",
              "  <svg xmlns=\"http://www.w3.org/2000/svg\" height=\"24px\" viewBox=\"0 -960 960 960\">\n",
              "    <path d=\"M120-120v-720h720v720H120Zm60-500h600v-160H180v160Zm220 220h160v-160H400v160Zm0 220h160v-160H400v160ZM180-400h160v-160H180v160Zm440 0h160v-160H620v160ZM180-180h160v-160H180v160Zm440 0h160v-160H620v160Z\"/>\n",
              "  </svg>\n",
              "    </button>\n",
              "\n",
              "  <style>\n",
              "    .colab-df-container {\n",
              "      display:flex;\n",
              "      gap: 12px;\n",
              "    }\n",
              "\n",
              "    .colab-df-convert {\n",
              "      background-color: #E8F0FE;\n",
              "      border: none;\n",
              "      border-radius: 50%;\n",
              "      cursor: pointer;\n",
              "      display: none;\n",
              "      fill: #1967D2;\n",
              "      height: 32px;\n",
              "      padding: 0 0 0 0;\n",
              "      width: 32px;\n",
              "    }\n",
              "\n",
              "    .colab-df-convert:hover {\n",
              "      background-color: #E2EBFA;\n",
              "      box-shadow: 0px 1px 2px rgba(60, 64, 67, 0.3), 0px 1px 3px 1px rgba(60, 64, 67, 0.15);\n",
              "      fill: #174EA6;\n",
              "    }\n",
              "\n",
              "    .colab-df-buttons div {\n",
              "      margin-bottom: 4px;\n",
              "    }\n",
              "\n",
              "    [theme=dark] .colab-df-convert {\n",
              "      background-color: #3B4455;\n",
              "      fill: #D2E3FC;\n",
              "    }\n",
              "\n",
              "    [theme=dark] .colab-df-convert:hover {\n",
              "      background-color: #434B5C;\n",
              "      box-shadow: 0px 1px 3px 1px rgba(0, 0, 0, 0.15);\n",
              "      filter: drop-shadow(0px 1px 2px rgba(0, 0, 0, 0.3));\n",
              "      fill: #FFFFFF;\n",
              "    }\n",
              "  </style>\n",
              "\n",
              "    <script>\n",
              "      const buttonEl =\n",
              "        document.querySelector('#df-6ad515cc-09ed-4eec-992e-56b431337012 button.colab-df-convert');\n",
              "      buttonEl.style.display =\n",
              "        google.colab.kernel.accessAllowed ? 'block' : 'none';\n",
              "\n",
              "      async function convertToInteractive(key) {\n",
              "        const element = document.querySelector('#df-6ad515cc-09ed-4eec-992e-56b431337012');\n",
              "        const dataTable =\n",
              "          await google.colab.kernel.invokeFunction('convertToInteractive',\n",
              "                                                    [key], {});\n",
              "        if (!dataTable) return;\n",
              "\n",
              "        const docLinkHtml = 'Like what you see? Visit the ' +\n",
              "          '<a target=\"_blank\" href=https://colab.research.google.com/notebooks/data_table.ipynb>data table notebook</a>'\n",
              "          + ' to learn more about interactive tables.';\n",
              "        element.innerHTML = '';\n",
              "        dataTable['output_type'] = 'display_data';\n",
              "        await google.colab.output.renderOutput(dataTable, element);\n",
              "        const docLink = document.createElement('div');\n",
              "        docLink.innerHTML = docLinkHtml;\n",
              "        element.appendChild(docLink);\n",
              "      }\n",
              "    </script>\n",
              "  </div>\n",
              "\n",
              "\n",
              "<div id=\"df-8c73e9d3-525b-4d19-92bd-76c41b10d79e\">\n",
              "  <button class=\"colab-df-quickchart\" onclick=\"quickchart('df-8c73e9d3-525b-4d19-92bd-76c41b10d79e')\"\n",
              "            title=\"Suggest charts\"\n",
              "            style=\"display:none;\">\n",
              "\n",
              "<svg xmlns=\"http://www.w3.org/2000/svg\" height=\"24px\"viewBox=\"0 0 24 24\"\n",
              "     width=\"24px\">\n",
              "    <g>\n",
              "        <path d=\"M19 3H5c-1.1 0-2 .9-2 2v14c0 1.1.9 2 2 2h14c1.1 0 2-.9 2-2V5c0-1.1-.9-2-2-2zM9 17H7v-7h2v7zm4 0h-2V7h2v10zm4 0h-2v-4h2v4z\"/>\n",
              "    </g>\n",
              "</svg>\n",
              "  </button>\n",
              "\n",
              "<style>\n",
              "  .colab-df-quickchart {\n",
              "      --bg-color: #E8F0FE;\n",
              "      --fill-color: #1967D2;\n",
              "      --hover-bg-color: #E2EBFA;\n",
              "      --hover-fill-color: #174EA6;\n",
              "      --disabled-fill-color: #AAA;\n",
              "      --disabled-bg-color: #DDD;\n",
              "  }\n",
              "\n",
              "  [theme=dark] .colab-df-quickchart {\n",
              "      --bg-color: #3B4455;\n",
              "      --fill-color: #D2E3FC;\n",
              "      --hover-bg-color: #434B5C;\n",
              "      --hover-fill-color: #FFFFFF;\n",
              "      --disabled-bg-color: #3B4455;\n",
              "      --disabled-fill-color: #666;\n",
              "  }\n",
              "\n",
              "  .colab-df-quickchart {\n",
              "    background-color: var(--bg-color);\n",
              "    border: none;\n",
              "    border-radius: 50%;\n",
              "    cursor: pointer;\n",
              "    display: none;\n",
              "    fill: var(--fill-color);\n",
              "    height: 32px;\n",
              "    padding: 0;\n",
              "    width: 32px;\n",
              "  }\n",
              "\n",
              "  .colab-df-quickchart:hover {\n",
              "    background-color: var(--hover-bg-color);\n",
              "    box-shadow: 0 1px 2px rgba(60, 64, 67, 0.3), 0 1px 3px 1px rgba(60, 64, 67, 0.15);\n",
              "    fill: var(--button-hover-fill-color);\n",
              "  }\n",
              "\n",
              "  .colab-df-quickchart-complete:disabled,\n",
              "  .colab-df-quickchart-complete:disabled:hover {\n",
              "    background-color: var(--disabled-bg-color);\n",
              "    fill: var(--disabled-fill-color);\n",
              "    box-shadow: none;\n",
              "  }\n",
              "\n",
              "  .colab-df-spinner {\n",
              "    border: 2px solid var(--fill-color);\n",
              "    border-color: transparent;\n",
              "    border-bottom-color: var(--fill-color);\n",
              "    animation:\n",
              "      spin 1s steps(1) infinite;\n",
              "  }\n",
              "\n",
              "  @keyframes spin {\n",
              "    0% {\n",
              "      border-color: transparent;\n",
              "      border-bottom-color: var(--fill-color);\n",
              "      border-left-color: var(--fill-color);\n",
              "    }\n",
              "    20% {\n",
              "      border-color: transparent;\n",
              "      border-left-color: var(--fill-color);\n",
              "      border-top-color: var(--fill-color);\n",
              "    }\n",
              "    30% {\n",
              "      border-color: transparent;\n",
              "      border-left-color: var(--fill-color);\n",
              "      border-top-color: var(--fill-color);\n",
              "      border-right-color: var(--fill-color);\n",
              "    }\n",
              "    40% {\n",
              "      border-color: transparent;\n",
              "      border-right-color: var(--fill-color);\n",
              "      border-top-color: var(--fill-color);\n",
              "    }\n",
              "    60% {\n",
              "      border-color: transparent;\n",
              "      border-right-color: var(--fill-color);\n",
              "    }\n",
              "    80% {\n",
              "      border-color: transparent;\n",
              "      border-right-color: var(--fill-color);\n",
              "      border-bottom-color: var(--fill-color);\n",
              "    }\n",
              "    90% {\n",
              "      border-color: transparent;\n",
              "      border-bottom-color: var(--fill-color);\n",
              "    }\n",
              "  }\n",
              "</style>\n",
              "\n",
              "  <script>\n",
              "    async function quickchart(key) {\n",
              "      const quickchartButtonEl =\n",
              "        document.querySelector('#' + key + ' button');\n",
              "      quickchartButtonEl.disabled = true;  // To prevent multiple clicks.\n",
              "      quickchartButtonEl.classList.add('colab-df-spinner');\n",
              "      try {\n",
              "        const charts = await google.colab.kernel.invokeFunction(\n",
              "            'suggestCharts', [key], {});\n",
              "      } catch (error) {\n",
              "        console.error('Error during call to suggestCharts:', error);\n",
              "      }\n",
              "      quickchartButtonEl.classList.remove('colab-df-spinner');\n",
              "      quickchartButtonEl.classList.add('colab-df-quickchart-complete');\n",
              "    }\n",
              "    (() => {\n",
              "      let quickchartButtonEl =\n",
              "        document.querySelector('#df-8c73e9d3-525b-4d19-92bd-76c41b10d79e button');\n",
              "      quickchartButtonEl.style.display =\n",
              "        google.colab.kernel.accessAllowed ? 'block' : 'none';\n",
              "    })();\n",
              "  </script>\n",
              "</div>\n",
              "    </div>\n",
              "  </div>\n"
            ]
          },
          "metadata": {},
          "execution_count": 49
        }
      ]
    },
    {
      "cell_type": "code",
      "source": [
        "binary_columns = ['mainroad', 'guestroom', 'basement', 'hotwaterheating', 'airconditioning', 'prefarea']"
      ],
      "metadata": {
        "id": "FJBJIyhIkapn"
      },
      "execution_count": 116,
      "outputs": []
    },
    {
      "cell_type": "code",
      "source": [
        "df[binary_columns] = df[binary_columns].replace({'yes': 1, 'no': 0})"
      ],
      "metadata": {
        "id": "S4E-9MX9kdbC"
      },
      "execution_count": 117,
      "outputs": []
    },
    {
      "cell_type": "code",
      "source": [
        "df['furnishingstatus'] = df['furnishingstatus'].replace({'furnished': 2, 'semi-furnished': 1, 'unfurnished': 0})"
      ],
      "metadata": {
        "id": "kF8CLPNbr77L"
      },
      "execution_count": 118,
      "outputs": []
    },
    {
      "cell_type": "code",
      "source": [
        "df.head()"
      ],
      "metadata": {
        "colab": {
          "base_uri": "https://localhost:8080/",
          "height": 206
        },
        "id": "3LO3JJdtkfw3",
        "outputId": "434c94e9-c802-4534-9b1a-236de38ef9fa"
      },
      "execution_count": 120,
      "outputs": [
        {
          "output_type": "execute_result",
          "data": {
            "text/plain": [
              "      price      area  bedrooms  bathrooms   stories  mainroad  guestroom  \\\n",
              "0  4.566365  1.046726  1.403419   1.421812  1.378217         1          0   \n",
              "1  4.004484  1.757010  1.403419   5.405809  2.532024         1          0   \n",
              "2  4.004484  2.218232  0.047278   1.421812  0.224410         1          0   \n",
              "3  3.985755  1.083624  1.403419   1.421812  0.224410         1          0   \n",
              "4  3.554979  1.046726  1.403419  -0.570187  0.224410         1          1   \n",
              "\n",
              "   basement  hotwaterheating  airconditioning   parking  prefarea  \\\n",
              "0         0                0                1  1.517692         1   \n",
              "1         0                0                1  2.679409         0   \n",
              "2         1                0                0  1.517692         1   \n",
              "3         1                0                1  2.679409         1   \n",
              "4         1                0                1  1.517692         0   \n",
              "\n",
              "   furnishingstatus  \n",
              "0                 2  \n",
              "1                 2  \n",
              "2                 1  \n",
              "3                 2  \n",
              "4                 2  "
            ],
            "text/html": [
              "\n",
              "  <div id=\"df-595be2ee-5930-429f-b3de-e0e9caac7e94\" class=\"colab-df-container\">\n",
              "    <div>\n",
              "<style scoped>\n",
              "    .dataframe tbody tr th:only-of-type {\n",
              "        vertical-align: middle;\n",
              "    }\n",
              "\n",
              "    .dataframe tbody tr th {\n",
              "        vertical-align: top;\n",
              "    }\n",
              "\n",
              "    .dataframe thead th {\n",
              "        text-align: right;\n",
              "    }\n",
              "</style>\n",
              "<table border=\"1\" class=\"dataframe\">\n",
              "  <thead>\n",
              "    <tr style=\"text-align: right;\">\n",
              "      <th></th>\n",
              "      <th>price</th>\n",
              "      <th>area</th>\n",
              "      <th>bedrooms</th>\n",
              "      <th>bathrooms</th>\n",
              "      <th>stories</th>\n",
              "      <th>mainroad</th>\n",
              "      <th>guestroom</th>\n",
              "      <th>basement</th>\n",
              "      <th>hotwaterheating</th>\n",
              "      <th>airconditioning</th>\n",
              "      <th>parking</th>\n",
              "      <th>prefarea</th>\n",
              "      <th>furnishingstatus</th>\n",
              "    </tr>\n",
              "  </thead>\n",
              "  <tbody>\n",
              "    <tr>\n",
              "      <th>0</th>\n",
              "      <td>4.566365</td>\n",
              "      <td>1.046726</td>\n",
              "      <td>1.403419</td>\n",
              "      <td>1.421812</td>\n",
              "      <td>1.378217</td>\n",
              "      <td>1</td>\n",
              "      <td>0</td>\n",
              "      <td>0</td>\n",
              "      <td>0</td>\n",
              "      <td>1</td>\n",
              "      <td>1.517692</td>\n",
              "      <td>1</td>\n",
              "      <td>2</td>\n",
              "    </tr>\n",
              "    <tr>\n",
              "      <th>1</th>\n",
              "      <td>4.004484</td>\n",
              "      <td>1.757010</td>\n",
              "      <td>1.403419</td>\n",
              "      <td>5.405809</td>\n",
              "      <td>2.532024</td>\n",
              "      <td>1</td>\n",
              "      <td>0</td>\n",
              "      <td>0</td>\n",
              "      <td>0</td>\n",
              "      <td>1</td>\n",
              "      <td>2.679409</td>\n",
              "      <td>0</td>\n",
              "      <td>2</td>\n",
              "    </tr>\n",
              "    <tr>\n",
              "      <th>2</th>\n",
              "      <td>4.004484</td>\n",
              "      <td>2.218232</td>\n",
              "      <td>0.047278</td>\n",
              "      <td>1.421812</td>\n",
              "      <td>0.224410</td>\n",
              "      <td>1</td>\n",
              "      <td>0</td>\n",
              "      <td>1</td>\n",
              "      <td>0</td>\n",
              "      <td>0</td>\n",
              "      <td>1.517692</td>\n",
              "      <td>1</td>\n",
              "      <td>1</td>\n",
              "    </tr>\n",
              "    <tr>\n",
              "      <th>3</th>\n",
              "      <td>3.985755</td>\n",
              "      <td>1.083624</td>\n",
              "      <td>1.403419</td>\n",
              "      <td>1.421812</td>\n",
              "      <td>0.224410</td>\n",
              "      <td>1</td>\n",
              "      <td>0</td>\n",
              "      <td>1</td>\n",
              "      <td>0</td>\n",
              "      <td>1</td>\n",
              "      <td>2.679409</td>\n",
              "      <td>1</td>\n",
              "      <td>2</td>\n",
              "    </tr>\n",
              "    <tr>\n",
              "      <th>4</th>\n",
              "      <td>3.554979</td>\n",
              "      <td>1.046726</td>\n",
              "      <td>1.403419</td>\n",
              "      <td>-0.570187</td>\n",
              "      <td>0.224410</td>\n",
              "      <td>1</td>\n",
              "      <td>1</td>\n",
              "      <td>1</td>\n",
              "      <td>0</td>\n",
              "      <td>1</td>\n",
              "      <td>1.517692</td>\n",
              "      <td>0</td>\n",
              "      <td>2</td>\n",
              "    </tr>\n",
              "  </tbody>\n",
              "</table>\n",
              "</div>\n",
              "    <div class=\"colab-df-buttons\">\n",
              "\n",
              "  <div class=\"colab-df-container\">\n",
              "    <button class=\"colab-df-convert\" onclick=\"convertToInteractive('df-595be2ee-5930-429f-b3de-e0e9caac7e94')\"\n",
              "            title=\"Convert this dataframe to an interactive table.\"\n",
              "            style=\"display:none;\">\n",
              "\n",
              "  <svg xmlns=\"http://www.w3.org/2000/svg\" height=\"24px\" viewBox=\"0 -960 960 960\">\n",
              "    <path d=\"M120-120v-720h720v720H120Zm60-500h600v-160H180v160Zm220 220h160v-160H400v160Zm0 220h160v-160H400v160ZM180-400h160v-160H180v160Zm440 0h160v-160H620v160ZM180-180h160v-160H180v160Zm440 0h160v-160H620v160Z\"/>\n",
              "  </svg>\n",
              "    </button>\n",
              "\n",
              "  <style>\n",
              "    .colab-df-container {\n",
              "      display:flex;\n",
              "      gap: 12px;\n",
              "    }\n",
              "\n",
              "    .colab-df-convert {\n",
              "      background-color: #E8F0FE;\n",
              "      border: none;\n",
              "      border-radius: 50%;\n",
              "      cursor: pointer;\n",
              "      display: none;\n",
              "      fill: #1967D2;\n",
              "      height: 32px;\n",
              "      padding: 0 0 0 0;\n",
              "      width: 32px;\n",
              "    }\n",
              "\n",
              "    .colab-df-convert:hover {\n",
              "      background-color: #E2EBFA;\n",
              "      box-shadow: 0px 1px 2px rgba(60, 64, 67, 0.3), 0px 1px 3px 1px rgba(60, 64, 67, 0.15);\n",
              "      fill: #174EA6;\n",
              "    }\n",
              "\n",
              "    .colab-df-buttons div {\n",
              "      margin-bottom: 4px;\n",
              "    }\n",
              "\n",
              "    [theme=dark] .colab-df-convert {\n",
              "      background-color: #3B4455;\n",
              "      fill: #D2E3FC;\n",
              "    }\n",
              "\n",
              "    [theme=dark] .colab-df-convert:hover {\n",
              "      background-color: #434B5C;\n",
              "      box-shadow: 0px 1px 3px 1px rgba(0, 0, 0, 0.15);\n",
              "      filter: drop-shadow(0px 1px 2px rgba(0, 0, 0, 0.3));\n",
              "      fill: #FFFFFF;\n",
              "    }\n",
              "  </style>\n",
              "\n",
              "    <script>\n",
              "      const buttonEl =\n",
              "        document.querySelector('#df-595be2ee-5930-429f-b3de-e0e9caac7e94 button.colab-df-convert');\n",
              "      buttonEl.style.display =\n",
              "        google.colab.kernel.accessAllowed ? 'block' : 'none';\n",
              "\n",
              "      async function convertToInteractive(key) {\n",
              "        const element = document.querySelector('#df-595be2ee-5930-429f-b3de-e0e9caac7e94');\n",
              "        const dataTable =\n",
              "          await google.colab.kernel.invokeFunction('convertToInteractive',\n",
              "                                                    [key], {});\n",
              "        if (!dataTable) return;\n",
              "\n",
              "        const docLinkHtml = 'Like what you see? Visit the ' +\n",
              "          '<a target=\"_blank\" href=https://colab.research.google.com/notebooks/data_table.ipynb>data table notebook</a>'\n",
              "          + ' to learn more about interactive tables.';\n",
              "        element.innerHTML = '';\n",
              "        dataTable['output_type'] = 'display_data';\n",
              "        await google.colab.output.renderOutput(dataTable, element);\n",
              "        const docLink = document.createElement('div');\n",
              "        docLink.innerHTML = docLinkHtml;\n",
              "        element.appendChild(docLink);\n",
              "      }\n",
              "    </script>\n",
              "  </div>\n",
              "\n",
              "\n",
              "<div id=\"df-d7b1d012-47f1-4575-87a8-bd3185f2cc1a\">\n",
              "  <button class=\"colab-df-quickchart\" onclick=\"quickchart('df-d7b1d012-47f1-4575-87a8-bd3185f2cc1a')\"\n",
              "            title=\"Suggest charts\"\n",
              "            style=\"display:none;\">\n",
              "\n",
              "<svg xmlns=\"http://www.w3.org/2000/svg\" height=\"24px\"viewBox=\"0 0 24 24\"\n",
              "     width=\"24px\">\n",
              "    <g>\n",
              "        <path d=\"M19 3H5c-1.1 0-2 .9-2 2v14c0 1.1.9 2 2 2h14c1.1 0 2-.9 2-2V5c0-1.1-.9-2-2-2zM9 17H7v-7h2v7zm4 0h-2V7h2v10zm4 0h-2v-4h2v4z\"/>\n",
              "    </g>\n",
              "</svg>\n",
              "  </button>\n",
              "\n",
              "<style>\n",
              "  .colab-df-quickchart {\n",
              "      --bg-color: #E8F0FE;\n",
              "      --fill-color: #1967D2;\n",
              "      --hover-bg-color: #E2EBFA;\n",
              "      --hover-fill-color: #174EA6;\n",
              "      --disabled-fill-color: #AAA;\n",
              "      --disabled-bg-color: #DDD;\n",
              "  }\n",
              "\n",
              "  [theme=dark] .colab-df-quickchart {\n",
              "      --bg-color: #3B4455;\n",
              "      --fill-color: #D2E3FC;\n",
              "      --hover-bg-color: #434B5C;\n",
              "      --hover-fill-color: #FFFFFF;\n",
              "      --disabled-bg-color: #3B4455;\n",
              "      --disabled-fill-color: #666;\n",
              "  }\n",
              "\n",
              "  .colab-df-quickchart {\n",
              "    background-color: var(--bg-color);\n",
              "    border: none;\n",
              "    border-radius: 50%;\n",
              "    cursor: pointer;\n",
              "    display: none;\n",
              "    fill: var(--fill-color);\n",
              "    height: 32px;\n",
              "    padding: 0;\n",
              "    width: 32px;\n",
              "  }\n",
              "\n",
              "  .colab-df-quickchart:hover {\n",
              "    background-color: var(--hover-bg-color);\n",
              "    box-shadow: 0 1px 2px rgba(60, 64, 67, 0.3), 0 1px 3px 1px rgba(60, 64, 67, 0.15);\n",
              "    fill: var(--button-hover-fill-color);\n",
              "  }\n",
              "\n",
              "  .colab-df-quickchart-complete:disabled,\n",
              "  .colab-df-quickchart-complete:disabled:hover {\n",
              "    background-color: var(--disabled-bg-color);\n",
              "    fill: var(--disabled-fill-color);\n",
              "    box-shadow: none;\n",
              "  }\n",
              "\n",
              "  .colab-df-spinner {\n",
              "    border: 2px solid var(--fill-color);\n",
              "    border-color: transparent;\n",
              "    border-bottom-color: var(--fill-color);\n",
              "    animation:\n",
              "      spin 1s steps(1) infinite;\n",
              "  }\n",
              "\n",
              "  @keyframes spin {\n",
              "    0% {\n",
              "      border-color: transparent;\n",
              "      border-bottom-color: var(--fill-color);\n",
              "      border-left-color: var(--fill-color);\n",
              "    }\n",
              "    20% {\n",
              "      border-color: transparent;\n",
              "      border-left-color: var(--fill-color);\n",
              "      border-top-color: var(--fill-color);\n",
              "    }\n",
              "    30% {\n",
              "      border-color: transparent;\n",
              "      border-left-color: var(--fill-color);\n",
              "      border-top-color: var(--fill-color);\n",
              "      border-right-color: var(--fill-color);\n",
              "    }\n",
              "    40% {\n",
              "      border-color: transparent;\n",
              "      border-right-color: var(--fill-color);\n",
              "      border-top-color: var(--fill-color);\n",
              "    }\n",
              "    60% {\n",
              "      border-color: transparent;\n",
              "      border-right-color: var(--fill-color);\n",
              "    }\n",
              "    80% {\n",
              "      border-color: transparent;\n",
              "      border-right-color: var(--fill-color);\n",
              "      border-bottom-color: var(--fill-color);\n",
              "    }\n",
              "    90% {\n",
              "      border-color: transparent;\n",
              "      border-bottom-color: var(--fill-color);\n",
              "    }\n",
              "  }\n",
              "</style>\n",
              "\n",
              "  <script>\n",
              "    async function quickchart(key) {\n",
              "      const quickchartButtonEl =\n",
              "        document.querySelector('#' + key + ' button');\n",
              "      quickchartButtonEl.disabled = true;  // To prevent multiple clicks.\n",
              "      quickchartButtonEl.classList.add('colab-df-spinner');\n",
              "      try {\n",
              "        const charts = await google.colab.kernel.invokeFunction(\n",
              "            'suggestCharts', [key], {});\n",
              "      } catch (error) {\n",
              "        console.error('Error during call to suggestCharts:', error);\n",
              "      }\n",
              "      quickchartButtonEl.classList.remove('colab-df-spinner');\n",
              "      quickchartButtonEl.classList.add('colab-df-quickchart-complete');\n",
              "    }\n",
              "    (() => {\n",
              "      let quickchartButtonEl =\n",
              "        document.querySelector('#df-d7b1d012-47f1-4575-87a8-bd3185f2cc1a button');\n",
              "      quickchartButtonEl.style.display =\n",
              "        google.colab.kernel.accessAllowed ? 'block' : 'none';\n",
              "    })();\n",
              "  </script>\n",
              "</div>\n",
              "    </div>\n",
              "  </div>\n"
            ]
          },
          "metadata": {},
          "execution_count": 120
        }
      ]
    },
    {
      "cell_type": "code",
      "source": [
        "X = df.drop('price', axis = 1)\n",
        "y = df[['price']]"
      ],
      "metadata": {
        "id": "scvMQ1apkjO_"
      },
      "execution_count": 121,
      "outputs": []
    },
    {
      "cell_type": "code",
      "source": [
        "scalar = MinMaxScaler()\n",
        "scalar_out = MinMaxScaler()\n",
        "X = scalar.fit_transform(X)\n",
        "y = scalar_out.fit_transform(y)"
      ],
      "metadata": {
        "id": "ttXDN6bMklMf"
      },
      "execution_count": 122,
      "outputs": []
    },
    {
      "cell_type": "code",
      "source": [
        "np.random.seed(13)\n",
        "train_X, val_X, train_Y, val_Y = train_test_split(X, y, test_size=0.2, random_state=100)"
      ],
      "metadata": {
        "id": "imcOkV48knWN"
      },
      "execution_count": 123,
      "outputs": []
    },
    {
      "cell_type": "code",
      "source": [
        "X_train = torch.tensor(train_X)\n",
        "Y_train = torch.tensor(train_Y)\n",
        "X_test = torch.tensor(val_X)\n",
        "Y_test = torch.tensor(val_Y)"
      ],
      "metadata": {
        "id": "3GveZcKakpLP"
      },
      "execution_count": 124,
      "outputs": []
    },
    {
      "cell_type": "code",
      "source": [
        "def model(X, W1, W2, W3, W4, W5, W6, W7, W8, W9, W10, W11, W12, B):\n",
        "    return (W12*X[:,11] + W11*X[:,10] + W10*X[:,9] + W9*X[:,8] +\n",
        "            W8*X[:,7] + W7*X[:,6] + W6*X[:,5] + W5*X[:,4] +\n",
        "            W4*X[:,3] + W3*X[:,2] + W2*X[:,1] + W1*X[:,0] + B)"
      ],
      "metadata": {
        "id": "4chQfyAUkrLy"
      },
      "execution_count": 125,
      "outputs": []
    },
    {
      "cell_type": "code",
      "source": [
        "params = torch.tensor([1.0, 1.0, 1.0, 1.0, 1.0, 1.0, 1.0, 1.0, 1.0, 1.0, 1.0, 1.0, 0.0], requires_grad=True)\n",
        "learning_rate = 0.1\n",
        "optimizer = optim.Adam([params], lr=learning_rate)\n",
        "\n",
        "training_loop(\n",
        "    n_epochs = 5000,\n",
        "    optimizer = optimizer,\n",
        "    params = params,\n",
        "    X_train = X_train,\n",
        "    X_val = X_test,\n",
        "    y_train = Y_train,\n",
        "    y_val = Y_test)"
      ],
      "metadata": {
        "colab": {
          "base_uri": "https://localhost:8080/"
        },
        "id": "g4lMPug_kuqz",
        "outputId": "225cba2e-17b8-4a5d-866a-61c3b0dbabc9"
      },
      "execution_count": 126,
      "outputs": [
        {
          "output_type": "stream",
          "name": "stdout",
          "text": [
            "Epoch 500, Training loss 0.0261, Validation loss 0.0266\n",
            "Epoch 1000, Training loss 0.0261, Validation loss 0.0266\n",
            "Epoch 1500, Training loss 0.0261, Validation loss 0.0266\n",
            "Epoch 2000, Training loss 0.0261, Validation loss 0.0266\n",
            "Epoch 2500, Training loss 0.0261, Validation loss 0.0266\n",
            "Epoch 3000, Training loss 0.0261, Validation loss 0.0266\n",
            "Epoch 3500, Training loss 0.0261, Validation loss 0.0266\n",
            "Epoch 4000, Training loss 0.0261, Validation loss 0.0266\n",
            "Epoch 4500, Training loss 0.0261, Validation loss 0.0266\n",
            "Epoch 5000, Training loss 0.0261, Validation loss 0.0266\n"
          ]
        },
        {
          "output_type": "execute_result",
          "data": {
            "text/plain": [
              "tensor([ 7.7686e-09,  3.5388e-08, -6.4710e-09, -2.6042e-09,  1.1980e-08,\n",
              "        -6.9857e-10,  1.0804e-09,  7.1829e-10,  5.6827e-10, -1.3954e-09,\n",
              "        -7.8976e-10,  2.8398e-09,  2.6370e-01], requires_grad=True)"
            ]
          },
          "metadata": {},
          "execution_count": 126
        }
      ]
    },
    {
      "cell_type": "code",
      "source": [
        "params = torch.tensor([1.0, 1.0, 1.0, 1.0, 1.0, 1.0, 1.0, 1.0, 1.0, 1.0, 1.0, 1.0, 0.0], requires_grad=True)\n",
        "learning_rate = 0.1\n",
        "optimizer = optim.SGD([params], lr=learning_rate)\n",
        "\n",
        "training_loop(\n",
        "    n_epochs = 5000,\n",
        "    optimizer = optimizer,\n",
        "    params = params,\n",
        "    X_train = X_train,\n",
        "    X_val = X_test,\n",
        "    y_train = Y_train,\n",
        "    y_val = Y_test)"
      ],
      "metadata": {
        "colab": {
          "base_uri": "https://localhost:8080/"
        },
        "id": "DPOALZe0kw6j",
        "outputId": "9bcaf7c3-70a6-4698-b460-ce25a135c8d4"
      },
      "execution_count": 127,
      "outputs": [
        {
          "output_type": "stream",
          "name": "stdout",
          "text": [
            "Epoch 500, Training loss 0.0266, Validation loss 0.0271\n",
            "Epoch 1000, Training loss 0.0261, Validation loss 0.0266\n",
            "Epoch 1500, Training loss 0.0261, Validation loss 0.0266\n",
            "Epoch 2000, Training loss 0.0261, Validation loss 0.0266\n",
            "Epoch 2500, Training loss 0.0261, Validation loss 0.0266\n",
            "Epoch 3000, Training loss 0.0261, Validation loss 0.0266\n",
            "Epoch 3500, Training loss 0.0261, Validation loss 0.0266\n",
            "Epoch 4000, Training loss 0.0261, Validation loss 0.0266\n",
            "Epoch 4500, Training loss 0.0261, Validation loss 0.0266\n",
            "Epoch 5000, Training loss 0.0261, Validation loss 0.0266\n"
          ]
        },
        {
          "output_type": "execute_result",
          "data": {
            "text/plain": [
              "tensor([ 3.0490e-07,  2.4578e-06, -7.3864e-07, -2.8665e-07,  5.1172e-07,\n",
              "        -4.7985e-09, -4.7374e-09,  4.0010e-08,  5.1315e-08, -1.0213e-07,\n",
              "        -2.7737e-08,  1.1209e-07,  2.6370e-01], requires_grad=True)"
            ]
          },
          "metadata": {},
          "execution_count": 127
        }
      ]
    },
    {
      "cell_type": "code",
      "source": [
        "params = torch.tensor([1.0, 1.0, 1.0, 1.0, 1.0, 1.0, 1.0, 1.0, 1.0, 1.0, 1.0, 1.0, 0.0], requires_grad=True)\n",
        "learning_rate = 0.01\n",
        "optimizer = optim.Adam([params], lr=learning_rate)\n",
        "\n",
        "training_loop(\n",
        "    n_epochs = 5000,\n",
        "    optimizer = optimizer,\n",
        "    params = params,\n",
        "    X_train = X_train,\n",
        "    X_val = X_test,\n",
        "    y_train = Y_train,\n",
        "    y_val = Y_test)"
      ],
      "metadata": {
        "colab": {
          "base_uri": "https://localhost:8080/"
        },
        "id": "bUOYB7zmkxmO",
        "outputId": "1fa476fd-a5c1-4fe6-f995-a881be1ebec1"
      },
      "execution_count": 128,
      "outputs": [
        {
          "output_type": "stream",
          "name": "stdout",
          "text": [
            "Epoch 500, Training loss 0.0632, Validation loss 0.0625\n",
            "Epoch 1000, Training loss 0.0369, Validation loss 0.0370\n",
            "Epoch 1500, Training loss 0.0296, Validation loss 0.0299\n",
            "Epoch 2000, Training loss 0.0272, Validation loss 0.0276\n",
            "Epoch 2500, Training loss 0.0263, Validation loss 0.0268\n",
            "Epoch 3000, Training loss 0.0261, Validation loss 0.0266\n",
            "Epoch 3500, Training loss 0.0261, Validation loss 0.0266\n",
            "Epoch 4000, Training loss 0.0261, Validation loss 0.0266\n",
            "Epoch 4500, Training loss 0.0261, Validation loss 0.0266\n",
            "Epoch 5000, Training loss 0.0261, Validation loss 0.0266\n"
          ]
        },
        {
          "output_type": "execute_result",
          "data": {
            "text/plain": [
              "tensor([-3.6263e-07,  3.2521e-05, -6.6877e-06, -6.0568e-06,  4.8141e-06,\n",
              "         1.1265e-07, -1.0922e-06,  2.7312e-08,  6.4476e-07, -1.7559e-06,\n",
              "        -9.8926e-08,  5.0206e-07,  2.6369e-01], requires_grad=True)"
            ]
          },
          "metadata": {},
          "execution_count": 128
        }
      ]
    },
    {
      "cell_type": "code",
      "source": [
        "params = torch.tensor([1.0, 1.0, 1.0, 1.0, 1.0, 1.0, 1.0, 1.0, 1.0, 1.0, 1.0, 1.0, 0.0], requires_grad=True)\n",
        "learning_rate = 0.01\n",
        "optimizer = optim.SGD([params], lr=learning_rate)\n",
        "\n",
        "training_loop(\n",
        "    n_epochs = 5000,\n",
        "    optimizer = optimizer,\n",
        "    params = params,\n",
        "    X_train = X_train,\n",
        "    X_val = X_test,\n",
        "    y_train = Y_train,\n",
        "    y_val = Y_test)\n"
      ],
      "metadata": {
        "colab": {
          "base_uri": "https://localhost:8080/"
        },
        "id": "q731sfnmkzSc",
        "outputId": "01c9904b-f068-4018-86c6-340c99f92529"
      },
      "execution_count": 129,
      "outputs": [
        {
          "output_type": "stream",
          "name": "stdout",
          "text": [
            "Epoch 500, Training loss 0.1106, Validation loss 0.1100\n",
            "Epoch 1000, Training loss 0.0514, Validation loss 0.0514\n",
            "Epoch 1500, Training loss 0.0365, Validation loss 0.0368\n",
            "Epoch 2000, Training loss 0.0314, Validation loss 0.0318\n",
            "Epoch 2500, Training loss 0.0293, Validation loss 0.0297\n",
            "Epoch 3000, Training loss 0.0281, Validation loss 0.0286\n",
            "Epoch 3500, Training loss 0.0275, Validation loss 0.0280\n",
            "Epoch 4000, Training loss 0.0270, Validation loss 0.0275\n",
            "Epoch 4500, Training loss 0.0268, Validation loss 0.0273\n",
            "Epoch 5000, Training loss 0.0266, Validation loss 0.0271\n"
          ]
        },
        {
          "output_type": "execute_result",
          "data": {
            "text/plain": [
              "tensor([ 0.0989,  0.1284, -0.0024, -0.0337,  0.0055, -0.0052, -0.0059,  0.0027,\n",
              "        -0.0006, -0.0288, -0.0044, -0.0023,  0.2059], requires_grad=True)"
            ]
          },
          "metadata": {},
          "execution_count": 129
        }
      ]
    },
    {
      "cell_type": "code",
      "source": [
        "params = torch.tensor([1.0, 1.0, 1.0, 1.0, 1.0, 1.0, 1.0, 1.0, 1.0, 1.0, 1.0, 1.0, 0.0], requires_grad=True)\n",
        "learning_rate = 0.001\n",
        "optimizer = optim.Adam([params], lr=learning_rate)\n",
        "\n",
        "training_loop(\n",
        "    n_epochs = 5000,\n",
        "    optimizer = optimizer,\n",
        "    params = params,\n",
        "    X_train = X_train,\n",
        "    X_val = X_test,\n",
        "    y_train = Y_train,\n",
        "    y_val = Y_test)\n"
      ],
      "metadata": {
        "colab": {
          "base_uri": "https://localhost:8080/"
        },
        "id": "W5L0450Kk1HC",
        "outputId": "3b5e83bf-315e-487a-c22e-320448d269c0"
      },
      "execution_count": 130,
      "outputs": [
        {
          "output_type": "stream",
          "name": "stdout",
          "text": [
            "Epoch 500, Training loss 3.0653, Validation loss 3.1027\n",
            "Epoch 1000, Training loss 0.4619, Validation loss 0.4718\n",
            "Epoch 1500, Training loss 0.1662, Validation loss 0.1662\n",
            "Epoch 2000, Training loss 0.1275, Validation loss 0.1258\n",
            "Epoch 2500, Training loss 0.1021, Validation loss 0.1005\n",
            "Epoch 3000, Training loss 0.0822, Validation loss 0.0810\n",
            "Epoch 3500, Training loss 0.0674, Validation loss 0.0666\n",
            "Epoch 4000, Training loss 0.0567, Validation loss 0.0561\n",
            "Epoch 4500, Training loss 0.0486, Validation loss 0.0483\n",
            "Epoch 5000, Training loss 0.0424, Validation loss 0.0423\n"
          ]
        },
        {
          "output_type": "execute_result",
          "data": {
            "text/plain": [
              "tensor([ 0.1879,  0.4309, -0.0843,  0.0285,  0.2606, -0.0351,  0.0437, -0.0015,\n",
              "        -0.0143, -0.0138, -0.0359,  0.0654, -0.2229], requires_grad=True)"
            ]
          },
          "metadata": {},
          "execution_count": 130
        }
      ]
    },
    {
      "cell_type": "code",
      "source": [
        "params = torch.tensor([1.0, 1.0, 1.0, 1.0, 1.0, 1.0, 1.0, 1.0, 1.0, 1.0, 1.0, 1.0, 0.0], requires_grad=True)\n",
        "learning_rate = 0.001\n",
        "optimizer = optim.SGD([params], lr=learning_rate)\n",
        "training_loop(\n",
        "    n_epochs = 5000,\n",
        "    optimizer = optimizer,\n",
        "    params = params,\n",
        "    X_train = X_train,\n",
        "    X_val = X_test,\n",
        "    y_train = Y_train,\n",
        "    y_val = Y_test)"
      ],
      "metadata": {
        "colab": {
          "base_uri": "https://localhost:8080/"
        },
        "id": "v_phZlqJk2lh",
        "outputId": "20e4dba7-e072-4376-ba99-e69bd54da04b"
      },
      "execution_count": 131,
      "outputs": [
        {
          "output_type": "stream",
          "name": "stdout",
          "text": [
            "Epoch 500, Training loss 0.6614, Validation loss 0.6642\n",
            "Epoch 1000, Training loss 0.4570, Validation loss 0.4549\n",
            "Epoch 1500, Training loss 0.3540, Validation loss 0.3520\n",
            "Epoch 2000, Training loss 0.2819, Validation loss 0.2802\n",
            "Epoch 2500, Training loss 0.2302, Validation loss 0.2288\n",
            "Epoch 3000, Training loss 0.1922, Validation loss 0.1910\n",
            "Epoch 3500, Training loss 0.1636, Validation loss 0.1626\n",
            "Epoch 4000, Training loss 0.1416, Validation loss 0.1408\n",
            "Epoch 4500, Training loss 0.1243, Validation loss 0.1236\n",
            "Epoch 5000, Training loss 0.1104, Validation loss 0.1099\n"
          ]
        },
        {
          "output_type": "execute_result",
          "data": {
            "text/plain": [
              "tensor([ 0.5183,  0.4717,  0.4918,  0.2092,  0.1215,  0.0781,  0.0316,  0.5595,\n",
              "        -0.0360,  0.2279,  0.0632,  0.0688, -0.4441], requires_grad=True)"
            ]
          },
          "metadata": {},
          "execution_count": 131
        }
      ]
    },
    {
      "cell_type": "code",
      "source": [
        "params = torch.tensor([1.0, 1.0, 1.0, 1.0, 1.0, 1.0, 1.0, 1.0, 1.0, 1.0, 1.0, 1.0, 0.0], requires_grad=True)\n",
        "learning_rate = 0.0001\n",
        "optimizer = optim.Adam([params], lr=learning_rate)\n",
        "\n",
        "training_loop(\n",
        "    n_epochs = 5000,\n",
        "    optimizer = optimizer,\n",
        "    params = params,\n",
        "    X_train = X_train,\n",
        "    X_val = X_test,\n",
        "    y_train = Y_train,\n",
        "    y_val = Y_test)"
      ],
      "metadata": {
        "colab": {
          "base_uri": "https://localhost:8080/"
        },
        "id": "kqIcib0ok4rw",
        "outputId": "c9ff799e-28b6-432e-ef9c-d6c3238e1622"
      },
      "execution_count": 132,
      "outputs": [
        {
          "output_type": "stream",
          "name": "stdout",
          "text": [
            "Epoch 500, Training loss 12.5858, Validation loss 12.6664\n",
            "Epoch 1000, Training loss 10.9728, Validation loss 11.0478\n",
            "Epoch 1500, Training loss 9.5106, Validation loss 9.5801\n",
            "Epoch 2000, Training loss 8.1862, Validation loss 8.2504\n",
            "Epoch 2500, Training loss 6.9893, Validation loss 7.0483\n",
            "Epoch 3000, Training loss 5.9115, Validation loss 5.9653\n",
            "Epoch 3500, Training loss 4.9458, Validation loss 4.9947\n",
            "Epoch 4000, Training loss 4.0866, Validation loss 4.1306\n",
            "Epoch 4500, Training loss 3.3290, Validation loss 3.3681\n",
            "Epoch 5000, Training loss 2.6683, Validation loss 2.7027\n"
          ]
        },
        {
          "output_type": "execute_result",
          "data": {
            "text/plain": [
              "tensor([ 0.5584,  0.5598,  0.5553,  0.5574,  0.5595,  0.5532,  0.5556,  0.5562,\n",
              "         0.5547,  0.5569,  0.5543,  0.5576, -0.4386], requires_grad=True)"
            ]
          },
          "metadata": {},
          "execution_count": 132
        }
      ]
    },
    {
      "cell_type": "code",
      "source": [
        "params = torch.tensor([1.0, 1.0, 1.0, 1.0, 1.0, 1.0, 1.0, 1.0, 1.0, 1.0, 1.0, 1.0, 0.0], requires_grad=True)\n",
        "learning_rate = 0.0001\n",
        "optimizer = optim.SGD([params], lr=learning_rate)\n",
        "\n",
        "training_loop(\n",
        "    n_epochs = 5000,\n",
        "    optimizer = optimizer,\n",
        "    params = params,\n",
        "    X_train = X_train,\n",
        "    X_val = X_test,\n",
        "    y_train = Y_train,\n",
        "    y_val = Y_test)\n"
      ],
      "metadata": {
        "colab": {
          "base_uri": "https://localhost:8080/"
        },
        "id": "xWh7qjyIk7-7",
        "outputId": "5a9f823e-03d5-4a49-b7b5-cc0f60279c5a"
      },
      "execution_count": 133,
      "outputs": [
        {
          "output_type": "stream",
          "name": "stdout",
          "text": [
            "Epoch 500, Training loss 8.6164, Validation loss 8.6813\n",
            "Epoch 1000, Training loss 5.2840, Validation loss 5.3325\n",
            "Epoch 1500, Training loss 3.3520, Validation loss 3.3881\n",
            "Epoch 2000, Training loss 2.2283, Validation loss 2.2549\n",
            "Epoch 2500, Training loss 1.5711, Validation loss 1.5906\n",
            "Epoch 3000, Training loss 1.1834, Validation loss 1.1975\n",
            "Epoch 3500, Training loss 0.9514, Validation loss 0.9614\n",
            "Epoch 4000, Training loss 0.8097, Validation loss 0.8166\n",
            "Epoch 4500, Training loss 0.7203, Validation loss 0.7248\n",
            "Epoch 5000, Training loss 0.6613, Validation loss 0.6641\n"
          ]
        },
        {
          "output_type": "execute_result",
          "data": {
            "text/plain": [
              "tensor([ 0.6704,  0.5231,  0.8151,  0.5870, -0.0379,  0.6102,  0.3880,  0.8936,\n",
              "         0.4319,  0.6165,  0.5403,  0.3346, -1.0692], requires_grad=True)"
            ]
          },
          "metadata": {},
          "execution_count": 133
        }
      ]
    }
  ]
}