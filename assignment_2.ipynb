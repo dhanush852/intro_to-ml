{
  "nbformat": 4,
  "nbformat_minor": 0,
  "metadata": {
    "colab": {
      "provenance": [],
      "include_colab_link": true
    },
    "kernelspec": {
      "name": "python3",
      "display_name": "Python 3"
    },
    "language_info": {
      "name": "python"
    }
  },
  "cells": [
    {
      "cell_type": "markdown",
      "metadata": {
        "id": "view-in-github",
        "colab_type": "text"
      },
      "source": [
        "<a href=\"https://colab.research.google.com/github/dhanush852/intro_to-ml/blob/main/assignment_2.ipynb\" target=\"_parent\"><img src=\"https://colab.research.google.com/assets/colab-badge.svg\" alt=\"Open In Colab\"/></a>"
      ]
    },
    {
      "cell_type": "code",
      "execution_count": null,
      "metadata": {
        "id": "tk7Vyw3-vfD8"
      },
      "outputs": [],
      "source": [
        "import numpy as np\n",
        "import pandas as pd\n",
        "import matplotlib.pyplot as plt\n",
        "import seaborn as sns\n",
        "from sklearn.model_selection import train_test_split\n",
        "\n",
        "import warnings\n",
        "warnings.filterwarnings('ignore')\n"
      ]
    },
    {
      "cell_type": "code",
      "source": [
        "#Use the URL for the raw CSV data\n",
        "url = 'https://raw.githubusercontent.com/dhanush852/intro_to-ml/main/Housing.csv'\n",
        "raw_df = pd.read_csv(url)\n",
        "\n",
        "# Display the first 5 rows of the DataFrame\n",
        "raw_df.head()"
      ],
      "metadata": {
        "colab": {
          "base_uri": "https://localhost:8080/",
          "height": 206
        },
        "id": "yw17LtIevlXc",
        "outputId": "4d76f8f7-a4e1-4673-f315-6a2cc7cbf124"
      },
      "execution_count": null,
      "outputs": [
        {
          "output_type": "execute_result",
          "data": {
            "text/plain": [
              "      price  area  bedrooms  bathrooms  stories mainroad guestroom basement  \\\n",
              "0  13300000  7420         4          2        3      yes        no       no   \n",
              "1  12250000  8960         4          4        4      yes        no       no   \n",
              "2  12250000  9960         3          2        2      yes        no      yes   \n",
              "3  12215000  7500         4          2        2      yes        no      yes   \n",
              "4  11410000  7420         4          1        2      yes       yes      yes   \n",
              "\n",
              "  hotwaterheating airconditioning  parking prefarea furnishingstatus  \n",
              "0              no             yes        2      yes        furnished  \n",
              "1              no             yes        3       no        furnished  \n",
              "2              no              no        2      yes   semi-furnished  \n",
              "3              no             yes        3      yes        furnished  \n",
              "4              no             yes        2       no        furnished  "
            ],
            "text/html": [
              "\n",
              "  <div id=\"df-77d003c3-a6a3-4582-a81a-f638a006956e\" class=\"colab-df-container\">\n",
              "    <div>\n",
              "<style scoped>\n",
              "    .dataframe tbody tr th:only-of-type {\n",
              "        vertical-align: middle;\n",
              "    }\n",
              "\n",
              "    .dataframe tbody tr th {\n",
              "        vertical-align: top;\n",
              "    }\n",
              "\n",
              "    .dataframe thead th {\n",
              "        text-align: right;\n",
              "    }\n",
              "</style>\n",
              "<table border=\"1\" class=\"dataframe\">\n",
              "  <thead>\n",
              "    <tr style=\"text-align: right;\">\n",
              "      <th></th>\n",
              "      <th>price</th>\n",
              "      <th>area</th>\n",
              "      <th>bedrooms</th>\n",
              "      <th>bathrooms</th>\n",
              "      <th>stories</th>\n",
              "      <th>mainroad</th>\n",
              "      <th>guestroom</th>\n",
              "      <th>basement</th>\n",
              "      <th>hotwaterheating</th>\n",
              "      <th>airconditioning</th>\n",
              "      <th>parking</th>\n",
              "      <th>prefarea</th>\n",
              "      <th>furnishingstatus</th>\n",
              "    </tr>\n",
              "  </thead>\n",
              "  <tbody>\n",
              "    <tr>\n",
              "      <th>0</th>\n",
              "      <td>13300000</td>\n",
              "      <td>7420</td>\n",
              "      <td>4</td>\n",
              "      <td>2</td>\n",
              "      <td>3</td>\n",
              "      <td>yes</td>\n",
              "      <td>no</td>\n",
              "      <td>no</td>\n",
              "      <td>no</td>\n",
              "      <td>yes</td>\n",
              "      <td>2</td>\n",
              "      <td>yes</td>\n",
              "      <td>furnished</td>\n",
              "    </tr>\n",
              "    <tr>\n",
              "      <th>1</th>\n",
              "      <td>12250000</td>\n",
              "      <td>8960</td>\n",
              "      <td>4</td>\n",
              "      <td>4</td>\n",
              "      <td>4</td>\n",
              "      <td>yes</td>\n",
              "      <td>no</td>\n",
              "      <td>no</td>\n",
              "      <td>no</td>\n",
              "      <td>yes</td>\n",
              "      <td>3</td>\n",
              "      <td>no</td>\n",
              "      <td>furnished</td>\n",
              "    </tr>\n",
              "    <tr>\n",
              "      <th>2</th>\n",
              "      <td>12250000</td>\n",
              "      <td>9960</td>\n",
              "      <td>3</td>\n",
              "      <td>2</td>\n",
              "      <td>2</td>\n",
              "      <td>yes</td>\n",
              "      <td>no</td>\n",
              "      <td>yes</td>\n",
              "      <td>no</td>\n",
              "      <td>no</td>\n",
              "      <td>2</td>\n",
              "      <td>yes</td>\n",
              "      <td>semi-furnished</td>\n",
              "    </tr>\n",
              "    <tr>\n",
              "      <th>3</th>\n",
              "      <td>12215000</td>\n",
              "      <td>7500</td>\n",
              "      <td>4</td>\n",
              "      <td>2</td>\n",
              "      <td>2</td>\n",
              "      <td>yes</td>\n",
              "      <td>no</td>\n",
              "      <td>yes</td>\n",
              "      <td>no</td>\n",
              "      <td>yes</td>\n",
              "      <td>3</td>\n",
              "      <td>yes</td>\n",
              "      <td>furnished</td>\n",
              "    </tr>\n",
              "    <tr>\n",
              "      <th>4</th>\n",
              "      <td>11410000</td>\n",
              "      <td>7420</td>\n",
              "      <td>4</td>\n",
              "      <td>1</td>\n",
              "      <td>2</td>\n",
              "      <td>yes</td>\n",
              "      <td>yes</td>\n",
              "      <td>yes</td>\n",
              "      <td>no</td>\n",
              "      <td>yes</td>\n",
              "      <td>2</td>\n",
              "      <td>no</td>\n",
              "      <td>furnished</td>\n",
              "    </tr>\n",
              "  </tbody>\n",
              "</table>\n",
              "</div>\n",
              "    <div class=\"colab-df-buttons\">\n",
              "\n",
              "  <div class=\"colab-df-container\">\n",
              "    <button class=\"colab-df-convert\" onclick=\"convertToInteractive('df-77d003c3-a6a3-4582-a81a-f638a006956e')\"\n",
              "            title=\"Convert this dataframe to an interactive table.\"\n",
              "            style=\"display:none;\">\n",
              "\n",
              "  <svg xmlns=\"http://www.w3.org/2000/svg\" height=\"24px\" viewBox=\"0 -960 960 960\">\n",
              "    <path d=\"M120-120v-720h720v720H120Zm60-500h600v-160H180v160Zm220 220h160v-160H400v160Zm0 220h160v-160H400v160ZM180-400h160v-160H180v160Zm440 0h160v-160H620v160ZM180-180h160v-160H180v160Zm440 0h160v-160H620v160Z\"/>\n",
              "  </svg>\n",
              "    </button>\n",
              "\n",
              "  <style>\n",
              "    .colab-df-container {\n",
              "      display:flex;\n",
              "      gap: 12px;\n",
              "    }\n",
              "\n",
              "    .colab-df-convert {\n",
              "      background-color: #E8F0FE;\n",
              "      border: none;\n",
              "      border-radius: 50%;\n",
              "      cursor: pointer;\n",
              "      display: none;\n",
              "      fill: #1967D2;\n",
              "      height: 32px;\n",
              "      padding: 0 0 0 0;\n",
              "      width: 32px;\n",
              "    }\n",
              "\n",
              "    .colab-df-convert:hover {\n",
              "      background-color: #E2EBFA;\n",
              "      box-shadow: 0px 1px 2px rgba(60, 64, 67, 0.3), 0px 1px 3px 1px rgba(60, 64, 67, 0.15);\n",
              "      fill: #174EA6;\n",
              "    }\n",
              "\n",
              "    .colab-df-buttons div {\n",
              "      margin-bottom: 4px;\n",
              "    }\n",
              "\n",
              "    [theme=dark] .colab-df-convert {\n",
              "      background-color: #3B4455;\n",
              "      fill: #D2E3FC;\n",
              "    }\n",
              "\n",
              "    [theme=dark] .colab-df-convert:hover {\n",
              "      background-color: #434B5C;\n",
              "      box-shadow: 0px 1px 3px 1px rgba(0, 0, 0, 0.15);\n",
              "      filter: drop-shadow(0px 1px 2px rgba(0, 0, 0, 0.3));\n",
              "      fill: #FFFFFF;\n",
              "    }\n",
              "  </style>\n",
              "\n",
              "    <script>\n",
              "      const buttonEl =\n",
              "        document.querySelector('#df-77d003c3-a6a3-4582-a81a-f638a006956e button.colab-df-convert');\n",
              "      buttonEl.style.display =\n",
              "        google.colab.kernel.accessAllowed ? 'block' : 'none';\n",
              "\n",
              "      async function convertToInteractive(key) {\n",
              "        const element = document.querySelector('#df-77d003c3-a6a3-4582-a81a-f638a006956e');\n",
              "        const dataTable =\n",
              "          await google.colab.kernel.invokeFunction('convertToInteractive',\n",
              "                                                    [key], {});\n",
              "        if (!dataTable) return;\n",
              "\n",
              "        const docLinkHtml = 'Like what you see? Visit the ' +\n",
              "          '<a target=\"_blank\" href=https://colab.research.google.com/notebooks/data_table.ipynb>data table notebook</a>'\n",
              "          + ' to learn more about interactive tables.';\n",
              "        element.innerHTML = '';\n",
              "        dataTable['output_type'] = 'display_data';\n",
              "        await google.colab.output.renderOutput(dataTable, element);\n",
              "        const docLink = document.createElement('div');\n",
              "        docLink.innerHTML = docLinkHtml;\n",
              "        element.appendChild(docLink);\n",
              "      }\n",
              "    </script>\n",
              "  </div>\n",
              "\n",
              "\n",
              "<div id=\"df-b2996a2f-0b58-4510-b02d-39ca22fa97e0\">\n",
              "  <button class=\"colab-df-quickchart\" onclick=\"quickchart('df-b2996a2f-0b58-4510-b02d-39ca22fa97e0')\"\n",
              "            title=\"Suggest charts.\"\n",
              "            style=\"display:none;\">\n",
              "\n",
              "<svg xmlns=\"http://www.w3.org/2000/svg\" height=\"24px\"viewBox=\"0 0 24 24\"\n",
              "     width=\"24px\">\n",
              "    <g>\n",
              "        <path d=\"M19 3H5c-1.1 0-2 .9-2 2v14c0 1.1.9 2 2 2h14c1.1 0 2-.9 2-2V5c0-1.1-.9-2-2-2zM9 17H7v-7h2v7zm4 0h-2V7h2v10zm4 0h-2v-4h2v4z\"/>\n",
              "    </g>\n",
              "</svg>\n",
              "  </button>\n",
              "\n",
              "<style>\n",
              "  .colab-df-quickchart {\n",
              "      --bg-color: #E8F0FE;\n",
              "      --fill-color: #1967D2;\n",
              "      --hover-bg-color: #E2EBFA;\n",
              "      --hover-fill-color: #174EA6;\n",
              "      --disabled-fill-color: #AAA;\n",
              "      --disabled-bg-color: #DDD;\n",
              "  }\n",
              "\n",
              "  [theme=dark] .colab-df-quickchart {\n",
              "      --bg-color: #3B4455;\n",
              "      --fill-color: #D2E3FC;\n",
              "      --hover-bg-color: #434B5C;\n",
              "      --hover-fill-color: #FFFFFF;\n",
              "      --disabled-bg-color: #3B4455;\n",
              "      --disabled-fill-color: #666;\n",
              "  }\n",
              "\n",
              "  .colab-df-quickchart {\n",
              "    background-color: var(--bg-color);\n",
              "    border: none;\n",
              "    border-radius: 50%;\n",
              "    cursor: pointer;\n",
              "    display: none;\n",
              "    fill: var(--fill-color);\n",
              "    height: 32px;\n",
              "    padding: 0;\n",
              "    width: 32px;\n",
              "  }\n",
              "\n",
              "  .colab-df-quickchart:hover {\n",
              "    background-color: var(--hover-bg-color);\n",
              "    box-shadow: 0 1px 2px rgba(60, 64, 67, 0.3), 0 1px 3px 1px rgba(60, 64, 67, 0.15);\n",
              "    fill: var(--button-hover-fill-color);\n",
              "  }\n",
              "\n",
              "  .colab-df-quickchart-complete:disabled,\n",
              "  .colab-df-quickchart-complete:disabled:hover {\n",
              "    background-color: var(--disabled-bg-color);\n",
              "    fill: var(--disabled-fill-color);\n",
              "    box-shadow: none;\n",
              "  }\n",
              "\n",
              "  .colab-df-spinner {\n",
              "    border: 2px solid var(--fill-color);\n",
              "    border-color: transparent;\n",
              "    border-bottom-color: var(--fill-color);\n",
              "    animation:\n",
              "      spin 1s steps(1) infinite;\n",
              "  }\n",
              "\n",
              "  @keyframes spin {\n",
              "    0% {\n",
              "      border-color: transparent;\n",
              "      border-bottom-color: var(--fill-color);\n",
              "      border-left-color: var(--fill-color);\n",
              "    }\n",
              "    20% {\n",
              "      border-color: transparent;\n",
              "      border-left-color: var(--fill-color);\n",
              "      border-top-color: var(--fill-color);\n",
              "    }\n",
              "    30% {\n",
              "      border-color: transparent;\n",
              "      border-left-color: var(--fill-color);\n",
              "      border-top-color: var(--fill-color);\n",
              "      border-right-color: var(--fill-color);\n",
              "    }\n",
              "    40% {\n",
              "      border-color: transparent;\n",
              "      border-right-color: var(--fill-color);\n",
              "      border-top-color: var(--fill-color);\n",
              "    }\n",
              "    60% {\n",
              "      border-color: transparent;\n",
              "      border-right-color: var(--fill-color);\n",
              "    }\n",
              "    80% {\n",
              "      border-color: transparent;\n",
              "      border-right-color: var(--fill-color);\n",
              "      border-bottom-color: var(--fill-color);\n",
              "    }\n",
              "    90% {\n",
              "      border-color: transparent;\n",
              "      border-bottom-color: var(--fill-color);\n",
              "    }\n",
              "  }\n",
              "</style>\n",
              "\n",
              "  <script>\n",
              "    async function quickchart(key) {\n",
              "      const quickchartButtonEl =\n",
              "        document.querySelector('#' + key + ' button');\n",
              "      quickchartButtonEl.disabled = true;  // To prevent multiple clicks.\n",
              "      quickchartButtonEl.classList.add('colab-df-spinner');\n",
              "      try {\n",
              "        const charts = await google.colab.kernel.invokeFunction(\n",
              "            'suggestCharts', [key], {});\n",
              "      } catch (error) {\n",
              "        console.error('Error during call to suggestCharts:', error);\n",
              "      }\n",
              "      quickchartButtonEl.classList.remove('colab-df-spinner');\n",
              "      quickchartButtonEl.classList.add('colab-df-quickchart-complete');\n",
              "    }\n",
              "    (() => {\n",
              "      let quickchartButtonEl =\n",
              "        document.querySelector('#df-b2996a2f-0b58-4510-b02d-39ca22fa97e0 button');\n",
              "      quickchartButtonEl.style.display =\n",
              "        google.colab.kernel.accessAllowed ? 'block' : 'none';\n",
              "    })();\n",
              "  </script>\n",
              "</div>\n",
              "    </div>\n",
              "  </div>\n"
            ]
          },
          "metadata": {},
          "execution_count": 124
        }
      ]
    },
    {
      "cell_type": "code",
      "source": [
        "binary_cols = ['mainroad', 'guestroom', 'basement', 'hotwaterheating', 'airconditioning', 'prefarea']\n",
        "\n",
        "def binary_map(x):\n",
        "    return x.map({'yes': 1, 'no':0})\n",
        "\n",
        "raw_df[binary_cols] = raw_df[binary_cols].apply(binary_map)\n",
        "raw_df.head()\n"
      ],
      "metadata": {
        "colab": {
          "base_uri": "https://localhost:8080/",
          "height": 206
        },
        "id": "NRXkhAq-v1io",
        "outputId": "51cb4759-bf03-42b4-9f10-9b40abac7500"
      },
      "execution_count": null,
      "outputs": [
        {
          "output_type": "execute_result",
          "data": {
            "text/plain": [
              "      price  area  bedrooms  bathrooms  stories  mainroad  guestroom  \\\n",
              "0  13300000  7420         4          2        3         1          0   \n",
              "1  12250000  8960         4          4        4         1          0   \n",
              "2  12250000  9960         3          2        2         1          0   \n",
              "3  12215000  7500         4          2        2         1          0   \n",
              "4  11410000  7420         4          1        2         1          1   \n",
              "\n",
              "   basement  hotwaterheating  airconditioning  parking  prefarea  \\\n",
              "0         0                0                1        2         1   \n",
              "1         0                0                1        3         0   \n",
              "2         1                0                0        2         1   \n",
              "3         1                0                1        3         1   \n",
              "4         1                0                1        2         0   \n",
              "\n",
              "  furnishingstatus  \n",
              "0        furnished  \n",
              "1        furnished  \n",
              "2   semi-furnished  \n",
              "3        furnished  \n",
              "4        furnished  "
            ],
            "text/html": [
              "\n",
              "  <div id=\"df-f0abe731-add3-4fee-8aa9-343af26d6ee4\" class=\"colab-df-container\">\n",
              "    <div>\n",
              "<style scoped>\n",
              "    .dataframe tbody tr th:only-of-type {\n",
              "        vertical-align: middle;\n",
              "    }\n",
              "\n",
              "    .dataframe tbody tr th {\n",
              "        vertical-align: top;\n",
              "    }\n",
              "\n",
              "    .dataframe thead th {\n",
              "        text-align: right;\n",
              "    }\n",
              "</style>\n",
              "<table border=\"1\" class=\"dataframe\">\n",
              "  <thead>\n",
              "    <tr style=\"text-align: right;\">\n",
              "      <th></th>\n",
              "      <th>price</th>\n",
              "      <th>area</th>\n",
              "      <th>bedrooms</th>\n",
              "      <th>bathrooms</th>\n",
              "      <th>stories</th>\n",
              "      <th>mainroad</th>\n",
              "      <th>guestroom</th>\n",
              "      <th>basement</th>\n",
              "      <th>hotwaterheating</th>\n",
              "      <th>airconditioning</th>\n",
              "      <th>parking</th>\n",
              "      <th>prefarea</th>\n",
              "      <th>furnishingstatus</th>\n",
              "    </tr>\n",
              "  </thead>\n",
              "  <tbody>\n",
              "    <tr>\n",
              "      <th>0</th>\n",
              "      <td>13300000</td>\n",
              "      <td>7420</td>\n",
              "      <td>4</td>\n",
              "      <td>2</td>\n",
              "      <td>3</td>\n",
              "      <td>1</td>\n",
              "      <td>0</td>\n",
              "      <td>0</td>\n",
              "      <td>0</td>\n",
              "      <td>1</td>\n",
              "      <td>2</td>\n",
              "      <td>1</td>\n",
              "      <td>furnished</td>\n",
              "    </tr>\n",
              "    <tr>\n",
              "      <th>1</th>\n",
              "      <td>12250000</td>\n",
              "      <td>8960</td>\n",
              "      <td>4</td>\n",
              "      <td>4</td>\n",
              "      <td>4</td>\n",
              "      <td>1</td>\n",
              "      <td>0</td>\n",
              "      <td>0</td>\n",
              "      <td>0</td>\n",
              "      <td>1</td>\n",
              "      <td>3</td>\n",
              "      <td>0</td>\n",
              "      <td>furnished</td>\n",
              "    </tr>\n",
              "    <tr>\n",
              "      <th>2</th>\n",
              "      <td>12250000</td>\n",
              "      <td>9960</td>\n",
              "      <td>3</td>\n",
              "      <td>2</td>\n",
              "      <td>2</td>\n",
              "      <td>1</td>\n",
              "      <td>0</td>\n",
              "      <td>1</td>\n",
              "      <td>0</td>\n",
              "      <td>0</td>\n",
              "      <td>2</td>\n",
              "      <td>1</td>\n",
              "      <td>semi-furnished</td>\n",
              "    </tr>\n",
              "    <tr>\n",
              "      <th>3</th>\n",
              "      <td>12215000</td>\n",
              "      <td>7500</td>\n",
              "      <td>4</td>\n",
              "      <td>2</td>\n",
              "      <td>2</td>\n",
              "      <td>1</td>\n",
              "      <td>0</td>\n",
              "      <td>1</td>\n",
              "      <td>0</td>\n",
              "      <td>1</td>\n",
              "      <td>3</td>\n",
              "      <td>1</td>\n",
              "      <td>furnished</td>\n",
              "    </tr>\n",
              "    <tr>\n",
              "      <th>4</th>\n",
              "      <td>11410000</td>\n",
              "      <td>7420</td>\n",
              "      <td>4</td>\n",
              "      <td>1</td>\n",
              "      <td>2</td>\n",
              "      <td>1</td>\n",
              "      <td>1</td>\n",
              "      <td>1</td>\n",
              "      <td>0</td>\n",
              "      <td>1</td>\n",
              "      <td>2</td>\n",
              "      <td>0</td>\n",
              "      <td>furnished</td>\n",
              "    </tr>\n",
              "  </tbody>\n",
              "</table>\n",
              "</div>\n",
              "    <div class=\"colab-df-buttons\">\n",
              "\n",
              "  <div class=\"colab-df-container\">\n",
              "    <button class=\"colab-df-convert\" onclick=\"convertToInteractive('df-f0abe731-add3-4fee-8aa9-343af26d6ee4')\"\n",
              "            title=\"Convert this dataframe to an interactive table.\"\n",
              "            style=\"display:none;\">\n",
              "\n",
              "  <svg xmlns=\"http://www.w3.org/2000/svg\" height=\"24px\" viewBox=\"0 -960 960 960\">\n",
              "    <path d=\"M120-120v-720h720v720H120Zm60-500h600v-160H180v160Zm220 220h160v-160H400v160Zm0 220h160v-160H400v160ZM180-400h160v-160H180v160Zm440 0h160v-160H620v160ZM180-180h160v-160H180v160Zm440 0h160v-160H620v160Z\"/>\n",
              "  </svg>\n",
              "    </button>\n",
              "\n",
              "  <style>\n",
              "    .colab-df-container {\n",
              "      display:flex;\n",
              "      gap: 12px;\n",
              "    }\n",
              "\n",
              "    .colab-df-convert {\n",
              "      background-color: #E8F0FE;\n",
              "      border: none;\n",
              "      border-radius: 50%;\n",
              "      cursor: pointer;\n",
              "      display: none;\n",
              "      fill: #1967D2;\n",
              "      height: 32px;\n",
              "      padding: 0 0 0 0;\n",
              "      width: 32px;\n",
              "    }\n",
              "\n",
              "    .colab-df-convert:hover {\n",
              "      background-color: #E2EBFA;\n",
              "      box-shadow: 0px 1px 2px rgba(60, 64, 67, 0.3), 0px 1px 3px 1px rgba(60, 64, 67, 0.15);\n",
              "      fill: #174EA6;\n",
              "    }\n",
              "\n",
              "    .colab-df-buttons div {\n",
              "      margin-bottom: 4px;\n",
              "    }\n",
              "\n",
              "    [theme=dark] .colab-df-convert {\n",
              "      background-color: #3B4455;\n",
              "      fill: #D2E3FC;\n",
              "    }\n",
              "\n",
              "    [theme=dark] .colab-df-convert:hover {\n",
              "      background-color: #434B5C;\n",
              "      box-shadow: 0px 1px 3px 1px rgba(0, 0, 0, 0.15);\n",
              "      filter: drop-shadow(0px 1px 2px rgba(0, 0, 0, 0.3));\n",
              "      fill: #FFFFFF;\n",
              "    }\n",
              "  </style>\n",
              "\n",
              "    <script>\n",
              "      const buttonEl =\n",
              "        document.querySelector('#df-f0abe731-add3-4fee-8aa9-343af26d6ee4 button.colab-df-convert');\n",
              "      buttonEl.style.display =\n",
              "        google.colab.kernel.accessAllowed ? 'block' : 'none';\n",
              "\n",
              "      async function convertToInteractive(key) {\n",
              "        const element = document.querySelector('#df-f0abe731-add3-4fee-8aa9-343af26d6ee4');\n",
              "        const dataTable =\n",
              "          await google.colab.kernel.invokeFunction('convertToInteractive',\n",
              "                                                    [key], {});\n",
              "        if (!dataTable) return;\n",
              "\n",
              "        const docLinkHtml = 'Like what you see? Visit the ' +\n",
              "          '<a target=\"_blank\" href=https://colab.research.google.com/notebooks/data_table.ipynb>data table notebook</a>'\n",
              "          + ' to learn more about interactive tables.';\n",
              "        element.innerHTML = '';\n",
              "        dataTable['output_type'] = 'display_data';\n",
              "        await google.colab.output.renderOutput(dataTable, element);\n",
              "        const docLink = document.createElement('div');\n",
              "        docLink.innerHTML = docLinkHtml;\n",
              "        element.appendChild(docLink);\n",
              "      }\n",
              "    </script>\n",
              "  </div>\n",
              "\n",
              "\n",
              "<div id=\"df-4b9cbbd8-62ee-4bae-b855-0d5810764f61\">\n",
              "  <button class=\"colab-df-quickchart\" onclick=\"quickchart('df-4b9cbbd8-62ee-4bae-b855-0d5810764f61')\"\n",
              "            title=\"Suggest charts.\"\n",
              "            style=\"display:none;\">\n",
              "\n",
              "<svg xmlns=\"http://www.w3.org/2000/svg\" height=\"24px\"viewBox=\"0 0 24 24\"\n",
              "     width=\"24px\">\n",
              "    <g>\n",
              "        <path d=\"M19 3H5c-1.1 0-2 .9-2 2v14c0 1.1.9 2 2 2h14c1.1 0 2-.9 2-2V5c0-1.1-.9-2-2-2zM9 17H7v-7h2v7zm4 0h-2V7h2v10zm4 0h-2v-4h2v4z\"/>\n",
              "    </g>\n",
              "</svg>\n",
              "  </button>\n",
              "\n",
              "<style>\n",
              "  .colab-df-quickchart {\n",
              "      --bg-color: #E8F0FE;\n",
              "      --fill-color: #1967D2;\n",
              "      --hover-bg-color: #E2EBFA;\n",
              "      --hover-fill-color: #174EA6;\n",
              "      --disabled-fill-color: #AAA;\n",
              "      --disabled-bg-color: #DDD;\n",
              "  }\n",
              "\n",
              "  [theme=dark] .colab-df-quickchart {\n",
              "      --bg-color: #3B4455;\n",
              "      --fill-color: #D2E3FC;\n",
              "      --hover-bg-color: #434B5C;\n",
              "      --hover-fill-color: #FFFFFF;\n",
              "      --disabled-bg-color: #3B4455;\n",
              "      --disabled-fill-color: #666;\n",
              "  }\n",
              "\n",
              "  .colab-df-quickchart {\n",
              "    background-color: var(--bg-color);\n",
              "    border: none;\n",
              "    border-radius: 50%;\n",
              "    cursor: pointer;\n",
              "    display: none;\n",
              "    fill: var(--fill-color);\n",
              "    height: 32px;\n",
              "    padding: 0;\n",
              "    width: 32px;\n",
              "  }\n",
              "\n",
              "  .colab-df-quickchart:hover {\n",
              "    background-color: var(--hover-bg-color);\n",
              "    box-shadow: 0 1px 2px rgba(60, 64, 67, 0.3), 0 1px 3px 1px rgba(60, 64, 67, 0.15);\n",
              "    fill: var(--button-hover-fill-color);\n",
              "  }\n",
              "\n",
              "  .colab-df-quickchart-complete:disabled,\n",
              "  .colab-df-quickchart-complete:disabled:hover {\n",
              "    background-color: var(--disabled-bg-color);\n",
              "    fill: var(--disabled-fill-color);\n",
              "    box-shadow: none;\n",
              "  }\n",
              "\n",
              "  .colab-df-spinner {\n",
              "    border: 2px solid var(--fill-color);\n",
              "    border-color: transparent;\n",
              "    border-bottom-color: var(--fill-color);\n",
              "    animation:\n",
              "      spin 1s steps(1) infinite;\n",
              "  }\n",
              "\n",
              "  @keyframes spin {\n",
              "    0% {\n",
              "      border-color: transparent;\n",
              "      border-bottom-color: var(--fill-color);\n",
              "      border-left-color: var(--fill-color);\n",
              "    }\n",
              "    20% {\n",
              "      border-color: transparent;\n",
              "      border-left-color: var(--fill-color);\n",
              "      border-top-color: var(--fill-color);\n",
              "    }\n",
              "    30% {\n",
              "      border-color: transparent;\n",
              "      border-left-color: var(--fill-color);\n",
              "      border-top-color: var(--fill-color);\n",
              "      border-right-color: var(--fill-color);\n",
              "    }\n",
              "    40% {\n",
              "      border-color: transparent;\n",
              "      border-right-color: var(--fill-color);\n",
              "      border-top-color: var(--fill-color);\n",
              "    }\n",
              "    60% {\n",
              "      border-color: transparent;\n",
              "      border-right-color: var(--fill-color);\n",
              "    }\n",
              "    80% {\n",
              "      border-color: transparent;\n",
              "      border-right-color: var(--fill-color);\n",
              "      border-bottom-color: var(--fill-color);\n",
              "    }\n",
              "    90% {\n",
              "      border-color: transparent;\n",
              "      border-bottom-color: var(--fill-color);\n",
              "    }\n",
              "  }\n",
              "</style>\n",
              "\n",
              "  <script>\n",
              "    async function quickchart(key) {\n",
              "      const quickchartButtonEl =\n",
              "        document.querySelector('#' + key + ' button');\n",
              "      quickchartButtonEl.disabled = true;  // To prevent multiple clicks.\n",
              "      quickchartButtonEl.classList.add('colab-df-spinner');\n",
              "      try {\n",
              "        const charts = await google.colab.kernel.invokeFunction(\n",
              "            'suggestCharts', [key], {});\n",
              "      } catch (error) {\n",
              "        console.error('Error during call to suggestCharts:', error);\n",
              "      }\n",
              "      quickchartButtonEl.classList.remove('colab-df-spinner');\n",
              "      quickchartButtonEl.classList.add('colab-df-quickchart-complete');\n",
              "    }\n",
              "    (() => {\n",
              "      let quickchartButtonEl =\n",
              "        document.querySelector('#df-4b9cbbd8-62ee-4bae-b855-0d5810764f61 button');\n",
              "      quickchartButtonEl.style.display =\n",
              "        google.colab.kernel.accessAllowed ? 'block' : 'none';\n",
              "    })();\n",
              "  </script>\n",
              "</div>\n",
              "    </div>\n",
              "  </div>\n"
            ]
          },
          "metadata": {},
          "execution_count": 125
        }
      ]
    },
    {
      "cell_type": "code",
      "source": [],
      "metadata": {
        "id": "H0Plw_qxO9D6"
      },
      "execution_count": null,
      "outputs": []
    },
    {
      "cell_type": "code",
      "source": [
        "np.random.seed(0)\n",
        "raw_df_train, raw_df_test = train_test_split(raw_df, test_size = 0.2)\n",
        "raw_df_train.shape,raw_df_test.shape\n"
      ],
      "metadata": {
        "colab": {
          "base_uri": "https://localhost:8080/"
        },
        "id": "gs0-3hjIwZiL",
        "outputId": "d8e2ac8f-459f-410c-9ce4-aabfbb0c7676"
      },
      "execution_count": null,
      "outputs": [
        {
          "output_type": "execute_result",
          "data": {
            "text/plain": [
              "((436, 13), (109, 13))"
            ]
          },
          "metadata": {},
          "execution_count": 126
        }
      ]
    },
    {
      "cell_type": "code",
      "source": [
        "def loss(X_values, Y_values, theta, m): #1\n",
        "    h = X_values.dot(theta)\n",
        "    err = np.subtract(h,Y_values)\n",
        "    squareErr = np.square(err)\n",
        "    loss_value = 1/(2*m) * np.sum(squareErr)\n",
        "    return loss_value\n"
      ],
      "metadata": {
        "id": "CuYSMS_JwxGk"
      },
      "execution_count": null,
      "outputs": []
    },
    {
      "cell_type": "code",
      "source": [
        "def linear_regression(X_train, Y_train, X_test, Y_test, theta, alpha, iterations):#1\n",
        "    training_loss_hist = np.zeros(iterations)\n",
        "    validation_loss_hist = np.zeros(iterations)\n",
        "    for i in range(iterations):\n",
        "        h = X_train.dot(theta)\n",
        "        err = np.subtract(h,Y_train)\n",
        "        xy_dtheta = (1/len(Y_train)) * X_train.transpose().dot(err)\n",
        "        theta = theta - alpha*xy_dtheta\n",
        "        training_loss_hist[i] = loss(X_train, Y_train, theta, m_train)\n",
        "        validation_loss_hist[i] = loss(X_test, Y_test, theta, m_test)\n",
        "    return theta, training_loss_hist, validation_loss_hist\n"
      ],
      "metadata": {
        "id": "ctWOoP12w6CB"
      },
      "execution_count": null,
      "outputs": []
    },
    {
      "cell_type": "code",
      "source": [
        "categorical_cols_1 = ['area', 'bedrooms', 'bathrooms', 'stories', 'parking']\n",
        "\n",
        "Y_train = raw_df_train[['price']].to_numpy()\n",
        "\n",
        "m_train = len(Y_train)\n",
        "\n",
        "X_train = raw_df_train[categorical_cols_1].to_numpy()\n",
        "X_train = np.hstack((np.ones((m_train, 1)), X_train))\n",
        "\n",
        "Y_test = raw_df_test[['price']].to_numpy()\n",
        "\n",
        "m_test = len(Y_test)\n",
        "\n",
        "X_test = raw_df_test[categorical_cols_1].to_numpy()\n",
        "X_test = np.hstack((np.ones((m_test, 1)), X_test))"
      ],
      "metadata": {
        "id": "WUbkUD5E_aCO"
      },
      "execution_count": null,
      "outputs": []
    },
    {
      "cell_type": "code",
      "source": [
        "iterations = 500\n",
        "alpha = 0.000000001\n",
        "\n",
        "theta = np.zeros((6,1))\n",
        "\n",
        "theta, training_loss_hist, validation_loss_hist = linear_regression(X_train, Y_train, X_test, Y_test, theta, alpha, iterations)\n"
      ],
      "metadata": {
        "id": "Yh5uNQ3SxdsB"
      },
      "execution_count": null,
      "outputs": []
    },
    {
      "cell_type": "code",
      "source": [
        "plt.plot(range(1, iterations + 1), training_loss_hist)\n",
        "plt.plot(range(1, iterations + 1), validation_loss_hist)\n",
        "plt.grid()\n",
        "plt.xlabel('Iterations')\n",
        "plt.ylabel('Loss')\n",
        "plt.title('1A: Training Loss per Iteration')\n"
      ],
      "metadata": {
        "colab": {
          "base_uri": "https://localhost:8080/",
          "height": 490
        },
        "id": "kLN4N1Li_3YP",
        "outputId": "133cada4-cd8c-4cc5-95cc-a32e845c3978"
      },
      "execution_count": null,
      "outputs": [
        {
          "output_type": "execute_result",
          "data": {
            "text/plain": [
              "Text(0.5, 1.0, '1A: Training Loss per Iteration')"
            ]
          },
          "metadata": {},
          "execution_count": 131
        },
        {
          "output_type": "display_data",
          "data": {
            "text/plain": [
              "<Figure size 640x480 with 1 Axes>"
            ],
            "image/png": "[encoded data removed]"
          },
          "metadata": {}
        }
      ]
    },
    {
      "cell_type": "code",
      "source": [
        "categorical_cols_2 = ['area', 'bedrooms', 'bathrooms', 'stories', 'mainroad', 'guestroom', 'basement', 'hotwaterheating', 'airconditioning', 'parking', 'prefarea']\n",
        "\n",
        "Y_train = raw_df_train[['price']].to_numpy()\n",
        "\n",
        "m_train = len(Y_train)\n",
        "\n",
        "X_train = raw_df_train[categorical_cols_2].to_numpy()\n",
        "X_train = np.hstack((np.ones((m_train, 1)), X_train))\n",
        "\n",
        "Y_test = raw_df_test[['price']].to_numpy()\n",
        "\n",
        "m_test = len(Y_test)\n",
        "\n",
        "X_test = raw_df_test[categorical_cols_2].to_numpy()\n",
        "X_test = np.hstack((np.ones((m_test, 1)), X_test))"
      ],
      "metadata": {
        "id": "yR2Sbh0mxlJr"
      },
      "execution_count": null,
      "outputs": []
    },
    {
      "cell_type": "code",
      "source": [
        "X_train.shape"
      ],
      "metadata": {
        "colab": {
          "base_uri": "https://localhost:8080/"
        },
        "id": "rKGrpajcBFhu",
        "outputId": "97ecf544-62ad-443e-ecd1-05d1bed4cdc8"
      },
      "execution_count": null,
      "outputs": [
        {
          "output_type": "execute_result",
          "data": {
            "text/plain": [
              "(436, 12)"
            ]
          },
          "metadata": {},
          "execution_count": 133
        }
      ]
    },
    {
      "cell_type": "code",
      "source": [
        "iterations = 500\n",
        "alpha = 0.000000001\n",
        "\n",
        "theta = np.zeros((12,1))\n",
        "\n",
        "theta, training_loss_hist, validation_loss_hist = linear_regression(X_train, Y_train, X_test, Y_test, theta, alpha, iterations)"
      ],
      "metadata": {
        "id": "P8gMIuPFxrg4"
      },
      "execution_count": null,
      "outputs": []
    },
    {
      "cell_type": "code",
      "source": [
        "validation_loss_hist"
      ],
      "metadata": {
        "id": "4xw5c6MqAlJV",
        "outputId": "4d84ec5a-17c7-4570-8a89-8064ffcc0b51",
        "colab": {
          "base_uri": "https://localhost:8080/"
        }
      },
      "execution_count": null,
      "outputs": [
        {
          "output_type": "execute_result",
          "data": {
            "text/plain": [
              "array([1.18966766e+13, 1.12421467e+13, 1.06283522e+13, 1.00527784e+13,\n",
              "       9.51306473e+12, 9.00699618e+12, 8.53249380e+12, 8.08760656e+12,\n",
              "       7.67050349e+12, 7.27946628e+12, 6.91288237e+12, 6.56923847e+12,\n",
              "       6.24711445e+12, 5.94517762e+12, 5.66217740e+12, 5.39694019e+12,\n",
              "       5.14836473e+12, 4.91541762e+12, 4.69712915e+12, 4.49258936e+12,\n",
              "       4.30094445e+12, 4.12139324e+12, 3.95318397e+12, 3.79561129e+12,\n",
              "       3.64801337e+12, 3.50976922e+12, 3.38029622e+12, 3.25904773e+12,\n",
              "       3.14551086e+12, 3.03920445e+12, 2.93967706e+12, 2.84650518e+12,\n",
              "       2.75929148e+12, 2.67766323e+12, 2.60127076e+12, 2.52978607e+12,\n",
              "       2.46290145e+12, 2.40032827e+12, 2.34179580e+12, 2.28705009e+12,\n",
              "       2.23585293e+12, 2.18798092e+12, 2.14322452e+12, 2.10138720e+12,\n",
              "       2.06228465e+12, 2.02574402e+12, 1.99160321e+12, 1.95971022e+12,\n",
              "       1.92992249e+12, 1.90210636e+12, 1.87613652e+12, 1.85189545e+12,\n",
              "       1.82927296e+12, 1.80816577e+12, 1.78847704e+12, 1.77011599e+12,\n",
              "       1.75299751e+12, 1.73704183e+12, 1.72217418e+12, 1.70832447e+12,\n",
              "       1.69542704e+12, 1.68342031e+12, 1.67224660e+12, 1.66185187e+12,\n",
              "       1.65218545e+12, 1.64319989e+12, 1.63485073e+12, 1.62709631e+12,\n",
              "       1.61989763e+12, 1.61321812e+12, 1.60702356e+12, 1.60128189e+12,\n",
              "       1.59596308e+12, 1.59103903e+12, 1.58648341e+12, 1.58227157e+12,\n",
              "       1.57838045e+12, 1.57478845e+12, 1.57147537e+12, 1.56842228e+12,\n",
              "       1.56561149e+12, 1.56302644e+12, 1.56065164e+12, 1.55847260e+12,\n",
              "       1.55647575e+12, 1.55464844e+12, 1.55297879e+12, 1.55145575e+12,\n",
              "       1.55006894e+12, 1.54880869e+12, 1.54766596e+12, 1.54663229e+12,\n",
              "       1.54569978e+12, 1.54486107e+12, 1.54410926e+12, 1.54343794e+12,\n",
              "       1.54284109e+12, 1.54231313e+12, 1.54184882e+12, 1.54144330e+12,\n",
              "       1.54109202e+12, 1.54079074e+12, 1.54053552e+12, 1.54032267e+12,\n",
              "       1.54014877e+12, 1.54001063e+12, 1.53990528e+12, 1.53982994e+12,\n",
              "       1.53978206e+12, 1.53975924e+12, 1.53975925e+12, 1.53978003e+12,\n",
              "       1.53981967e+12, 1.53987638e+12, 1.53994850e+12, 1.54003452e+12,\n",
              "       1.54013300e+12, 1.54024264e+12, 1.54036221e+12, 1.54049059e+12,\n",
              "       1.54062673e+12, 1.54076968e+12, 1.54091855e+12, 1.54107252e+12,\n",
              "       1.54123084e+12, 1.54139280e+12, 1.54155777e+12, 1.54172517e+12,\n",
              "       1.54189446e+12, 1.54206514e+12, 1.54223676e+12, 1.54240891e+12,\n",
              "       1.54258122e+12, 1.54275334e+12, 1.54292496e+12, 1.54309579e+12,\n",
              "       1.54326560e+12, 1.54343413e+12, 1.54360120e+12, 1.54376661e+12,\n",
              "       1.54393019e+12, 1.54409181e+12, 1.54425133e+12, 1.54440863e+12,\n",
              "       1.54456363e+12, 1.54471622e+12, 1.54486634e+12, 1.54501393e+12,\n",
              "       1.54515893e+12, 1.54530130e+12, 1.54544101e+12, 1.54557803e+12,\n",
              "       1.54571235e+12, 1.54584395e+12, 1.54597282e+12, 1.54609898e+12,\n",
              "       1.54622242e+12, 1.54634315e+12, 1.54646120e+12, 1.54657657e+12,\n",
              "       1.54668930e+12, 1.54679939e+12, 1.54690689e+12, 1.54701183e+12,\n",
              "       1.54711423e+12, 1.54721412e+12, 1.54731156e+12, 1.54740656e+12,\n",
              "       1.54749918e+12, 1.54758944e+12, 1.54767740e+12, 1.54776309e+12,\n",
              "       1.54784656e+12, 1.54792784e+12, 1.54800698e+12, 1.54808402e+12,\n",
              "       1.54815901e+12, 1.54823198e+12, 1.54830299e+12, 1.54837207e+12,\n",
              "       1.54843927e+12, 1.54850462e+12, 1.54856818e+12, 1.54862997e+12,\n",
              "       1.54869006e+12, 1.54874846e+12, 1.54880523e+12, 1.54886041e+12,\n",
              "       1.54891403e+12, 1.54896613e+12, 1.54901675e+12, 1.54906593e+12,\n",
              "       1.54911370e+12, 1.54916011e+12, 1.54920518e+12, 1.54924895e+12,\n",
              "       1.54929145e+12, 1.54933273e+12, 1.54937280e+12, 1.54941171e+12,\n",
              "       1.54944948e+12, 1.54948615e+12, 1.54952174e+12, 1.54955629e+12,\n",
              "       1.54958982e+12, 1.54962236e+12, 1.54965395e+12, 1.54968459e+12,\n",
              "       1.54971433e+12, 1.54974319e+12, 1.54977119e+12, 1.54979835e+12,\n",
              "       1.54982471e+12, 1.54985028e+12, 1.54987508e+12, 1.54989914e+12,\n",
              "       1.54992248e+12, 1.54994512e+12, 1.54996708e+12, 1.54998838e+12,\n",
              "       1.55000903e+12, 1.55002907e+12, 1.55004850e+12, 1.55006734e+12,\n",
              "       1.55008561e+12, 1.55010333e+12, 1.55012051e+12, 1.55013717e+12,\n",
              "       1.55015333e+12, 1.55016899e+12, 1.55018418e+12, 1.55019891e+12,\n",
              "       1.55021319e+12, 1.55022703e+12, 1.55024046e+12, 1.55025347e+12,\n",
              "       1.55026608e+12, 1.55027831e+12, 1.55029017e+12, 1.55030166e+12,\n",
              "       1.55031280e+12, 1.55032360e+12, 1.55033407e+12, 1.55034422e+12,\n",
              "       1.55035406e+12, 1.55036360e+12, 1.55037284e+12, 1.55038180e+12,\n",
              "       1.55039049e+12, 1.55039890e+12, 1.55040706e+12, 1.55041497e+12,\n",
              "       1.55042263e+12, 1.55043006e+12, 1.55043726e+12, 1.55044424e+12,\n",
              "       1.55045100e+12, 1.55045756e+12, 1.55046391e+12, 1.55047007e+12,\n",
              "       1.55047603e+12, 1.55048182e+12, 1.55048742e+12, 1.55049285e+12,\n",
              "       1.55049811e+12, 1.55050321e+12, 1.55050816e+12, 1.55051295e+12,\n",
              "       1.55051759e+12, 1.55052209e+12, 1.55052645e+12, 1.55053067e+12,\n",
              "       1.55053476e+12, 1.55053873e+12, 1.55054257e+12, 1.55054630e+12,\n",
              "       1.55054991e+12, 1.55055341e+12, 1.55055680e+12, 1.55056008e+12,\n",
              "       1.55056326e+12, 1.55056635e+12, 1.55056933e+12, 1.55057223e+12,\n",
              "       1.55057503e+12, 1.55057775e+12, 1.55058039e+12, 1.55058294e+12,\n",
              "       1.55058541e+12, 1.55058781e+12, 1.55059013e+12, 1.55059238e+12,\n",
              "       1.55059456e+12, 1.55059667e+12, 1.55059872e+12, 1.55060070e+12,\n",
              "       1.55060262e+12, 1.55060448e+12, 1.55060629e+12, 1.55060804e+12,\n",
              "       1.55060973e+12, 1.55061137e+12, 1.55061296e+12, 1.55061450e+12,\n",
              "       1.55061599e+12, 1.55061744e+12, 1.55061884e+12, 1.55062019e+12,\n",
              "       1.55062151e+12, 1.55062278e+12, 1.55062401e+12, 1.55062521e+12,\n",
              "       1.55062637e+12, 1.55062749e+12, 1.55062858e+12, 1.55062963e+12,\n",
              "       1.55063065e+12, 1.55063164e+12, 1.55063260e+12, 1.55063352e+12,\n",
              "       1.55063442e+12, 1.55063529e+12, 1.55063614e+12, 1.55063696e+12,\n",
              "       1.55063775e+12, 1.55063851e+12, 1.55063926e+12, 1.55063998e+12,\n",
              "       1.55064067e+12, 1.55064135e+12, 1.55064200e+12, 1.55064264e+12,\n",
              "       1.55064325e+12, 1.55064385e+12, 1.55064442e+12, 1.55064498e+12,\n",
              "       1.55064552e+12, 1.55064604e+12, 1.55064655e+12, 1.55064704e+12,\n",
              "       1.55064752e+12, 1.55064798e+12, 1.55064843e+12, 1.55064886e+12,\n",
              "       1.55064928e+12, 1.55064968e+12, 1.55065008e+12, 1.55065046e+12,\n",
              "       1.55065082e+12, 1.55065118e+12, 1.55065153e+12, 1.55065186e+12,\n",
              "       1.55065219e+12, 1.55065250e+12, 1.55065280e+12, 1.55065310e+12,\n",
              "       1.55065338e+12, 1.55065366e+12, 1.55065393e+12, 1.55065419e+12,\n",
              "       1.55065444e+12, 1.55065468e+12, 1.55065492e+12, 1.55065514e+12,\n",
              "       1.55065536e+12, 1.55065558e+12, 1.55065578e+12, 1.55065598e+12,\n",
              "       1.55065618e+12, 1.55065637e+12, 1.55065655e+12, 1.55065672e+12,\n",
              "       1.55065689e+12, 1.55065706e+12, 1.55065722e+12, 1.55065737e+12,\n",
              "       1.55065752e+12, 1.55065767e+12, 1.55065781e+12, 1.55065794e+12,\n",
              "       1.55065807e+12, 1.55065820e+12, 1.55065832e+12, 1.55065844e+12,\n",
              "       1.55065856e+12, 1.55065867e+12, 1.55065878e+12, 1.55065888e+12,\n",
              "       1.55065898e+12, 1.55065908e+12, 1.55065917e+12, 1.55065926e+12,\n",
              "       1.55065935e+12, 1.55065944e+12, 1.55065952e+12, 1.55065960e+12,\n",
              "       1.55065968e+12, 1.55065975e+12, 1.55065982e+12, 1.55065989e+12,\n",
              "       1.55065996e+12, 1.55066003e+12, 1.55066009e+12, 1.55066015e+12,\n",
              "       1.55066021e+12, 1.55066027e+12, 1.55066032e+12, 1.55066038e+12,\n",
              "       1.55066043e+12, 1.55066048e+12, 1.55066052e+12, 1.55066057e+12,\n",
              "       1.55066062e+12, 1.55066066e+12, 1.55066070e+12, 1.55066074e+12,\n",
              "       1.55066078e+12, 1.55066082e+12, 1.55066085e+12, 1.55066089e+12,\n",
              "       1.55066092e+12, 1.55066095e+12, 1.55066099e+12, 1.55066102e+12,\n",
              "       1.55066105e+12, 1.55066107e+12, 1.55066110e+12, 1.55066113e+12,\n",
              "       1.55066115e+12, 1.55066118e+12, 1.55066120e+12, 1.55066122e+12,\n",
              "       1.55066124e+12, 1.55066126e+12, 1.55066128e+12, 1.55066130e+12,\n",
              "       1.55066132e+12, 1.55066134e+12, 1.55066136e+12, 1.55066137e+12,\n",
              "       1.55066139e+12, 1.55066140e+12, 1.55066142e+12, 1.55066143e+12,\n",
              "       1.55066145e+12, 1.55066146e+12, 1.55066147e+12, 1.55066148e+12,\n",
              "       1.55066149e+12, 1.55066150e+12, 1.55066151e+12, 1.55066152e+12,\n",
              "       1.55066153e+12, 1.55066154e+12, 1.55066155e+12, 1.55066156e+12,\n",
              "       1.55066157e+12, 1.55066157e+12, 1.55066158e+12, 1.55066159e+12,\n",
              "       1.55066159e+12, 1.55066160e+12, 1.55066160e+12, 1.55066161e+12,\n",
              "       1.55066161e+12, 1.55066162e+12, 1.55066162e+12, 1.55066163e+12,\n",
              "       1.55066163e+12, 1.55066164e+12, 1.55066164e+12, 1.55066164e+12,\n",
              "       1.55066164e+12, 1.55066165e+12, 1.55066165e+12, 1.55066165e+12,\n",
              "       1.55066165e+12, 1.55066165e+12, 1.55066166e+12, 1.55066166e+12,\n",
              "       1.55066166e+12, 1.55066166e+12, 1.55066166e+12, 1.55066166e+12,\n",
              "       1.55066166e+12, 1.55066166e+12, 1.55066166e+12, 1.55066166e+12,\n",
              "       1.55066166e+12, 1.55066166e+12, 1.55066166e+12, 1.55066166e+12,\n",
              "       1.55066166e+12, 1.55066166e+12, 1.55066166e+12, 1.55066166e+12,\n",
              "       1.55066165e+12, 1.55066165e+12, 1.55066165e+12, 1.55066165e+12])"
            ]
          },
          "metadata": {},
          "execution_count": 135
        }
      ]
    },
    {
      "cell_type": "code",
      "source": [
        "plt.plot(range(1, iterations + 1), training_loss_hist)\n",
        "plt.plot(range(1, iterations + 1), validation_loss_hist)\n",
        "plt.grid()\n",
        "plt.xlabel('Iterations')\n",
        "plt.ylabel('Loss')\n",
        "plt.title('1B: Training Loss per Iteration')\n",
        "plt.show()"
      ],
      "metadata": {
        "colab": {
          "base_uri": "https://localhost:8080/",
          "height": 472
        },
        "id": "9pbqdUzyx0aB",
        "outputId": "2ca106c7-8292-48ba-fccd-e39d1179566b"
      },
      "execution_count": null,
      "outputs": [
        {
          "output_type": "display_data",
          "data": {
            "text/plain": [
              "<Figure size 640x480 with 1 Axes>"
            ],
            "image/png": "[encoded data removed]"
          },
          "metadata": {}
        }
      ]
    },
    {
      "cell_type": "code",
      "source": [],
      "metadata": {
        "id": "CSC1Bhh6KbhW"
      },
      "execution_count": null,
      "outputs": []
    },
    {
      "cell_type": "code",
      "source": [
        "def feature_scaling(raw_df_train, raw_df_test, categorical_cols, scaler):\n",
        "    df_nrm_train = raw_df_train\n",
        "    df_nrm_train[['price']] = scaler.fit_transform(raw_df_train[['price']])\n",
        "    df_nrm_train[categorical_cols] = scaler.fit_transform(raw_df_train[categorical_cols])\n",
        "    Y_nrm_train = df_nrm_train[['price']].to_numpy()\n",
        "    m_nrm_train = len(Y_nrm_train)\n",
        "    X_nrm_train = df_nrm_train[categorical_cols].to_numpy()\n",
        "    X_nrm_train = np.hstack((np.ones((m_nrm_train,1)), X_nrm_train))\n",
        "    df_nrm_test = raw_df_test\n",
        "    df_nrm_test[['price']] = scaler.fit_transform(df_nrm_test[['price']])\n",
        "    df_nrm_test[categorical_cols] = scaler.fit_transform(df_nrm_test[categorical_cols])\n",
        "    Y_nrm_test = df_nrm_test[['price']].to_numpy()\n",
        "    m_nrm_test = len(Y_nrm_test)\n",
        "    X_nrm_test = df_nrm_test[categorical_cols].to_numpy()\n",
        "    X_nrm_test = np.hstack((np.ones((m_nrm_test,1)), X_nrm_test))\n",
        "    return X_nrm_train, Y_nrm_train, X_nrm_test, Y_nrm_test"
      ],
      "metadata": {
        "id": "CfIIta1rxXrj"
      },
      "execution_count": null,
      "outputs": []
    },
    {
      "cell_type": "code",
      "source": [
        "from sklearn.preprocessing import StandardScaler, MinMaxScaler\n",
        "\n",
        "scaler = MinMaxScaler()\n",
        "df_nrm_train = raw_df_train\n",
        "df_nrm_train[['price']] = scaler.fit_transform(raw_df_train[['price']])\n",
        "df_nrm_train[categorical_cols_1] = scaler.fit_transform(raw_df_train[categorical_cols_1])\n",
        "Y_nrm_train = df_nrm_train[['price']].to_numpy()\n",
        "m_nrm_train = len(Y_nrm_train)\n",
        "X_nrm_train = df_nrm_train[categorical_cols_1].to_numpy()\n",
        "X_nrm_train = np.hstack((np.ones((m_nrm_train,1)), X_nrm_train))\n"
      ],
      "metadata": {
        "id": "CwIhBi6cx7Gs"
      },
      "execution_count": null,
      "outputs": []
    },
    {
      "cell_type": "code",
      "source": [
        "df_nrm_test = raw_df_test\n",
        "\n",
        "df_nrm_test[['price']] = scaler.fit_transform(df_nrm_test[['price']])\n",
        "df_nrm_test[categorical_cols_1] = scaler.fit_transform(df_nrm_test[categorical_cols_1])\n",
        "\n",
        "Y_nrm_test = df_nrm_test[['price']].to_numpy()\n",
        "\n",
        "m_nrm_test = len(Y_nrm_test)\n",
        "\n",
        "X_nrm_test = df_nrm_test[categorical_cols_1].to_numpy()\n",
        "X_nrm_test = np.hstack((np.ones((m_nrm_test,1)), X_nrm_test))\n"
      ],
      "metadata": {
        "id": "DOcqsSPMx-5g"
      },
      "execution_count": null,
      "outputs": []
    },
    {
      "cell_type": "code",
      "source": [
        "iterations = 2000\n",
        "alpha = 0.01\n",
        "\n",
        "theta = np.zeros((6,1))\n",
        "\n",
        "theta, training_loss_hist, validation_loss_hist = linear_regression(X_nrm_train, Y_nrm_train, X_nrm_test, Y_nrm_test, theta, alpha, iterations)\n"
      ],
      "metadata": {
        "id": "ItdFnNr2yCDp"
      },
      "execution_count": null,
      "outputs": []
    },
    {
      "cell_type": "code",
      "source": [
        "plt.plot(range(1, iterations + 1), training_loss_hist)\n",
        "plt.plot(range(1, iterations + 1), validation_loss_hist)\n",
        "plt.grid()\n",
        "plt.xlabel('Iterations')\n",
        "plt.ylabel('Loss')\n",
        "plt.title('2A: Training Loss per Iteration - Normalization')\n"
      ],
      "metadata": {
        "colab": {
          "base_uri": "https://localhost:8080/",
          "height": 490
        },
        "id": "ngk5garhyFKP",
        "outputId": "c233026d-dec2-4c1d-90ac-e0f302a4a10b"
      },
      "execution_count": null,
      "outputs": [
        {
          "output_type": "execute_result",
          "data": {
            "text/plain": [
              "Text(0.5, 1.0, '2A: Training Loss per Iteration - Normalization')"
            ]
          },
          "metadata": {},
          "execution_count": 141
        },
        {
          "output_type": "display_data",
          "data": {
            "text/plain": [
              "<Figure size 640x480 with 1 Axes>"
            ],
            "image/png": "[encoded data removed]"
          },
          "metadata": {}
        }
      ]
    },
    {
      "cell_type": "code",
      "source": [
        "scaler = StandardScaler()\n",
        "\n",
        "df_nrm_train = raw_df_train\n",
        "\n",
        "df_nrm_train[['price']] = scaler.fit_transform(raw_df_train[['price']])\n",
        "df_nrm_train[categorical_cols_1] = scaler.fit_transform(raw_df_train[categorical_cols_1])\n",
        "\n",
        "Y_nrm_train = df_nrm_train[['price']].to_numpy()\n",
        "\n",
        "m_nrm_train = len(Y_nrm_train)\n",
        "\n",
        "X_nrm_train = df_nrm_train[categorical_cols_1].to_numpy()\n",
        "X_nrm_train = np.hstack((np.ones((m_nrm_train,1)), X_nrm_train))\n"
      ],
      "metadata": {
        "id": "SHzRRHThyIeE"
      },
      "execution_count": null,
      "outputs": []
    },
    {
      "cell_type": "code",
      "source": [
        "df_nrm_test = raw_df_test\n",
        "\n",
        "df_nrm_test[['price']] = scaler.fit_transform(df_nrm_test[['price']])\n",
        "df_nrm_test[categorical_cols_1] = scaler.fit_transform(df_nrm_test[categorical_cols_1])\n",
        "\n",
        "Y_nrm_test = df_nrm_test[['price']].to_numpy()\n",
        "\n",
        "m_nrm_test = len(Y_nrm_test)\n",
        "\n",
        "X_nrm_test = df_nrm_test[categorical_cols_1].to_numpy()\n",
        "X_nrm_test = np.hstack((np.ones((m_nrm_test,1)), X_nrm_test))\n"
      ],
      "metadata": {
        "id": "iapqueXvyNEy"
      },
      "execution_count": null,
      "outputs": []
    },
    {
      "cell_type": "code",
      "source": [
        "iterations = 2000\n",
        "alpha = 0.01\n",
        "\n",
        "theta = np.zeros((6,1))\n",
        "\n",
        "theta, training_loss_hist, validation_loss_hist = linear_regression(X_nrm_train, Y_nrm_train, X_nrm_test, Y_nrm_test, theta, alpha, iterations)\n"
      ],
      "metadata": {
        "id": "a2FNf8dmyP4N"
      },
      "execution_count": null,
      "outputs": []
    },
    {
      "cell_type": "code",
      "source": [
        "plt.plot(range(1, iterations + 1), training_loss_hist)\n",
        "plt.plot(range(1, iterations + 1), validation_loss_hist)\n",
        "plt.grid()\n",
        "plt.xlabel('Iterations')\n",
        "plt.ylabel('Loss')\n",
        "plt.title('2A: Training Loss per Iteration - Standardization')\n"
      ],
      "metadata": {
        "colab": {
          "base_uri": "https://localhost:8080/",
          "height": 490
        },
        "id": "_UoqcpCYyVMs",
        "outputId": "7c8e652e-c770-4a85-a574-24d461311756"
      },
      "execution_count": null,
      "outputs": [
        {
          "output_type": "execute_result",
          "data": {
            "text/plain": [
              "Text(0.5, 1.0, '2A: Training Loss per Iteration - Standardization')"
            ]
          },
          "metadata": {},
          "execution_count": 145
        },
        {
          "output_type": "display_data",
          "data": {
            "text/plain": [
              "<Figure size 640x480 with 1 Axes>"
            ],
            "image/png": "[encoded data removed]"
          },
          "metadata": {}
        }
      ]
    },
    {
      "cell_type": "code",
      "source": [
        "scaler = MinMaxScaler()\n",
        "\n",
        "df_nrm_train = raw_df_train\n",
        "\n",
        "df_nrm_train[['price']] = scaler.fit_transform(raw_df_train[['price']])\n",
        "df_nrm_train[categorical_cols_2] = scaler.fit_transform(raw_df_train[categorical_cols_2])\n",
        "\n",
        "Y_nrm_train = df_nrm_train[['price']].to_numpy()\n",
        "\n",
        "m_nrm_train = len(Y_nrm_train)\n",
        "\n",
        "X_nrm_train = df_nrm_train[categorical_cols_2].to_numpy()\n",
        "X_nrm_train = np.hstack((np.ones((m_nrm_train,1)), X_nrm_train))\n"
      ],
      "metadata": {
        "id": "yxGtshWWyYt8"
      },
      "execution_count": null,
      "outputs": []
    },
    {
      "cell_type": "code",
      "source": [
        "df_nrm_test = raw_df_test\n",
        "\n",
        "df_nrm_test[['price']] = scaler.fit_transform(df_nrm_test[['price']])\n",
        "df_nrm_test[categorical_cols_2] = scaler.fit_transform(df_nrm_test[categorical_cols_2])\n",
        "\n",
        "Y_nrm_test = df_nrm_test[['price']].to_numpy()\n",
        "\n",
        "m_nrm_test = len(Y_nrm_test)\n",
        "\n",
        "X_nrm_test = df_nrm_test[categorical_cols_2].to_numpy()\n",
        "X_nrm_test = np.hstack((np.ones((m_nrm_test,1)), X_nrm_test))\n"
      ],
      "metadata": {
        "id": "WkzXddP6ybdc"
      },
      "execution_count": null,
      "outputs": []
    },
    {
      "cell_type": "code",
      "source": [
        "iterations = 4000\n",
        "alpha = 0.01\n",
        "\n",
        "theta = np.zeros((12,1))\n",
        "\n",
        "theta, training_loss_hist, validation_loss_hist = linear_regression(X_nrm_train, Y_nrm_train, X_nrm_test, Y_nrm_test, theta, alpha, iterations)\n"
      ],
      "metadata": {
        "id": "21NomJfQygIH"
      },
      "execution_count": null,
      "outputs": []
    },
    {
      "cell_type": "code",
      "source": [
        "plt.plot(range(1, iterations + 1), training_loss_hist)\n",
        "plt.plot(range(1, iterations + 1), validation_loss_hist)\n",
        "plt.grid()\n",
        "plt.xlabel('Iterations')\n",
        "plt.ylabel('Loss')\n",
        "plt.title('2b: Training Loss per Iteration - Normalization')\n"
      ],
      "metadata": {
        "colab": {
          "base_uri": "https://localhost:8080/",
          "height": 490
        },
        "id": "M7M7JeBxykxp",
        "outputId": "0f17009a-ee23-4b68-b1a6-ebadf32de4e7"
      },
      "execution_count": null,
      "outputs": [
        {
          "output_type": "execute_result",
          "data": {
            "text/plain": [
              "Text(0.5, 1.0, '2b: Training Loss per Iteration - Normalization')"
            ]
          },
          "metadata": {},
          "execution_count": 149
        },
        {
          "output_type": "display_data",
          "data": {
            "text/plain": [
              "<Figure size 640x480 with 1 Axes>"
            ],
            "image/png": "[encoded data removed]"
          },
          "metadata": {}
        }
      ]
    },
    {
      "cell_type": "code",
      "source": [
        "scaler = StandardScaler()\n",
        "\n",
        "df_nrm_train = raw_df_train\n",
        "\n",
        "df_nrm_train[['price']] = scaler.fit_transform(raw_df_train[['price']])\n",
        "df_nrm_train[categorical_cols_2] = scaler.fit_transform(raw_df_train[categorical_cols_2])\n",
        "\n",
        "Y_nrm_train = df_nrm_train[['price']].to_numpy()\n",
        "\n",
        "m_nrm_train = len(Y_nrm_train)\n",
        "\n",
        "X_nrm_train = df_nrm_train[categorical_cols_2].to_numpy()\n",
        "X_nrm_train = np.hstack((np.ones((m_nrm_train,1)), X_nrm_train))\n"
      ],
      "metadata": {
        "id": "XoUX5QhsynuK"
      },
      "execution_count": null,
      "outputs": []
    },
    {
      "cell_type": "code",
      "source": [
        "df_nrm_test = raw_df_test\n",
        "\n",
        "df_nrm_test[['price']] = scaler.fit_transform(df_nrm_test[['price']])\n",
        "df_nrm_test[categorical_cols_2] = scaler.fit_transform(df_nrm_test[categorical_cols_2])\n",
        "\n",
        "Y_nrm_test = df_nrm_test[['price']].to_numpy()\n",
        "\n",
        "m_nrm_test = len(Y_nrm_test)\n",
        "\n",
        "X_nrm_test = df_nrm_test[categorical_cols_2].to_numpy()\n",
        "X_nrm_test = np.hstack((np.ones((m_nrm_test,1)), X_nrm_test))\n"
      ],
      "metadata": {
        "id": "9aUo24MFysJc"
      },
      "execution_count": null,
      "outputs": []
    },
    {
      "cell_type": "code",
      "source": [
        "iterations = 2000\n",
        "alpha = 0.01\n",
        "\n",
        "theta = np.zeros((12,1))\n",
        "\n",
        "theta, training_loss_hist, validation_loss_hist = linear_regression(X_nrm_train, Y_nrm_train, X_nrm_test, Y_nrm_test, theta, alpha, iterations)\n"
      ],
      "metadata": {
        "id": "ENZAhQ3tyvQL"
      },
      "execution_count": null,
      "outputs": []
    },
    {
      "cell_type": "code",
      "source": [
        "plt.plot(range(1, iterations + 1), training_loss_hist)\n",
        "plt.plot(range(1, iterations + 1), validation_loss_hist)\n",
        "plt.grid()\n",
        "plt.xlabel('Iterations')\n",
        "plt.ylabel('Loss')\n",
        "plt.title('2B: Training Loss per Iteration - Standardization')\n",
        "X_nrm_train, Y_nrm_train, X_nrm_test, Y_nrm_test = feature_scaling(raw_df_train, raw_df_test, categorical_cols_1, MinMaxScaler())\n"
      ],
      "metadata": {
        "colab": {
          "base_uri": "https://localhost:8080/",
          "height": 472
        },
        "id": "6L6XuTw2yx4p",
        "outputId": "ed993831-f616-43ec-fa30-50ebee9be212"
      },
      "execution_count": null,
      "outputs": [
        {
          "output_type": "display_data",
          "data": {
            "text/plain": [
              "<Figure size 640x480 with 1 Axes>"
            ],
            "image/png": "[encoded data removed]"
          },
          "metadata": {}
        }
      ]
    },
    {
      "cell_type": "markdown",
      "source": [],
      "metadata": {
        "id": "5WtUAENrCRn6"
      }
    },
    {
      "cell_type": "code",
      "source": [
        "def penalty_loss(X_values, Y_values, theta, alpha):\n",
        "  m = len(Y_values)\n",
        "  h= X_values.dot(theta)\n",
        "  err = np.subtract(h,Y_values)\n",
        "  square_error = np.square(err)\n",
        "  sum = (1/ (2*m)) * (np.sum(square_error) + alpha * np.sum(np.square(theta[1:])))\n",
        "  return sum\n",
        "\n",
        "def parameter_penalty(x_train, x_test, y_train, y_test, theta, iterations, learning_rate, alpha):\n",
        "  n = len(y_train)\n",
        "  cost_history_train = np.zeros(iterations)\n",
        "  cost_history_val = np.zeros(iterations)\n",
        "  for i in range(iterations):\n",
        "    h = x_train.dot(theta)\n",
        "    error = np.subtract(h,y_train)\n",
        "    diff = (1/(n))*((x_train.transpose()).dot(error) + alpha * np.vstack((np.array([0]), theta[1:])))\n",
        "    theta = theta - learning_rate * diff\n",
        "    cost_history_train[i] = penalty_loss(x_train, y_train, theta, alpha)\n",
        "    cost_history_val[i] = penalty_loss(x_test,y_test, theta, 0)\n",
        "  return theta, cost_history_train, cost_history_val\n"
      ],
      "metadata": {
        "id": "4VaiU5rrw1ig"
      },
      "execution_count": null,
      "outputs": []
    },
    {
      "cell_type": "code",
      "source": [
        "iterations = 4000\n",
        "penalty = 1\n",
        "alpha = 0.01\n",
        "\n",
        "theta = np.zeros((6,1))\n",
        "theta, training_loss_hist, validation_loss_hist = parameter_penalty(X_nrm_train, X_nrm_test, Y_nrm_train, Y_nrm_test, theta, iterations, alpha, penalty)"
      ],
      "metadata": {
        "id": "fla9lTJNy0ov"
      },
      "execution_count": null,
      "outputs": []
    },
    {
      "cell_type": "code",
      "source": [
        "plt.plot(range(1, iterations + 1), training_loss_hist)\n",
        "plt.plot(range(1, iterations + 1), validation_loss_hist)\n",
        "plt.grid()\n",
        "plt.xlabel('Iterations')\n",
        "plt.ylabel('Loss')\n",
        "plt.title('3A: Training Loss per Iteration - Penalty and Normalization')\n",
        "X_nrm_train, Y_nrm_train, X_nrm_test, Y_nrm_test = feature_scaling(raw_df_train, raw_df_test, categorical_cols_2, MinMaxScaler())\n"
      ],
      "metadata": {
        "colab": {
          "base_uri": "https://localhost:8080/",
          "height": 472
        },
        "id": "fh2uh61By3Uq",
        "outputId": "899af266-fdf5-4a8b-f282-05d8813aebe8"
      },
      "execution_count": null,
      "outputs": [
        {
          "output_type": "display_data",
          "data": {
            "text/plain": [
              "<Figure size 640x480 with 1 Axes>"
            ],
            "image/png": "[encoded data removed]"
          },
          "metadata": {}
        }
      ]
    },
    {
      "cell_type": "code",
      "source": [
        "iterations = 4000\n",
        "penalty = 10\n",
        "alpha = 0.01\n",
        "\n",
        "theta = np.zeros((12,1))\n",
        "\n",
        "theta, training_loss_hist, validation_loss_hist = parameter_penalty(X_nrm_train, X_nrm_test, Y_nrm_train, Y_nrm_test, theta, iterations, alpha, penalty)\n"
      ],
      "metadata": {
        "id": "3UOYEu3jzv0j"
      },
      "execution_count": null,
      "outputs": []
    },
    {
      "cell_type": "code",
      "source": [
        "plt.plot(range(1, iterations + 1), training_loss_hist)\n",
        "plt.plot(range(1, iterations + 1), validation_loss_hist)\n",
        "plt.grid()\n",
        "plt.xlabel('Iterations')\n",
        "plt.ylabel('Loss')\n",
        "plt.title('3B: Training Loss per Iteration - Penalty and Normalization')"
      ],
      "metadata": {
        "colab": {
          "base_uri": "https://localhost:8080/",
          "height": 490
        },
        "id": "GwBKjoA9zy3b",
        "outputId": "eb7c9345-7121-4442-fd99-5f4d9c5f5746"
      },
      "execution_count": null,
      "outputs": [
        {
          "output_type": "execute_result",
          "data": {
            "text/plain": [
              "Text(0.5, 1.0, '3B: Training Loss per Iteration - Penalty and Normalization')"
            ]
          },
          "metadata": {},
          "execution_count": 158
        },
        {
          "output_type": "display_data",
          "data": {
            "text/plain": [
              "<Figure size 640x480 with 1 Axes>"
            ],
            "image/png": "[encoded data removed]"
          },
          "metadata": {}
        }
      ]
    },
    {
      "cell_type": "code",
      "source": [],
      "metadata": {
        "id": "Pr1E58zez1KM"
      },
      "execution_count": null,
      "outputs": []
    }
  ]
}