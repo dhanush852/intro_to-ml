{
  "nbformat": 4,
  "nbformat_minor": 0,
  "metadata": {
    "colab": {
      "provenance": [],
      "authorship_tag": "ABX9TyPCScxoq/dW8a6OaofEu4MW",
      "include_colab_link": true
    },
    "kernelspec": {
      "name": "python3",
      "display_name": "Python 3"
    },
    "language_info": {
      "name": "python"
    }
  },
  "cells": [
    {
      "cell_type": "markdown",
      "metadata": {
        "id": "view-in-github",
        "colab_type": "text"
      },
      "source": [
        "<a href=\"https://colab.research.google.com/github/dhanush852/intro_to-ml/blob/main/ML6.ipynb\" target=\"_parent\"><img src=\"https://colab.research.google.com/assets/colab-badge.svg\" alt=\"Open In Colab\"/></a>"
      ]
    },
    {
      "cell_type": "code",
      "execution_count": 25,
      "metadata": {
        "id": "az2QF-99ejc0"
      },
      "outputs": [],
      "source": [
        "import os\n",
        "import torch\n",
        "import torch.nn as nn\n",
        "import torch.optim as optim\n",
        "from torch.utils.data import DataLoader, TensorDataset\n",
        "from sklearn.model_selection import train_test_split\n",
        "from sklearn.preprocessing import StandardScaler\n",
        "import pandas as pd\n",
        "import numpy as np\n",
        "import matplotlib.pyplot as plt\n",
        ""
      ]
    },
    {
      "cell_type": "code",
      "source": [
        "df = pd.read_csv('/content/Housing.csv')\n",
        "\n",
        "# Display the first 5 rows of the DataFrame\n",
        "df.head()"
      ],
      "metadata": {
        "colab": {
          "base_uri": "https://localhost:8080/",
          "height": 206
        },
        "id": "VJiKEG5Qtqht",
        "outputId": "75149da7-de56-47b3-f173-6150342dde75"
      },
      "execution_count": 26,
      "outputs": [
        {
          "output_type": "execute_result",
          "data": {
            "text/plain": [
              "      price  area  bedrooms  bathrooms  stories mainroad guestroom basement  \\\n",
              "0  13300000  7420         4          2        3      yes        no       no   \n",
              "1  12250000  8960         4          4        4      yes        no       no   \n",
              "2  12250000  9960         3          2        2      yes        no      yes   \n",
              "3  12215000  7500         4          2        2      yes        no      yes   \n",
              "4  11410000  7420         4          1        2      yes       yes      yes   \n",
              "\n",
              "  hotwaterheating airconditioning  parking prefarea furnishingstatus  \n",
              "0              no             yes        2      yes        furnished  \n",
              "1              no             yes        3       no        furnished  \n",
              "2              no              no        2      yes   semi-furnished  \n",
              "3              no             yes        3      yes        furnished  \n",
              "4              no             yes        2       no        furnished  "
            ],
            "text/html": [
              "\n",
              "  <div id=\"df-b4b9214a-ac8c-407f-9e23-60355eaa022c\" class=\"colab-df-container\">\n",
              "    <div>\n",
              "<style scoped>\n",
              "    .dataframe tbody tr th:only-of-type {\n",
              "        vertical-align: middle;\n",
              "    }\n",
              "\n",
              "    .dataframe tbody tr th {\n",
              "        vertical-align: top;\n",
              "    }\n",
              "\n",
              "    .dataframe thead th {\n",
              "        text-align: right;\n",
              "    }\n",
              "</style>\n",
              "<table border=\"1\" class=\"dataframe\">\n",
              "  <thead>\n",
              "    <tr style=\"text-align: right;\">\n",
              "      <th></th>\n",
              "      <th>price</th>\n",
              "      <th>area</th>\n",
              "      <th>bedrooms</th>\n",
              "      <th>bathrooms</th>\n",
              "      <th>stories</th>\n",
              "      <th>mainroad</th>\n",
              "      <th>guestroom</th>\n",
              "      <th>basement</th>\n",
              "      <th>hotwaterheating</th>\n",
              "      <th>airconditioning</th>\n",
              "      <th>parking</th>\n",
              "      <th>prefarea</th>\n",
              "      <th>furnishingstatus</th>\n",
              "    </tr>\n",
              "  </thead>\n",
              "  <tbody>\n",
              "    <tr>\n",
              "      <th>0</th>\n",
              "      <td>13300000</td>\n",
              "      <td>7420</td>\n",
              "      <td>4</td>\n",
              "      <td>2</td>\n",
              "      <td>3</td>\n",
              "      <td>yes</td>\n",
              "      <td>no</td>\n",
              "      <td>no</td>\n",
              "      <td>no</td>\n",
              "      <td>yes</td>\n",
              "      <td>2</td>\n",
              "      <td>yes</td>\n",
              "      <td>furnished</td>\n",
              "    </tr>\n",
              "    <tr>\n",
              "      <th>1</th>\n",
              "      <td>12250000</td>\n",
              "      <td>8960</td>\n",
              "      <td>4</td>\n",
              "      <td>4</td>\n",
              "      <td>4</td>\n",
              "      <td>yes</td>\n",
              "      <td>no</td>\n",
              "      <td>no</td>\n",
              "      <td>no</td>\n",
              "      <td>yes</td>\n",
              "      <td>3</td>\n",
              "      <td>no</td>\n",
              "      <td>furnished</td>\n",
              "    </tr>\n",
              "    <tr>\n",
              "      <th>2</th>\n",
              "      <td>12250000</td>\n",
              "      <td>9960</td>\n",
              "      <td>3</td>\n",
              "      <td>2</td>\n",
              "      <td>2</td>\n",
              "      <td>yes</td>\n",
              "      <td>no</td>\n",
              "      <td>yes</td>\n",
              "      <td>no</td>\n",
              "      <td>no</td>\n",
              "      <td>2</td>\n",
              "      <td>yes</td>\n",
              "      <td>semi-furnished</td>\n",
              "    </tr>\n",
              "    <tr>\n",
              "      <th>3</th>\n",
              "      <td>12215000</td>\n",
              "      <td>7500</td>\n",
              "      <td>4</td>\n",
              "      <td>2</td>\n",
              "      <td>2</td>\n",
              "      <td>yes</td>\n",
              "      <td>no</td>\n",
              "      <td>yes</td>\n",
              "      <td>no</td>\n",
              "      <td>yes</td>\n",
              "      <td>3</td>\n",
              "      <td>yes</td>\n",
              "      <td>furnished</td>\n",
              "    </tr>\n",
              "    <tr>\n",
              "      <th>4</th>\n",
              "      <td>11410000</td>\n",
              "      <td>7420</td>\n",
              "      <td>4</td>\n",
              "      <td>1</td>\n",
              "      <td>2</td>\n",
              "      <td>yes</td>\n",
              "      <td>yes</td>\n",
              "      <td>yes</td>\n",
              "      <td>no</td>\n",
              "      <td>yes</td>\n",
              "      <td>2</td>\n",
              "      <td>no</td>\n",
              "      <td>furnished</td>\n",
              "    </tr>\n",
              "  </tbody>\n",
              "</table>\n",
              "</div>\n",
              "    <div class=\"colab-df-buttons\">\n",
              "\n",
              "  <div class=\"colab-df-container\">\n",
              "    <button class=\"colab-df-convert\" onclick=\"convertToInteractive('df-b4b9214a-ac8c-407f-9e23-60355eaa022c')\"\n",
              "            title=\"Convert this dataframe to an interactive table.\"\n",
              "            style=\"display:none;\">\n",
              "\n",
              "  <svg xmlns=\"http://www.w3.org/2000/svg\" height=\"24px\" viewBox=\"0 -960 960 960\">\n",
              "    <path d=\"M120-120v-720h720v720H120Zm60-500h600v-160H180v160Zm220 220h160v-160H400v160Zm0 220h160v-160H400v160ZM180-400h160v-160H180v160Zm440 0h160v-160H620v160ZM180-180h160v-160H180v160Zm440 0h160v-160H620v160Z\"/>\n",
              "  </svg>\n",
              "    </button>\n",
              "\n",
              "  <style>\n",
              "    .colab-df-container {\n",
              "      display:flex;\n",
              "      gap: 12px;\n",
              "    }\n",
              "\n",
              "    .colab-df-convert {\n",
              "      background-color: #E8F0FE;\n",
              "      border: none;\n",
              "      border-radius: 50%;\n",
              "      cursor: pointer;\n",
              "      display: none;\n",
              "      fill: #1967D2;\n",
              "      height: 32px;\n",
              "      padding: 0 0 0 0;\n",
              "      width: 32px;\n",
              "    }\n",
              "\n",
              "    .colab-df-convert:hover {\n",
              "      background-color: #E2EBFA;\n",
              "      box-shadow: 0px 1px 2px rgba(60, 64, 67, 0.3), 0px 1px 3px 1px rgba(60, 64, 67, 0.15);\n",
              "      fill: #174EA6;\n",
              "    }\n",
              "\n",
              "    .colab-df-buttons div {\n",
              "      margin-bottom: 4px;\n",
              "    }\n",
              "\n",
              "    [theme=dark] .colab-df-convert {\n",
              "      background-color: #3B4455;\n",
              "      fill: #D2E3FC;\n",
              "    }\n",
              "\n",
              "    [theme=dark] .colab-df-convert:hover {\n",
              "      background-color: #434B5C;\n",
              "      box-shadow: 0px 1px 3px 1px rgba(0, 0, 0, 0.15);\n",
              "      filter: drop-shadow(0px 1px 2px rgba(0, 0, 0, 0.3));\n",
              "      fill: #FFFFFF;\n",
              "    }\n",
              "  </style>\n",
              "\n",
              "    <script>\n",
              "      const buttonEl =\n",
              "        document.querySelector('#df-b4b9214a-ac8c-407f-9e23-60355eaa022c button.colab-df-convert');\n",
              "      buttonEl.style.display =\n",
              "        google.colab.kernel.accessAllowed ? 'block' : 'none';\n",
              "\n",
              "      async function convertToInteractive(key) {\n",
              "        const element = document.querySelector('#df-b4b9214a-ac8c-407f-9e23-60355eaa022c');\n",
              "        const dataTable =\n",
              "          await google.colab.kernel.invokeFunction('convertToInteractive',\n",
              "                                                    [key], {});\n",
              "        if (!dataTable) return;\n",
              "\n",
              "        const docLinkHtml = 'Like what you see? Visit the ' +\n",
              "          '<a target=\"_blank\" href=https://colab.research.google.com/notebooks/data_table.ipynb>data table notebook</a>'\n",
              "          + ' to learn more about interactive tables.';\n",
              "        element.innerHTML = '';\n",
              "        dataTable['output_type'] = 'display_data';\n",
              "        await google.colab.output.renderOutput(dataTable, element);\n",
              "        const docLink = document.createElement('div');\n",
              "        docLink.innerHTML = docLinkHtml;\n",
              "        element.appendChild(docLink);\n",
              "      }\n",
              "    </script>\n",
              "  </div>\n",
              "\n",
              "\n",
              "<div id=\"df-aabb34ab-b6b6-4afe-8ce3-6f154d26a2c6\">\n",
              "  <button class=\"colab-df-quickchart\" onclick=\"quickchart('df-aabb34ab-b6b6-4afe-8ce3-6f154d26a2c6')\"\n",
              "            title=\"Suggest charts\"\n",
              "            style=\"display:none;\">\n",
              "\n",
              "<svg xmlns=\"http://www.w3.org/2000/svg\" height=\"24px\"viewBox=\"0 0 24 24\"\n",
              "     width=\"24px\">\n",
              "    <g>\n",
              "        <path d=\"M19 3H5c-1.1 0-2 .9-2 2v14c0 1.1.9 2 2 2h14c1.1 0 2-.9 2-2V5c0-1.1-.9-2-2-2zM9 17H7v-7h2v7zm4 0h-2V7h2v10zm4 0h-2v-4h2v4z\"/>\n",
              "    </g>\n",
              "</svg>\n",
              "  </button>\n",
              "\n",
              "<style>\n",
              "  .colab-df-quickchart {\n",
              "      --bg-color: #E8F0FE;\n",
              "      --fill-color: #1967D2;\n",
              "      --hover-bg-color: #E2EBFA;\n",
              "      --hover-fill-color: #174EA6;\n",
              "      --disabled-fill-color: #AAA;\n",
              "      --disabled-bg-color: #DDD;\n",
              "  }\n",
              "\n",
              "  [theme=dark] .colab-df-quickchart {\n",
              "      --bg-color: #3B4455;\n",
              "      --fill-color: #D2E3FC;\n",
              "      --hover-bg-color: #434B5C;\n",
              "      --hover-fill-color: #FFFFFF;\n",
              "      --disabled-bg-color: #3B4455;\n",
              "      --disabled-fill-color: #666;\n",
              "  }\n",
              "\n",
              "  .colab-df-quickchart {\n",
              "    background-color: var(--bg-color);\n",
              "    border: none;\n",
              "    border-radius: 50%;\n",
              "    cursor: pointer;\n",
              "    display: none;\n",
              "    fill: var(--fill-color);\n",
              "    height: 32px;\n",
              "    padding: 0;\n",
              "    width: 32px;\n",
              "  }\n",
              "\n",
              "  .colab-df-quickchart:hover {\n",
              "    background-color: var(--hover-bg-color);\n",
              "    box-shadow: 0 1px 2px rgba(60, 64, 67, 0.3), 0 1px 3px 1px rgba(60, 64, 67, 0.15);\n",
              "    fill: var(--button-hover-fill-color);\n",
              "  }\n",
              "\n",
              "  .colab-df-quickchart-complete:disabled,\n",
              "  .colab-df-quickchart-complete:disabled:hover {\n",
              "    background-color: var(--disabled-bg-color);\n",
              "    fill: var(--disabled-fill-color);\n",
              "    box-shadow: none;\n",
              "  }\n",
              "\n",
              "  .colab-df-spinner {\n",
              "    border: 2px solid var(--fill-color);\n",
              "    border-color: transparent;\n",
              "    border-bottom-color: var(--fill-color);\n",
              "    animation:\n",
              "      spin 1s steps(1) infinite;\n",
              "  }\n",
              "\n",
              "  @keyframes spin {\n",
              "    0% {\n",
              "      border-color: transparent;\n",
              "      border-bottom-color: var(--fill-color);\n",
              "      border-left-color: var(--fill-color);\n",
              "    }\n",
              "    20% {\n",
              "      border-color: transparent;\n",
              "      border-left-color: var(--fill-color);\n",
              "      border-top-color: var(--fill-color);\n",
              "    }\n",
              "    30% {\n",
              "      border-color: transparent;\n",
              "      border-left-color: var(--fill-color);\n",
              "      border-top-color: var(--fill-color);\n",
              "      border-right-color: var(--fill-color);\n",
              "    }\n",
              "    40% {\n",
              "      border-color: transparent;\n",
              "      border-right-color: var(--fill-color);\n",
              "      border-top-color: var(--fill-color);\n",
              "    }\n",
              "    60% {\n",
              "      border-color: transparent;\n",
              "      border-right-color: var(--fill-color);\n",
              "    }\n",
              "    80% {\n",
              "      border-color: transparent;\n",
              "      border-right-color: var(--fill-color);\n",
              "      border-bottom-color: var(--fill-color);\n",
              "    }\n",
              "    90% {\n",
              "      border-color: transparent;\n",
              "      border-bottom-color: var(--fill-color);\n",
              "    }\n",
              "  }\n",
              "</style>\n",
              "\n",
              "  <script>\n",
              "    async function quickchart(key) {\n",
              "      const quickchartButtonEl =\n",
              "        document.querySelector('#' + key + ' button');\n",
              "      quickchartButtonEl.disabled = true;  // To prevent multiple clicks.\n",
              "      quickchartButtonEl.classList.add('colab-df-spinner');\n",
              "      try {\n",
              "        const charts = await google.colab.kernel.invokeFunction(\n",
              "            'suggestCharts', [key], {});\n",
              "      } catch (error) {\n",
              "        console.error('Error during call to suggestCharts:', error);\n",
              "      }\n",
              "      quickchartButtonEl.classList.remove('colab-df-spinner');\n",
              "      quickchartButtonEl.classList.add('colab-df-quickchart-complete');\n",
              "    }\n",
              "    (() => {\n",
              "      let quickchartButtonEl =\n",
              "        document.querySelector('#df-aabb34ab-b6b6-4afe-8ce3-6f154d26a2c6 button');\n",
              "      quickchartButtonEl.style.display =\n",
              "        google.colab.kernel.accessAllowed ? 'block' : 'none';\n",
              "    })();\n",
              "  </script>\n",
              "</div>\n",
              "    </div>\n",
              "  </div>\n"
            ]
          },
          "metadata": {},
          "execution_count": 26
        }
      ]
    },
    {
      "cell_type": "code",
      "source": [
        "df['furnishingstatus'].value_counts().unique\n",
        "df = pd.get_dummies(df, columns=['furnishingstatus'], drop_first=False).drop('furnishingstatus_semi-furnished', axis=1)\n",
        "binary_columns = df.select_dtypes(include=['object']).columns\n",
        "df[binary_columns] = df[binary_columns].apply(lambda x: x.map({'yes': 1, 'no': 0}))\n",
        "df.head()\n"
      ],
      "metadata": {
        "colab": {
          "base_uri": "https://localhost:8080/",
          "height": 226
        },
        "id": "Gls93lhYurf3",
        "outputId": "19e404fe-0f23-40ef-858d-d14af655d2a1"
      },
      "execution_count": 27,
      "outputs": [
        {
          "output_type": "execute_result",
          "data": {
            "text/plain": [
              "      price  area  bedrooms  bathrooms  stories  mainroad  guestroom  \\\n",
              "0  13300000  7420         4          2        3         1          0   \n",
              "1  12250000  8960         4          4        4         1          0   \n",
              "2  12250000  9960         3          2        2         1          0   \n",
              "3  12215000  7500         4          2        2         1          0   \n",
              "4  11410000  7420         4          1        2         1          1   \n",
              "\n",
              "   basement  hotwaterheating  airconditioning  parking  prefarea  \\\n",
              "0         0                0                1        2         1   \n",
              "1         0                0                1        3         0   \n",
              "2         1                0                0        2         1   \n",
              "3         1                0                1        3         1   \n",
              "4         1                0                1        2         0   \n",
              "\n",
              "   furnishingstatus_furnished  furnishingstatus_unfurnished  \n",
              "0                           1                             0  \n",
              "1                           1                             0  \n",
              "2                           0                             0  \n",
              "3                           1                             0  \n",
              "4                           1                             0  "
            ],
            "text/html": [
              "\n",
              "  <div id=\"df-bde21fa1-6460-4ea6-bf2e-236addbb0c18\" class=\"colab-df-container\">\n",
              "    <div>\n",
              "<style scoped>\n",
              "    .dataframe tbody tr th:only-of-type {\n",
              "        vertical-align: middle;\n",
              "    }\n",
              "\n",
              "    .dataframe tbody tr th {\n",
              "        vertical-align: top;\n",
              "    }\n",
              "\n",
              "    .dataframe thead th {\n",
              "        text-align: right;\n",
              "    }\n",
              "</style>\n",
              "<table border=\"1\" class=\"dataframe\">\n",
              "  <thead>\n",
              "    <tr style=\"text-align: right;\">\n",
              "      <th></th>\n",
              "      <th>price</th>\n",
              "      <th>area</th>\n",
              "      <th>bedrooms</th>\n",
              "      <th>bathrooms</th>\n",
              "      <th>stories</th>\n",
              "      <th>mainroad</th>\n",
              "      <th>guestroom</th>\n",
              "      <th>basement</th>\n",
              "      <th>hotwaterheating</th>\n",
              "      <th>airconditioning</th>\n",
              "      <th>parking</th>\n",
              "      <th>prefarea</th>\n",
              "      <th>furnishingstatus_furnished</th>\n",
              "      <th>furnishingstatus_unfurnished</th>\n",
              "    </tr>\n",
              "  </thead>\n",
              "  <tbody>\n",
              "    <tr>\n",
              "      <th>0</th>\n",
              "      <td>13300000</td>\n",
              "      <td>7420</td>\n",
              "      <td>4</td>\n",
              "      <td>2</td>\n",
              "      <td>3</td>\n",
              "      <td>1</td>\n",
              "      <td>0</td>\n",
              "      <td>0</td>\n",
              "      <td>0</td>\n",
              "      <td>1</td>\n",
              "      <td>2</td>\n",
              "      <td>1</td>\n",
              "      <td>1</td>\n",
              "      <td>0</td>\n",
              "    </tr>\n",
              "    <tr>\n",
              "      <th>1</th>\n",
              "      <td>12250000</td>\n",
              "      <td>8960</td>\n",
              "      <td>4</td>\n",
              "      <td>4</td>\n",
              "      <td>4</td>\n",
              "      <td>1</td>\n",
              "      <td>0</td>\n",
              "      <td>0</td>\n",
              "      <td>0</td>\n",
              "      <td>1</td>\n",
              "      <td>3</td>\n",
              "      <td>0</td>\n",
              "      <td>1</td>\n",
              "      <td>0</td>\n",
              "    </tr>\n",
              "    <tr>\n",
              "      <th>2</th>\n",
              "      <td>12250000</td>\n",
              "      <td>9960</td>\n",
              "      <td>3</td>\n",
              "      <td>2</td>\n",
              "      <td>2</td>\n",
              "      <td>1</td>\n",
              "      <td>0</td>\n",
              "      <td>1</td>\n",
              "      <td>0</td>\n",
              "      <td>0</td>\n",
              "      <td>2</td>\n",
              "      <td>1</td>\n",
              "      <td>0</td>\n",
              "      <td>0</td>\n",
              "    </tr>\n",
              "    <tr>\n",
              "      <th>3</th>\n",
              "      <td>12215000</td>\n",
              "      <td>7500</td>\n",
              "      <td>4</td>\n",
              "      <td>2</td>\n",
              "      <td>2</td>\n",
              "      <td>1</td>\n",
              "      <td>0</td>\n",
              "      <td>1</td>\n",
              "      <td>0</td>\n",
              "      <td>1</td>\n",
              "      <td>3</td>\n",
              "      <td>1</td>\n",
              "      <td>1</td>\n",
              "      <td>0</td>\n",
              "    </tr>\n",
              "    <tr>\n",
              "      <th>4</th>\n",
              "      <td>11410000</td>\n",
              "      <td>7420</td>\n",
              "      <td>4</td>\n",
              "      <td>1</td>\n",
              "      <td>2</td>\n",
              "      <td>1</td>\n",
              "      <td>1</td>\n",
              "      <td>1</td>\n",
              "      <td>0</td>\n",
              "      <td>1</td>\n",
              "      <td>2</td>\n",
              "      <td>0</td>\n",
              "      <td>1</td>\n",
              "      <td>0</td>\n",
              "    </tr>\n",
              "  </tbody>\n",
              "</table>\n",
              "</div>\n",
              "    <div class=\"colab-df-buttons\">\n",
              "\n",
              "  <div class=\"colab-df-container\">\n",
              "    <button class=\"colab-df-convert\" onclick=\"convertToInteractive('df-bde21fa1-6460-4ea6-bf2e-236addbb0c18')\"\n",
              "            title=\"Convert this dataframe to an interactive table.\"\n",
              "            style=\"display:none;\">\n",
              "\n",
              "  <svg xmlns=\"http://www.w3.org/2000/svg\" height=\"24px\" viewBox=\"0 -960 960 960\">\n",
              "    <path d=\"M120-120v-720h720v720H120Zm60-500h600v-160H180v160Zm220 220h160v-160H400v160Zm0 220h160v-160H400v160ZM180-400h160v-160H180v160Zm440 0h160v-160H620v160ZM180-180h160v-160H180v160Zm440 0h160v-160H620v160Z\"/>\n",
              "  </svg>\n",
              "    </button>\n",
              "\n",
              "  <style>\n",
              "    .colab-df-container {\n",
              "      display:flex;\n",
              "      gap: 12px;\n",
              "    }\n",
              "\n",
              "    .colab-df-convert {\n",
              "      background-color: #E8F0FE;\n",
              "      border: none;\n",
              "      border-radius: 50%;\n",
              "      cursor: pointer;\n",
              "      display: none;\n",
              "      fill: #1967D2;\n",
              "      height: 32px;\n",
              "      padding: 0 0 0 0;\n",
              "      width: 32px;\n",
              "    }\n",
              "\n",
              "    .colab-df-convert:hover {\n",
              "      background-color: #E2EBFA;\n",
              "      box-shadow: 0px 1px 2px rgba(60, 64, 67, 0.3), 0px 1px 3px 1px rgba(60, 64, 67, 0.15);\n",
              "      fill: #174EA6;\n",
              "    }\n",
              "\n",
              "    .colab-df-buttons div {\n",
              "      margin-bottom: 4px;\n",
              "    }\n",
              "\n",
              "    [theme=dark] .colab-df-convert {\n",
              "      background-color: #3B4455;\n",
              "      fill: #D2E3FC;\n",
              "    }\n",
              "\n",
              "    [theme=dark] .colab-df-convert:hover {\n",
              "      background-color: #434B5C;\n",
              "      box-shadow: 0px 1px 3px 1px rgba(0, 0, 0, 0.15);\n",
              "      filter: drop-shadow(0px 1px 2px rgba(0, 0, 0, 0.3));\n",
              "      fill: #FFFFFF;\n",
              "    }\n",
              "  </style>\n",
              "\n",
              "    <script>\n",
              "      const buttonEl =\n",
              "        document.querySelector('#df-bde21fa1-6460-4ea6-bf2e-236addbb0c18 button.colab-df-convert');\n",
              "      buttonEl.style.display =\n",
              "        google.colab.kernel.accessAllowed ? 'block' : 'none';\n",
              "\n",
              "      async function convertToInteractive(key) {\n",
              "        const element = document.querySelector('#df-bde21fa1-6460-4ea6-bf2e-236addbb0c18');\n",
              "        const dataTable =\n",
              "          await google.colab.kernel.invokeFunction('convertToInteractive',\n",
              "                                                    [key], {});\n",
              "        if (!dataTable) return;\n",
              "\n",
              "        const docLinkHtml = 'Like what you see? Visit the ' +\n",
              "          '<a target=\"_blank\" href=https://colab.research.google.com/notebooks/data_table.ipynb>data table notebook</a>'\n",
              "          + ' to learn more about interactive tables.';\n",
              "        element.innerHTML = '';\n",
              "        dataTable['output_type'] = 'display_data';\n",
              "        await google.colab.output.renderOutput(dataTable, element);\n",
              "        const docLink = document.createElement('div');\n",
              "        docLink.innerHTML = docLinkHtml;\n",
              "        element.appendChild(docLink);\n",
              "      }\n",
              "    </script>\n",
              "  </div>\n",
              "\n",
              "\n",
              "<div id=\"df-35d6efab-3a43-48dd-94e5-758a375823b0\">\n",
              "  <button class=\"colab-df-quickchart\" onclick=\"quickchart('df-35d6efab-3a43-48dd-94e5-758a375823b0')\"\n",
              "            title=\"Suggest charts\"\n",
              "            style=\"display:none;\">\n",
              "\n",
              "<svg xmlns=\"http://www.w3.org/2000/svg\" height=\"24px\"viewBox=\"0 0 24 24\"\n",
              "     width=\"24px\">\n",
              "    <g>\n",
              "        <path d=\"M19 3H5c-1.1 0-2 .9-2 2v14c0 1.1.9 2 2 2h14c1.1 0 2-.9 2-2V5c0-1.1-.9-2-2-2zM9 17H7v-7h2v7zm4 0h-2V7h2v10zm4 0h-2v-4h2v4z\"/>\n",
              "    </g>\n",
              "</svg>\n",
              "  </button>\n",
              "\n",
              "<style>\n",
              "  .colab-df-quickchart {\n",
              "      --bg-color: #E8F0FE;\n",
              "      --fill-color: #1967D2;\n",
              "      --hover-bg-color: #E2EBFA;\n",
              "      --hover-fill-color: #174EA6;\n",
              "      --disabled-fill-color: #AAA;\n",
              "      --disabled-bg-color: #DDD;\n",
              "  }\n",
              "\n",
              "  [theme=dark] .colab-df-quickchart {\n",
              "      --bg-color: #3B4455;\n",
              "      --fill-color: #D2E3FC;\n",
              "      --hover-bg-color: #434B5C;\n",
              "      --hover-fill-color: #FFFFFF;\n",
              "      --disabled-bg-color: #3B4455;\n",
              "      --disabled-fill-color: #666;\n",
              "  }\n",
              "\n",
              "  .colab-df-quickchart {\n",
              "    background-color: var(--bg-color);\n",
              "    border: none;\n",
              "    border-radius: 50%;\n",
              "    cursor: pointer;\n",
              "    display: none;\n",
              "    fill: var(--fill-color);\n",
              "    height: 32px;\n",
              "    padding: 0;\n",
              "    width: 32px;\n",
              "  }\n",
              "\n",
              "  .colab-df-quickchart:hover {\n",
              "    background-color: var(--hover-bg-color);\n",
              "    box-shadow: 0 1px 2px rgba(60, 64, 67, 0.3), 0 1px 3px 1px rgba(60, 64, 67, 0.15);\n",
              "    fill: var(--button-hover-fill-color);\n",
              "  }\n",
              "\n",
              "  .colab-df-quickchart-complete:disabled,\n",
              "  .colab-df-quickchart-complete:disabled:hover {\n",
              "    background-color: var(--disabled-bg-color);\n",
              "    fill: var(--disabled-fill-color);\n",
              "    box-shadow: none;\n",
              "  }\n",
              "\n",
              "  .colab-df-spinner {\n",
              "    border: 2px solid var(--fill-color);\n",
              "    border-color: transparent;\n",
              "    border-bottom-color: var(--fill-color);\n",
              "    animation:\n",
              "      spin 1s steps(1) infinite;\n",
              "  }\n",
              "\n",
              "  @keyframes spin {\n",
              "    0% {\n",
              "      border-color: transparent;\n",
              "      border-bottom-color: var(--fill-color);\n",
              "      border-left-color: var(--fill-color);\n",
              "    }\n",
              "    20% {\n",
              "      border-color: transparent;\n",
              "      border-left-color: var(--fill-color);\n",
              "      border-top-color: var(--fill-color);\n",
              "    }\n",
              "    30% {\n",
              "      border-color: transparent;\n",
              "      border-left-color: var(--fill-color);\n",
              "      border-top-color: var(--fill-color);\n",
              "      border-right-color: var(--fill-color);\n",
              "    }\n",
              "    40% {\n",
              "      border-color: transparent;\n",
              "      border-right-color: var(--fill-color);\n",
              "      border-top-color: var(--fill-color);\n",
              "    }\n",
              "    60% {\n",
              "      border-color: transparent;\n",
              "      border-right-color: var(--fill-color);\n",
              "    }\n",
              "    80% {\n",
              "      border-color: transparent;\n",
              "      border-right-color: var(--fill-color);\n",
              "      border-bottom-color: var(--fill-color);\n",
              "    }\n",
              "    90% {\n",
              "      border-color: transparent;\n",
              "      border-bottom-color: var(--fill-color);\n",
              "    }\n",
              "  }\n",
              "</style>\n",
              "\n",
              "  <script>\n",
              "    async function quickchart(key) {\n",
              "      const quickchartButtonEl =\n",
              "        document.querySelector('#' + key + ' button');\n",
              "      quickchartButtonEl.disabled = true;  // To prevent multiple clicks.\n",
              "      quickchartButtonEl.classList.add('colab-df-spinner');\n",
              "      try {\n",
              "        const charts = await google.colab.kernel.invokeFunction(\n",
              "            'suggestCharts', [key], {});\n",
              "      } catch (error) {\n",
              "        console.error('Error during call to suggestCharts:', error);\n",
              "      }\n",
              "      quickchartButtonEl.classList.remove('colab-df-spinner');\n",
              "      quickchartButtonEl.classList.add('colab-df-quickchart-complete');\n",
              "    }\n",
              "    (() => {\n",
              "      let quickchartButtonEl =\n",
              "        document.querySelector('#df-35d6efab-3a43-48dd-94e5-758a375823b0 button');\n",
              "      quickchartButtonEl.style.display =\n",
              "        google.colab.kernel.accessAllowed ? 'block' : 'none';\n",
              "    })();\n",
              "  </script>\n",
              "</div>\n",
              "    </div>\n",
              "  </div>\n"
            ]
          },
          "metadata": {},
          "execution_count": 27
        }
      ]
    },
    {
      "cell_type": "code",
      "source": [
        "df.shape"
      ],
      "metadata": {
        "colab": {
          "base_uri": "https://localhost:8080/"
        },
        "id": "pSv6D25mu1dr",
        "outputId": "cbf2209d-799f-4c26-e438-2da6c27d39a9"
      },
      "execution_count": 28,
      "outputs": [
        {
          "output_type": "execute_result",
          "data": {
            "text/plain": [
              "(545, 14)"
            ]
          },
          "metadata": {},
          "execution_count": 28
        }
      ]
    },
    {
      "cell_type": "code",
      "source": [
        "from sklearn.preprocessing import MinMaxScaler"
      ],
      "metadata": {
        "id": "fJcDkCfDu7b1"
      },
      "execution_count": 29,
      "outputs": []
    },
    {
      "cell_type": "code",
      "source": [
        "scaler_x, scaler_y = MinMaxScaler(), MinMaxScaler()\n",
        "\n",
        "X = pd.DataFrame(scaler_x.fit_transform(df.drop('price', axis=1)), columns=df.drop('price', axis=1).columns)\n",
        "y = pd.DataFrame(scaler_y.fit_transform(df[['price']]), columns=['price'])\n",
        "\n",
        "train_X, val_X, train_Y, val_Y = train_test_split(X.values, y.values, test_size=0.2, random_state=42)\n",
        "\n",
        "X_train, y_train = torch.tensor(train_X, dtype=torch.float32), torch.tensor(train_Y, dtype=torch.float32)\n",
        "X_val, y_val = torch.tensor(val_X, dtype=torch.float32), torch.tensor(val_Y, dtype=torch.float32)\n",
        "\n"
      ],
      "metadata": {
        "id": "w4naQDthvU-B"
      },
      "execution_count": 41,
      "outputs": []
    },
    {
      "cell_type": "code",
      "source": [
        "train_loader = DataLoader(TensorDataset(torch.tensor(X_train), torch.tensor(y_train)), batch_size=32, shuffle=True)\n",
        "val_loader = DataLoader(TensorDataset(torch.tensor(X_val), torch.tensor(y_val)), batch_size=32)\n"
      ],
      "metadata": {
        "colab": {
          "base_uri": "https://localhost:8080/"
        },
        "id": "MY5k0lJp2BZQ",
        "outputId": "53feecd6-61b4-496c-8350-9a30b75d0f08"
      },
      "execution_count": 42,
      "outputs": [
        {
          "output_type": "stream",
          "name": "stderr",
          "text": [
            "<ipython-input-42-1245f3f52f9e>:1: UserWarning: To copy construct from a tensor, it is recommended to use sourceTensor.clone().detach() or sourceTensor.clone().detach().requires_grad_(True), rather than torch.tensor(sourceTensor).\n",
            "  train_loader = DataLoader(TensorDataset(torch.tensor(X_train), torch.tensor(y_train)), batch_size=32, shuffle=True)\n",
            "<ipython-input-42-1245f3f52f9e>:2: UserWarning: To copy construct from a tensor, it is recommended to use sourceTensor.clone().detach() or sourceTensor.clone().detach().requires_grad_(True), rather than torch.tensor(sourceTensor).\n",
            "  val_loader = DataLoader(TensorDataset(torch.tensor(X_val), torch.tensor(y_val)), batch_size=32)\n"
          ]
        }
      ]
    },
    {
      "cell_type": "code",
      "source": [
        "def model_train(model, criterion, optimizer, epochs, train_loader, X_val, y_val):\n",
        "    loss_train = []\n",
        "    loss_val = []\n",
        "    for epoch in range(epochs + 1):\n",
        "        # Training\n",
        "        model.train()\n",
        "        for inputs, targets in train_loader:\n",
        "            optimizer.zero_grad()\n",
        "            outputs = model(inputs)\n",
        "            loss = criterion(outputs, targets)\n",
        "            loss.backward()\n",
        "            optimizer.step()\n",
        "        # Validation\n",
        "        model.eval()\n",
        "        with torch.no_grad():\n",
        "            val_outputs = model(X_val)\n",
        "            val_loss = criterion(val_outputs, y_val)\n",
        "            if epoch % 500 == 0:\n",
        "              print(f'Epoch {epoch}/{epochs}, Training Loss: {loss.item()}, Validation Loss: {val_loss.item()}')\n",
        "              loss_val.append(val_loss)\n",
        "              loss_train.append(loss)\n",
        "    return loss_train, loss_val\n"
      ],
      "metadata": {
        "id": "TuLwdONsvbMV"
      },
      "execution_count": 43,
      "outputs": []
    },
    {
      "cell_type": "markdown",
      "source": [
        "## **Part 1.A**"
      ],
      "metadata": {
        "id": "38hu35gfyLP_"
      }
    },
    {
      "cell_type": "code",
      "source": [
        "# Model 1\n",
        "model1 = nn.Sequential(\n",
        "    nn.Linear(X_train.shape[1], 32),\n",
        "    nn.Tanh(),\n",
        "    nn.Linear(32, 1)\n",
        ")  # Removed .to(torch.float64) to keep it in Float precision\n",
        "optimizer1 = optim.SGD(model1.parameters(), lr=0.01)\n",
        "train_loss, val_loss = model_train(model1, nn.MSELoss(), optimizer1, 5000, train_loader, X_val, y_val)\n"
      ],
      "metadata": {
        "colab": {
          "base_uri": "https://localhost:8080/"
        },
        "id": "OOf_xW43yW5Q",
        "outputId": "53e1374a-003b-4adb-857a-4e0765e5925e"
      },
      "execution_count": 45,
      "outputs": [
        {
          "output_type": "stream",
          "name": "stdout",
          "text": [
            "Epoch 0/5000, Training Loss: 0.10039403289556503, Validation Loss: 0.07903138548135757\n",
            "Epoch 500/5000, Training Loss: 0.005294686183333397, Validation Loss: 0.01319195982068777\n",
            "Epoch 1000/5000, Training Loss: 0.007409542798995972, Validation Loss: 0.013190061785280704\n",
            "Epoch 1500/5000, Training Loss: 0.008349657990038395, Validation Loss: 0.013185414485633373\n",
            "Epoch 2000/5000, Training Loss: 0.003512619063258171, Validation Loss: 0.013208026066422462\n",
            "Epoch 2500/5000, Training Loss: 0.004578852094709873, Validation Loss: 0.013171275146305561\n",
            "Epoch 3000/5000, Training Loss: 0.009650250896811485, Validation Loss: 0.013167105615139008\n",
            "Epoch 3500/5000, Training Loss: 0.0048214527778327465, Validation Loss: 0.013194478116929531\n",
            "Epoch 4000/5000, Training Loss: 0.0055327266454696655, Validation Loss: 0.013156761415302753\n",
            "Epoch 4500/5000, Training Loss: 0.0038597634993493557, Validation Loss: 0.013265423476696014\n",
            "Epoch 5000/5000, Training Loss: 0.003908403217792511, Validation Loss: 0.013253600336611271\n"
          ]
        }
      ]
    },
    {
      "cell_type": "code",
      "source": [
        "for name, param in model1.named_parameters():\n",
        "    print(f\"Parameter name: {name}, Shape: {param.shape}\")"
      ],
      "metadata": {
        "colab": {
          "base_uri": "https://localhost:8080/"
        },
        "id": "ToXVo9t85WjF",
        "outputId": "df53fe58-f9fd-4a48-a367-1807692795d8"
      },
      "execution_count": 47,
      "outputs": [
        {
          "output_type": "stream",
          "name": "stdout",
          "text": [
            "Parameter name: 0.weight, Shape: torch.Size([32, 13])\n",
            "Parameter name: 0.bias, Shape: torch.Size([32])\n",
            "Parameter name: 2.weight, Shape: torch.Size([1, 32])\n",
            "Parameter name: 2.bias, Shape: torch.Size([1])\n"
          ]
        }
      ]
    },
    {
      "cell_type": "code",
      "source": [
        "total_params = sum(p.numel() for p in model1.parameters() if p.requires_grad)\n",
        "print(\"Total number of trainable parameters \", total_params,  '\\n')"
      ],
      "metadata": {
        "colab": {
          "base_uri": "https://localhost:8080/"
        },
        "id": "xMjhBHkf5hV_",
        "outputId": "5b246258-ceb1-410f-eb48-55f0619ffed1"
      },
      "execution_count": 48,
      "outputs": [
        {
          "output_type": "stream",
          "name": "stdout",
          "text": [
            "Total number of trainable parameters  481 \n",
            "\n"
          ]
        }
      ]
    },
    {
      "cell_type": "code",
      "source": [
        "epochs = range(0, 5001, 500)\n",
        "epochs"
      ],
      "metadata": {
        "colab": {
          "base_uri": "https://localhost:8080/"
        },
        "id": "zIGKg6UQ5k-5",
        "outputId": "ab34f162-342e-4ab1-dbba-590d76bf697f"
      },
      "execution_count": 49,
      "outputs": [
        {
          "output_type": "execute_result",
          "data": {
            "text/plain": [
              "range(0, 5001, 500)"
            ]
          },
          "metadata": {},
          "execution_count": 49
        }
      ]
    },
    {
      "cell_type": "code",
      "source": [
        "plt.figure(figsize=(10, 10))\n",
        "plt.subplot(2,2,1)\n",
        "plt.plot(epochs, [item.detach().item() for item in train_loss], 'green', label='training Loss')\n",
        "plt.plot(epochs, [item.detach().item() for item in val_loss], 'orange', label='validation Loss'); plt.title('Loss with Learning Rate of 0.1'); plt.legend(); plt.show()\n"
      ],
      "metadata": {
        "colab": {
          "base_uri": "https://localhost:8080/",
          "height": 433
        },
        "id": "1EIsgtZA53S_",
        "outputId": "c0b12de4-a10e-40f5-8439-96d572f35a96"
      },
      "execution_count": 51,
      "outputs": [
        {
          "output_type": "display_data",
          "data": {
            "text/plain": [
              "<Figure size 1000x1000 with 1 Axes>"
            ],
            "image/png": "[encoded data removed]"
          },
          "metadata": {}
        }
      ]
    },
    {
      "cell_type": "markdown",
      "source": [
        "## **PART 1.B**"
      ],
      "metadata": {
        "id": "aNOGffC76Smi"
      }
    },
    {
      "cell_type": "code",
      "source": [
        "model2 = nn.Sequential(\n",
        "    nn.Linear(X_train.shape[1], 32),\n",
        "    nn.Tanh(),\n",
        "    nn.Linear(32, 64),  # Second hidden layer with 64 neurons\n",
        "    nn.Tanh(),\n",
        "    nn.Linear(64, 16),  # Third hidden layer with 16 neurons\n",
        "    nn.Tanh(),\n",
        "    nn.Linear(16, 1)   # Output layer with 1 neuron\n",
        ")  # Removed .to(torch.float64) to keep it in Float precision\n",
        "optimizer2 = optim.SGD(model2.parameters(), lr=0.01)\n",
        "criterion = nn.MSELoss()\n",
        "train_loss_2, val_loss_2 = model_train(model2, criterion, optimizer2, 5000, train_loader, X_val, y_val)\n"
      ],
      "metadata": {
        "colab": {
          "base_uri": "https://localhost:8080/"
        },
        "id": "k2D2WyfO6Wgv",
        "outputId": "c077cdd2-dec8-4c10-c21e-a6bf24a487ea"
      },
      "execution_count": 54,
      "outputs": [
        {
          "output_type": "stream",
          "name": "stdout",
          "text": [
            "Epoch 0/5000, Training Loss: 0.02586529031395912, Validation Loss: 0.03866295889019966\n",
            "Epoch 500/5000, Training Loss: 0.007458447478711605, Validation Loss: 0.013624352402985096\n",
            "Epoch 1000/5000, Training Loss: 0.005985305178910494, Validation Loss: 0.013579562306404114\n",
            "Epoch 1500/5000, Training Loss: 0.0046053375117480755, Validation Loss: 0.013443274423480034\n",
            "Epoch 2000/5000, Training Loss: 0.006932082585990429, Validation Loss: 0.013440541923046112\n",
            "Epoch 2500/5000, Training Loss: 0.005910057574510574, Validation Loss: 0.01343543455004692\n",
            "Epoch 3000/5000, Training Loss: 0.008261363953351974, Validation Loss: 0.013386903330683708\n",
            "Epoch 3500/5000, Training Loss: 0.003944695461541414, Validation Loss: 0.013340742327272892\n",
            "Epoch 4000/5000, Training Loss: 0.005746741313487291, Validation Loss: 0.013425524346530437\n",
            "Epoch 4500/5000, Training Loss: 0.006176352966576815, Validation Loss: 0.01339021697640419\n",
            "Epoch 5000/5000, Training Loss: 0.004538550972938538, Validation Loss: 0.01340117771178484\n"
          ]
        }
      ]
    },
    {
      "cell_type": "code",
      "source": [
        "for name, param in model2.named_parameters():\n",
        "    print(f\"Parameter name: {name}, Shape: {param.shape}\")"
      ],
      "metadata": {
        "colab": {
          "base_uri": "https://localhost:8080/"
        },
        "id": "IzEFq4EI7Lst",
        "outputId": "a5dfefa9-def2-45db-c441-78df4bcb9416"
      },
      "execution_count": 55,
      "outputs": [
        {
          "output_type": "stream",
          "name": "stdout",
          "text": [
            "Parameter name: 0.weight, Shape: torch.Size([32, 13])\n",
            "Parameter name: 0.bias, Shape: torch.Size([32])\n",
            "Parameter name: 2.weight, Shape: torch.Size([64, 32])\n",
            "Parameter name: 2.bias, Shape: torch.Size([64])\n",
            "Parameter name: 4.weight, Shape: torch.Size([16, 64])\n",
            "Parameter name: 4.bias, Shape: torch.Size([16])\n",
            "Parameter name: 6.weight, Shape: torch.Size([1, 16])\n",
            "Parameter name: 6.bias, Shape: torch.Size([1])\n"
          ]
        }
      ]
    },
    {
      "cell_type": "code",
      "source": [
        "total_params = sum(p.numel() for p in model2.parameters() if p.requires_grad)\n",
        "print(\"Total number of trainable parameters \", total_params,  '\\n')"
      ],
      "metadata": {
        "colab": {
          "base_uri": "https://localhost:8080/"
        },
        "id": "u24Slbv47OwO",
        "outputId": "c37797aa-58f9-4b36-e700-b5be893dcf4e"
      },
      "execution_count": 56,
      "outputs": [
        {
          "output_type": "stream",
          "name": "stdout",
          "text": [
            "Total number of trainable parameters  3617 \n",
            "\n"
          ]
        }
      ]
    },
    {
      "cell_type": "code",
      "source": [
        "plt.figure(figsize=(10, 10))\n",
        "plt.title('Loss for optimizer - SGD')\n",
        "\n",
        "plt.subplot(2,2,1)\n",
        "plt.plot(epochs, np.array([item.detach().item() for item in train_loss_2]), color='blue', label = 'training Loss')\n",
        "plt.plot(epochs, np.array([item.detach().item() for item in val_loss_2]), color='red', label = 'validation Loss')\n",
        "plt.title('Loss with Learning Rate of 0.1')\n",
        "plt.legend()\n",
        "\n",
        "plt.show()"
      ],
      "metadata": {
        "colab": {
          "base_uri": "https://localhost:8080/",
          "height": 488
        },
        "id": "f9Ynv8mm7TWx",
        "outputId": "d46bdf2b-210e-408d-c598-8e7a8f53b812"
      },
      "execution_count": 57,
      "outputs": [
        {
          "output_type": "stream",
          "name": "stderr",
          "text": [
            "<ipython-input-57-13cacacf0b85>:4: MatplotlibDeprecationWarning: Auto-removal of overlapping axes is deprecated since 3.6 and will be removed two minor releases later; explicitly call ax.remove() as needed.\n",
            "  plt.subplot(2,2,1)\n"
          ]
        },
        {
          "output_type": "display_data",
          "data": {
            "text/plain": [
              "<Figure size 1000x1000 with 1 Axes>"
            ],
            "image/png": "[encoded data removed]"
          },
          "metadata": {}
        }
      ]
    },
    {
      "cell_type": "code",
      "source": [],
      "metadata": {
        "id": "r2SZtiRZC96W"
      },
      "execution_count": null,
      "outputs": []
    },
    {
      "cell_type": "markdown",
      "source": [
        "## **PART 2.1**"
      ],
      "metadata": {
        "id": "sQk92CUQC-Wa"
      }
    },
    {
      "cell_type": "code",
      "source": [
        "!pip install ipython-autotime\n",
        "%load_ext autotime"
      ],
      "metadata": {
        "colab": {
          "base_uri": "https://localhost:8080/"
        },
        "id": "tlSZJc9CDCg9",
        "outputId": "751f723d-5eca-4143-8511-a8bdcefdcf30"
      },
      "execution_count": 58,
      "outputs": [
        {
          "output_type": "stream",
          "name": "stdout",
          "text": [
            "Collecting ipython-autotime\n",
            "  Downloading ipython_autotime-0.3.2-py2.py3-none-any.whl (7.0 kB)\n",
            "Requirement already satisfied: ipython in /usr/local/lib/python3.10/dist-packages (from ipython-autotime) (7.34.0)\n",
            "Requirement already satisfied: setuptools>=18.5 in /usr/local/lib/python3.10/dist-packages (from ipython->ipython-autotime) (67.7.2)\n",
            "Collecting jedi>=0.16 (from ipython->ipython-autotime)\n",
            "  Downloading jedi-0.19.1-py2.py3-none-any.whl (1.6 MB)\n",
            "\u001b[2K     \u001b[90m━━━━━━━━━━━━━━━━━━━━━━━━━━━━━━━━━━━━━━━━\u001b[0m \u001b[32m1.6/1.6 MB\u001b[0m \u001b[31m18.4 MB/s\u001b[0m eta \u001b[36m0:00:00\u001b[0m\n",
            "\u001b[?25hRequirement already satisfied: decorator in /usr/local/lib/python3.10/dist-packages (from ipython->ipython-autotime) (4.4.2)\n",
            "Requirement already satisfied: pickleshare in /usr/local/lib/python3.10/dist-packages (from ipython->ipython-autotime) (0.7.5)\n",
            "Requirement already satisfied: traitlets>=4.2 in /usr/local/lib/python3.10/dist-packages (from ipython->ipython-autotime) (5.7.1)\n",
            "Requirement already satisfied: prompt-toolkit!=3.0.0,!=3.0.1,<3.1.0,>=2.0.0 in /usr/local/lib/python3.10/dist-packages (from ipython->ipython-autotime) (3.0.41)\n",
            "Requirement already satisfied: pygments in /usr/local/lib/python3.10/dist-packages (from ipython->ipython-autotime) (2.16.1)\n",
            "Requirement already satisfied: backcall in /usr/local/lib/python3.10/dist-packages (from ipython->ipython-autotime) (0.2.0)\n",
            "Requirement already satisfied: matplotlib-inline in /usr/local/lib/python3.10/dist-packages (from ipython->ipython-autotime) (0.1.6)\n",
            "Requirement already satisfied: pexpect>4.3 in /usr/local/lib/python3.10/dist-packages (from ipython->ipython-autotime) (4.9.0)\n",
            "Requirement already satisfied: parso<0.9.0,>=0.8.3 in /usr/local/lib/python3.10/dist-packages (from jedi>=0.16->ipython->ipython-autotime) (0.8.3)\n",
            "Requirement already satisfied: ptyprocess>=0.5 in /usr/local/lib/python3.10/dist-packages (from pexpect>4.3->ipython->ipython-autotime) (0.7.0)\n",
            "Requirement already satisfied: wcwidth in /usr/local/lib/python3.10/dist-packages (from prompt-toolkit!=3.0.0,!=3.0.1,<3.1.0,>=2.0.0->ipython->ipython-autotime) (0.2.12)\n",
            "Installing collected packages: jedi, ipython-autotime\n",
            "Successfully installed ipython-autotime-0.3.2 jedi-0.19.1\n",
            "time: 3.31 ms (started: 2023-12-02 01:02:27 +00:00)\n"
          ]
        }
      ]
    },
    {
      "cell_type": "code",
      "source": [
        "import os\n",
        "import torch\n",
        "import torch.nn as nn\n",
        "import torch.optim as optim\n",
        "from torch.utils.data import DataLoader, TensorDataset\n",
        "from torchvision import datasets, transforms\n",
        "from sklearn.model_selection import train_test_split\n",
        "from sklearn.preprocessing import StandardScaler\n",
        "import pandas as pd\n",
        "import numpy as np\n",
        "import matplotlib.pyplot as plt\n",
        "from sklearn.metrics import classification_report"
      ],
      "metadata": {
        "colab": {
          "base_uri": "https://localhost:8080/"
        },
        "id": "ht56fj27DJi8",
        "outputId": "ae60212f-6414-43f4-d8be-440e473d62fc"
      },
      "execution_count": 59,
      "outputs": [
        {
          "output_type": "stream",
          "name": "stdout",
          "text": [
            "time: 331 ms (started: 2023-12-02 01:02:46 +00:00)\n"
          ]
        }
      ]
    },
    {
      "cell_type": "code",
      "source": [
        "torch.manual_seed(123)"
      ],
      "metadata": {
        "colab": {
          "base_uri": "https://localhost:8080/"
        },
        "id": "josEWJ_7DPSc",
        "outputId": "ca6dd405-eda9-4143-e1c6-1793ca5cbd2b"
      },
      "execution_count": 60,
      "outputs": [
        {
          "output_type": "execute_result",
          "data": {
            "text/plain": [
              "<torch._C.Generator at 0x7abe100c4fd0>"
            ]
          },
          "metadata": {},
          "execution_count": 60
        },
        {
          "output_type": "stream",
          "name": "stdout",
          "text": [
            "time: 7.94 ms (started: 2023-12-02 01:03:11 +00:00)\n"
          ]
        }
      ]
    },
    {
      "cell_type": "code",
      "source": [
        "train_dataset = datasets.CIFAR10(root='./data', train=True, download=True, transform=transforms.ToTensor())\n",
        "\n",
        "# Calculate mean and std\n",
        "imgs = torch.stack([img_t for img_t, _ in train_dataset], dim=3)\n",
        "mean = imgs.view(3, -1).mean(dim=1)\n",
        "std = imgs.view(3, -1).std(dim=1)"
      ],
      "metadata": {
        "colab": {
          "base_uri": "https://localhost:8080/"
        },
        "id": "agkN-k7UDUtZ",
        "outputId": "ee466a19-9cb6-4b44-9599-6740cbfdf03c"
      },
      "execution_count": 61,
      "outputs": [
        {
          "output_type": "stream",
          "name": "stdout",
          "text": [
            "Downloading https://www.cs.toronto.edu/~kriz/cifar-10-python.tar.gz to ./data/cifar-10-python.tar.gz\n"
          ]
        },
        {
          "output_type": "stream",
          "name": "stderr",
          "text": [
            "100%|██████████| 170498071/170498071 [00:02<00:00, 80440440.11it/s]\n"
          ]
        },
        {
          "output_type": "stream",
          "name": "stdout",
          "text": [
            "Extracting ./data/cifar-10-python.tar.gz to ./data\n",
            "time: 21.4 s (started: 2023-12-02 01:03:32 +00:00)\n"
          ]
        }
      ]
    },
    {
      "cell_type": "code",
      "source": [
        "mean"
      ],
      "metadata": {
        "colab": {
          "base_uri": "https://localhost:8080/"
        },
        "id": "k5tbGm0_D27C",
        "outputId": "ea0c8227-0756-4eb9-c3a1-6b5a3aa8817a"
      },
      "execution_count": 62,
      "outputs": [
        {
          "output_type": "execute_result",
          "data": {
            "text/plain": [
              "tensor([0.4914, 0.4822, 0.4465])"
            ]
          },
          "metadata": {},
          "execution_count": 62
        },
        {
          "output_type": "stream",
          "name": "stdout",
          "text": [
            "time: 20.5 ms (started: 2023-12-02 01:05:53 +00:00)\n"
          ]
        }
      ]
    },
    {
      "cell_type": "code",
      "source": [
        "std"
      ],
      "metadata": {
        "colab": {
          "base_uri": "https://localhost:8080/"
        },
        "id": "fQ0PohblD4d1",
        "outputId": "e782a649-feb6-4e58-a9c3-3b6b12cd9647"
      },
      "execution_count": 63,
      "outputs": [
        {
          "output_type": "execute_result",
          "data": {
            "text/plain": [
              "tensor([0.2470, 0.2435, 0.2616])"
            ]
          },
          "metadata": {},
          "execution_count": 63
        },
        {
          "output_type": "stream",
          "name": "stdout",
          "text": [
            "time: 4.53 ms (started: 2023-12-02 01:05:59 +00:00)\n"
          ]
        }
      ]
    },
    {
      "cell_type": "code",
      "source": [
        "# Set device\n",
        "device = torch.device(\"cuda\" if torch.cuda.is_available() else \"cpu\")\n",
        ""
      ],
      "metadata": {
        "colab": {
          "base_uri": "https://localhost:8080/"
        },
        "id": "9_PLnL9_D8zp",
        "outputId": "6fb131d5-ad9b-4672-b851-7f558b5eebd9"
      },
      "execution_count": 64,
      "outputs": [
        {
          "output_type": "stream",
          "name": "stdout",
          "text": [
            "time: 718 µs (started: 2023-12-02 01:06:16 +00:00)\n"
          ]
        }
      ]
    },
    {
      "cell_type": "code",
      "source": [
        "device"
      ],
      "metadata": {
        "colab": {
          "base_uri": "https://localhost:8080/"
        },
        "id": "e1wJIKC_D-4y",
        "outputId": "39da2f7c-7568-44a8-9c66-35d619813dee"
      },
      "execution_count": 65,
      "outputs": [
        {
          "output_type": "execute_result",
          "data": {
            "text/plain": [
              "device(type='cpu')"
            ]
          },
          "metadata": {},
          "execution_count": 65
        },
        {
          "output_type": "stream",
          "name": "stdout",
          "text": [
            "time: 3.76 ms (started: 2023-12-02 01:06:26 +00:00)\n"
          ]
        }
      ]
    },
    {
      "cell_type": "code",
      "source": [
        "# Define transformation with calculated mean and std\n",
        "transform = transforms.Compose([\n",
        "    transforms.ToTensor(),\n",
        "    transforms.Normalize((0.4915, 0.4823, 0.4468), (0.2470, 0.2435, 0.2616))\n",
        "])\n",
        "\n",
        "# Load CIFAR10 datasets\n",
        "cifar10 = datasets.CIFAR10('./data', train=True, download=False, transform=transform)\n",
        "cifar10_val = datasets.CIFAR10('./data', train=False, download=False, transform=transform)\n"
      ],
      "metadata": {
        "colab": {
          "base_uri": "https://localhost:8080/"
        },
        "id": "UBi8gb6bFS52",
        "outputId": "2849fd9d-644f-4fe1-f382-61fb755e67e4"
      },
      "execution_count": 66,
      "outputs": [
        {
          "output_type": "stream",
          "name": "stdout",
          "text": [
            "time: 1.07 s (started: 2023-12-02 01:12:09 +00:00)\n"
          ]
        }
      ]
    },
    {
      "cell_type": "code",
      "source": [
        "train_loader = DataLoader(cifar10, batch_size=32, shuffle=True, num_workers=2)\n",
        "test_loader = DataLoader(cifar10_val, batch_size=32, shuffle=False, num_workers=2)\n",
        "model = nn.Sequential(\n",
        "    nn.Flatten(),\n",
        "    nn.Linear(32 * 32 * 3, 512),\n",
        "    nn.Tanh(),\n",
        "    nn.Linear(512, 10)\n",
        ").to(device)\n",
        "\n",
        "# Define loss function and optimizer\n",
        "criterion = nn.CrossEntropyLoss()\n",
        "optimizer = optim.SGD(model.parameters(), lr=0.001)"
      ],
      "metadata": {
        "colab": {
          "base_uri": "https://localhost:8080/"
        },
        "id": "qXuRNHQQFZib",
        "outputId": "cefeb8fc-04cc-4e2f-d2a7-8353360513e9"
      },
      "execution_count": 68,
      "outputs": [
        {
          "output_type": "stream",
          "name": "stdout",
          "text": [
            "time: 19.1 ms (started: 2023-12-02 01:12:56 +00:00)\n"
          ]
        }
      ]
    },
    {
      "cell_type": "code",
      "source": [
        "def train_model(model, train_loader, test_loader, num_epochs=300, lr=0.001):\n",
        "    device = torch.device(\"cuda\" if torch.cuda.is_available() else \"cpu\")\n",
        "    model.to(device)\n",
        "\n",
        "    criterion = nn.CrossEntropyLoss()\n",
        "    optimizer = optim.SGD(model.parameters(), lr=lr)\n",
        "    for epoch in range(num_epochs):\n",
        "        model.train()\n",
        "        running_loss = 0.0\n",
        "\n",
        "        for inputs, labels in train_loader:\n",
        "            inputs, labels = inputs.to(device), labels.to(device)\n",
        "            optimizer.zero_grad()\n",
        "            outputs = model(inputs)\n",
        "            loss = criterion(outputs, labels)\n",
        "            loss.backward()\n",
        "            optimizer.step()\n",
        "            running_loss += loss.item()\n",
        "\n",
        "        # Testing the model\n",
        "        model.eval()\n",
        "        correct = 0\n",
        "        total = 0\n",
        "        all_predicted = []\n",
        "        all_labels = []\n",
        "\n",
        "        with torch.no_grad():\n",
        "            for inputs, labels in test_loader:\n",
        "                inputs, labels = inputs.to(device), labels.to(device)\n",
        "                outputs = model(inputs)\n",
        "                _, predicted = torch.max(outputs.data, 1)\n",
        "                total += labels.size(0)\n",
        "                correct += (predicted == labels).sum().item()\n",
        "\n",
        "                all_predicted.extend(predicted.cpu().numpy())\n",
        "                all_labels.extend(labels.cpu().numpy())\n",
        "\n",
        "        accuracy = correct / total\n",
        "\n",
        "        if epoch % 1 == 0:\n",
        "            print(f'Epoch {epoch+1}/{num_epochs}, Loss: {running_loss/len(train_loader)}, Test Accuracy: {accuracy * 100:.2f}%')\n",
        "\n",
        "    # Classification Report\n",
        "    report = classification_report(all_labels, all_predicted)\n",
        "    print(\"Classification Report:\\n\", report)\n"
      ],
      "metadata": {
        "colab": {
          "base_uri": "https://localhost:8080/"
        },
        "id": "logYJGoMFoxw",
        "outputId": "80e136d8-fb29-4399-a62c-f7bd38a6297c"
      },
      "execution_count": 71,
      "outputs": [
        {
          "output_type": "stream",
          "name": "stdout",
          "text": [
            "time: 3.24 ms (started: 2023-12-02 01:15:00 +00:00)\n"
          ]
        }
      ]
    },
    {
      "cell_type": "code",
      "source": [
        "train_model(model, train_loader, test_loader, num_epochs=300, lr=0.01)"
      ],
      "metadata": {
        "colab": {
          "base_uri": "https://localhost:8080/"
        },
        "id": "rCUKPlC4FpxZ",
        "outputId": "e4fa8191-e574-4663-f90e-33b3e15bf2fd"
      },
      "execution_count": 72,
      "outputs": [
        {
          "output_type": "stream",
          "name": "stdout",
          "text": [
            "Epoch 1/300, Loss: 1.6521172705020037, Test Accuracy: 43.15%\n",
            "Epoch 2/300, Loss: 1.5804378465437692, Test Accuracy: 44.45%\n",
            "Epoch 3/300, Loss: 1.5198366514246813, Test Accuracy: 45.26%\n",
            "Epoch 4/300, Loss: 1.4625313013544161, Test Accuracy: 46.44%\n",
            "Epoch 5/300, Loss: 1.4085316710646, Test Accuracy: 47.50%\n",
            "Epoch 6/300, Loss: 1.3539841107580803, Test Accuracy: 47.11%\n",
            "Epoch 7/300, Loss: 1.3031534532744078, Test Accuracy: 47.23%\n",
            "Epoch 8/300, Loss: 1.249340126015632, Test Accuracy: 48.36%\n",
            "Epoch 9/300, Loss: 1.1990976107097633, Test Accuracy: 47.90%\n",
            "Epoch 10/300, Loss: 1.147438968516891, Test Accuracy: 48.39%\n",
            "Epoch 11/300, Loss: 1.0958708692496966, Test Accuracy: 49.10%\n",
            "Epoch 12/300, Loss: 1.0460041413990564, Test Accuracy: 48.73%\n",
            "Epoch 13/300, Loss: 0.9943198018247931, Test Accuracy: 48.12%\n",
            "Epoch 14/300, Loss: 0.9466876947223873, Test Accuracy: 48.06%\n",
            "Epoch 15/300, Loss: 0.8974496146195681, Test Accuracy: 48.03%\n",
            "Epoch 16/300, Loss: 0.8493160491216968, Test Accuracy: 48.20%\n",
            "Epoch 17/300, Loss: 0.8030849673087522, Test Accuracy: 47.89%\n",
            "Epoch 18/300, Loss: 0.7584418158308482, Test Accuracy: 47.59%\n",
            "Epoch 19/300, Loss: 0.7151811761079655, Test Accuracy: 47.85%\n",
            "Epoch 20/300, Loss: 0.6756449853161246, Test Accuracy: 46.26%\n",
            "Epoch 21/300, Loss: 0.6319736301021857, Test Accuracy: 48.21%\n",
            "Epoch 22/300, Loss: 0.5908622399439662, Test Accuracy: 47.18%\n",
            "Epoch 23/300, Loss: 0.5566875617700895, Test Accuracy: 47.14%\n",
            "Epoch 24/300, Loss: 0.518112089501614, Test Accuracy: 46.81%\n",
            "Epoch 25/300, Loss: 0.48450431075144945, Test Accuracy: 46.79%\n",
            "Epoch 26/300, Loss: 0.4544286360381432, Test Accuracy: 46.92%\n",
            "Epoch 27/300, Loss: 0.4219303291364885, Test Accuracy: 47.37%\n",
            "Epoch 28/300, Loss: 0.3913330497912543, Test Accuracy: 46.04%\n",
            "Epoch 29/300, Loss: 0.36696073348066094, Test Accuracy: 47.30%\n",
            "Epoch 30/300, Loss: 0.3374213149731768, Test Accuracy: 46.83%\n",
            "Epoch 31/300, Loss: 0.31385827586483817, Test Accuracy: 46.64%\n",
            "Epoch 32/300, Loss: 0.29224866034697816, Test Accuracy: 46.86%\n",
            "Epoch 33/300, Loss: 0.2670081588925266, Test Accuracy: 46.87%\n",
            "Epoch 34/300, Loss: 0.24813721908622266, Test Accuracy: 46.66%\n",
            "Epoch 35/300, Loss: 0.23375389504264885, Test Accuracy: 45.88%\n",
            "Epoch 36/300, Loss: 0.2140110737321778, Test Accuracy: 44.58%\n",
            "Epoch 37/300, Loss: 0.1977330784617863, Test Accuracy: 46.29%\n",
            "Epoch 38/300, Loss: 0.18204637396644494, Test Accuracy: 45.95%\n",
            "Epoch 39/300, Loss: 0.16695387970587036, Test Accuracy: 46.55%\n",
            "Epoch 40/300, Loss: 0.15741203715089264, Test Accuracy: 45.88%\n",
            "Epoch 41/300, Loss: 0.14299652590079714, Test Accuracy: 46.73%\n",
            "Epoch 42/300, Loss: 0.13252591986926565, Test Accuracy: 47.06%\n",
            "Epoch 43/300, Loss: 0.12256554260692647, Test Accuracy: 46.26%\n",
            "Epoch 44/300, Loss: 0.11413938269109697, Test Accuracy: 46.65%\n",
            "Epoch 45/300, Loss: 0.10578923942479504, Test Accuracy: 46.28%\n",
            "Epoch 46/300, Loss: 0.09701926458772374, Test Accuracy: 46.52%\n",
            "Epoch 47/300, Loss: 0.09125530832016308, Test Accuracy: 46.09%\n",
            "Epoch 48/300, Loss: 0.08323960484351703, Test Accuracy: 45.85%\n",
            "Epoch 49/300, Loss: 0.07793031386096777, Test Accuracy: 46.47%\n",
            "Epoch 50/300, Loss: 0.07340179563703174, Test Accuracy: 46.87%\n",
            "Epoch 51/300, Loss: 0.06789153587890602, Test Accuracy: 46.78%\n",
            "Epoch 52/300, Loss: 0.06405183663013762, Test Accuracy: 46.37%\n",
            "Epoch 53/300, Loss: 0.0600957814508707, Test Accuracy: 46.46%\n",
            "Epoch 54/300, Loss: 0.05622955678139294, Test Accuracy: 46.63%\n",
            "Epoch 55/300, Loss: 0.05343070523771657, Test Accuracy: 46.30%\n",
            "Epoch 56/300, Loss: 0.050525530729435685, Test Accuracy: 46.39%\n",
            "Epoch 57/300, Loss: 0.04866047613251232, Test Accuracy: 46.61%\n",
            "Epoch 58/300, Loss: 0.04477761479205454, Test Accuracy: 46.35%\n",
            "Epoch 59/300, Loss: 0.04320085038545989, Test Accuracy: 46.14%\n",
            "Epoch 60/300, Loss: 0.04076752209498458, Test Accuracy: 46.08%\n",
            "Epoch 61/300, Loss: 0.03865865762783447, Test Accuracy: 46.75%\n",
            "Epoch 62/300, Loss: 0.03657484882626199, Test Accuracy: 46.46%\n",
            "Epoch 63/300, Loss: 0.03542648075280743, Test Accuracy: 46.50%\n",
            "Epoch 64/300, Loss: 0.033578440731108876, Test Accuracy: 46.75%\n",
            "Epoch 65/300, Loss: 0.03269095509417322, Test Accuracy: 46.60%\n",
            "Epoch 66/300, Loss: 0.030699097605628306, Test Accuracy: 46.80%\n",
            "Epoch 67/300, Loss: 0.02998452520347126, Test Accuracy: 46.49%\n",
            "Epoch 68/300, Loss: 0.028528229944808355, Test Accuracy: 46.47%\n",
            "Epoch 69/300, Loss: 0.02694758165255904, Test Accuracy: 46.21%\n",
            "Epoch 70/300, Loss: 0.02668847565218015, Test Accuracy: 46.48%\n",
            "Epoch 71/300, Loss: 0.025075945568819764, Test Accuracy: 46.66%\n",
            "Epoch 72/300, Loss: 0.02466983015107388, Test Accuracy: 46.84%\n",
            "Epoch 73/300, Loss: 0.02402608683398345, Test Accuracy: 46.53%\n",
            "Epoch 74/300, Loss: 0.023083230435862537, Test Accuracy: 46.30%\n",
            "Epoch 75/300, Loss: 0.022875311340533687, Test Accuracy: 45.97%\n",
            "Epoch 76/300, Loss: 0.021731449574141533, Test Accuracy: 46.55%\n",
            "Epoch 77/300, Loss: 0.021448273174178693, Test Accuracy: 46.52%\n",
            "Epoch 78/300, Loss: 0.020670220698572585, Test Accuracy: 46.26%\n",
            "Epoch 79/300, Loss: 0.0195862539636921, Test Accuracy: 46.81%\n",
            "Epoch 80/300, Loss: 0.019641837506165927, Test Accuracy: 46.74%\n",
            "Epoch 81/300, Loss: 0.01876176614671831, Test Accuracy: 46.37%\n",
            "Epoch 82/300, Loss: 0.01837130212919192, Test Accuracy: 46.63%\n",
            "Epoch 83/300, Loss: 0.01816597857267637, Test Accuracy: 46.64%\n",
            "Epoch 84/300, Loss: 0.017544476555211092, Test Accuracy: 46.46%\n",
            "Epoch 85/300, Loss: 0.016873627706232432, Test Accuracy: 46.45%\n",
            "Epoch 86/300, Loss: 0.017143391363825637, Test Accuracy: 46.52%\n",
            "Epoch 87/300, Loss: 0.016380528962896258, Test Accuracy: 46.51%\n",
            "Epoch 88/300, Loss: 0.015886996532489456, Test Accuracy: 46.32%\n",
            "Epoch 89/300, Loss: 0.015363656431591462, Test Accuracy: 46.62%\n",
            "Epoch 90/300, Loss: 0.014941332523632968, Test Accuracy: 46.39%\n",
            "Epoch 91/300, Loss: 0.01471734142839022, Test Accuracy: 46.36%\n",
            "Epoch 92/300, Loss: 0.014288926734848238, Test Accuracy: 46.58%\n",
            "Epoch 93/300, Loss: 0.014111164306610422, Test Accuracy: 46.30%\n",
            "Epoch 94/300, Loss: 0.013687521494538907, Test Accuracy: 46.27%\n",
            "Epoch 95/300, Loss: 0.013534353128965093, Test Accuracy: 46.33%\n",
            "Epoch 96/300, Loss: 0.013250522929531541, Test Accuracy: 46.49%\n",
            "Epoch 97/300, Loss: 0.012950430891726235, Test Accuracy: 46.56%\n",
            "Epoch 98/300, Loss: 0.012681678208622007, Test Accuracy: 46.68%\n",
            "Epoch 99/300, Loss: 0.012520023269765913, Test Accuracy: 46.49%\n",
            "Epoch 100/300, Loss: 0.012335369779930348, Test Accuracy: 46.60%\n",
            "Epoch 101/300, Loss: 0.012068102038533963, Test Accuracy: 46.37%\n",
            "Epoch 102/300, Loss: 0.011870389203025565, Test Accuracy: 46.45%\n",
            "Epoch 103/300, Loss: 0.011635880608359496, Test Accuracy: 46.39%\n",
            "Epoch 104/300, Loss: 0.011446556186044895, Test Accuracy: 46.22%\n",
            "Epoch 105/300, Loss: 0.011449126720962353, Test Accuracy: 46.39%\n",
            "Epoch 106/300, Loss: 0.011080324867894004, Test Accuracy: 46.44%\n",
            "Epoch 107/300, Loss: 0.01091612842510754, Test Accuracy: 46.53%\n",
            "Epoch 108/300, Loss: 0.010745574411550586, Test Accuracy: 46.41%\n",
            "Epoch 109/300, Loss: 0.010496180533161547, Test Accuracy: 46.47%\n",
            "Epoch 110/300, Loss: 0.01035216191970646, Test Accuracy: 46.69%\n",
            "Epoch 111/300, Loss: 0.010294637492049298, Test Accuracy: 46.31%\n",
            "Epoch 112/300, Loss: 0.010068107112141008, Test Accuracy: 46.57%\n",
            "Epoch 113/300, Loss: 0.009943575087353176, Test Accuracy: 46.46%\n",
            "Epoch 114/300, Loss: 0.009806347389122136, Test Accuracy: 46.58%\n",
            "Epoch 115/300, Loss: 0.009609846772133866, Test Accuracy: 46.71%\n",
            "Epoch 116/300, Loss: 0.009482827100733573, Test Accuracy: 46.40%\n",
            "Epoch 117/300, Loss: 0.009367233553695148, Test Accuracy: 46.42%\n",
            "Epoch 118/300, Loss: 0.009251358316137537, Test Accuracy: 46.31%\n",
            "Epoch 119/300, Loss: 0.00911956567434035, Test Accuracy: 46.59%\n",
            "Epoch 120/300, Loss: 0.00893467967443154, Test Accuracy: 46.32%\n",
            "Epoch 121/300, Loss: 0.00887006637357266, Test Accuracy: 46.53%\n",
            "Epoch 122/300, Loss: 0.008757781855862108, Test Accuracy: 46.43%\n",
            "Epoch 123/300, Loss: 0.008623649449023923, Test Accuracy: 46.31%\n",
            "Epoch 124/300, Loss: 0.008564376571082813, Test Accuracy: 46.44%\n",
            "Epoch 125/300, Loss: 0.008428683381418025, Test Accuracy: 46.05%\n",
            "Epoch 126/300, Loss: 0.008314380125945252, Test Accuracy: 46.52%\n",
            "Epoch 127/300, Loss: 0.008205748831415912, Test Accuracy: 46.30%\n",
            "Epoch 128/300, Loss: 0.008111260352883861, Test Accuracy: 46.58%\n",
            "Epoch 129/300, Loss: 0.007993335385168696, Test Accuracy: 46.71%\n",
            "Epoch 130/300, Loss: 0.007903217812922622, Test Accuracy: 46.24%\n",
            "Epoch 131/300, Loss: 0.00781233190566001, Test Accuracy: 46.54%\n",
            "Epoch 132/300, Loss: 0.00770140274502909, Test Accuracy: 46.56%\n",
            "Epoch 133/300, Loss: 0.0076539544820647286, Test Accuracy: 46.33%\n",
            "Epoch 134/300, Loss: 0.007530021327932056, Test Accuracy: 46.41%\n",
            "Epoch 135/300, Loss: 0.007434082744399983, Test Accuracy: 46.60%\n",
            "Epoch 136/300, Loss: 0.0073594021711019435, Test Accuracy: 46.49%\n",
            "Epoch 137/300, Loss: 0.007285498056122205, Test Accuracy: 46.58%\n",
            "Epoch 138/300, Loss: 0.0071995996166096905, Test Accuracy: 46.53%\n",
            "Epoch 139/300, Loss: 0.007124542555416042, Test Accuracy: 46.42%\n",
            "Epoch 140/300, Loss: 0.00705536986166112, Test Accuracy: 46.52%\n",
            "Epoch 141/300, Loss: 0.006963541256341314, Test Accuracy: 46.42%\n",
            "Epoch 142/300, Loss: 0.0068913316613352805, Test Accuracy: 46.43%\n",
            "Epoch 143/300, Loss: 0.006836607304454727, Test Accuracy: 46.60%\n",
            "Epoch 144/300, Loss: 0.006761622746246828, Test Accuracy: 46.42%\n",
            "Epoch 145/300, Loss: 0.006673188021457775, Test Accuracy: 46.44%\n",
            "Epoch 146/300, Loss: 0.006614029655228258, Test Accuracy: 46.43%\n",
            "Epoch 147/300, Loss: 0.006542946558036935, Test Accuracy: 46.21%\n",
            "Epoch 148/300, Loss: 0.006486058564229808, Test Accuracy: 46.51%\n",
            "Epoch 149/300, Loss: 0.006419555968423246, Test Accuracy: 46.41%\n",
            "Epoch 150/300, Loss: 0.006365720535701788, Test Accuracy: 46.37%\n",
            "Epoch 151/300, Loss: 0.006286170895515881, Test Accuracy: 46.45%\n",
            "Epoch 152/300, Loss: 0.006236795647491677, Test Accuracy: 46.44%\n",
            "Epoch 153/300, Loss: 0.006177555565452364, Test Accuracy: 46.41%\n",
            "Epoch 154/300, Loss: 0.0061134056298995315, Test Accuracy: 46.60%\n",
            "Epoch 155/300, Loss: 0.006044875722115124, Test Accuracy: 46.34%\n",
            "Epoch 156/300, Loss: 0.005995429740945784, Test Accuracy: 46.16%\n",
            "Epoch 157/300, Loss: 0.005953047102643743, Test Accuracy: 46.54%\n",
            "Epoch 158/300, Loss: 0.00588813055216103, Test Accuracy: 46.36%\n",
            "Epoch 159/300, Loss: 0.005829815159034001, Test Accuracy: 46.30%\n",
            "Epoch 160/300, Loss: 0.005788469020788506, Test Accuracy: 46.33%\n",
            "Epoch 161/300, Loss: 0.0057194081509887446, Test Accuracy: 46.42%\n",
            "Epoch 162/300, Loss: 0.0056900763891634945, Test Accuracy: 46.34%\n",
            "Epoch 163/300, Loss: 0.0056314890672734584, Test Accuracy: 46.43%\n",
            "Epoch 164/300, Loss: 0.0055843182532289565, Test Accuracy: 46.34%\n",
            "Epoch 165/300, Loss: 0.005529932334532893, Test Accuracy: 46.25%\n",
            "Epoch 166/300, Loss: 0.005480694986006301, Test Accuracy: 46.41%\n",
            "Epoch 167/300, Loss: 0.005439800962416058, Test Accuracy: 46.35%\n",
            "Epoch 168/300, Loss: 0.00538251282300464, Test Accuracy: 46.50%\n",
            "Epoch 169/300, Loss: 0.005337228367828495, Test Accuracy: 46.44%\n",
            "Epoch 170/300, Loss: 0.005294682984183747, Test Accuracy: 46.41%\n",
            "Epoch 171/300, Loss: 0.005262249360315058, Test Accuracy: 46.17%\n",
            "Epoch 172/300, Loss: 0.005215800102288886, Test Accuracy: 46.34%\n",
            "Epoch 173/300, Loss: 0.005173319725764252, Test Accuracy: 46.43%\n",
            "Epoch 174/300, Loss: 0.0051209048735381835, Test Accuracy: 46.55%\n",
            "Epoch 175/300, Loss: 0.005078459693022401, Test Accuracy: 46.36%\n",
            "Epoch 176/300, Loss: 0.0050439278415499, Test Accuracy: 46.53%\n",
            "Epoch 177/300, Loss: 0.005007016551767262, Test Accuracy: 46.35%\n",
            "Epoch 178/300, Loss: 0.004973149739690864, Test Accuracy: 46.33%\n",
            "Epoch 179/300, Loss: 0.004930987740078522, Test Accuracy: 46.23%\n",
            "Epoch 180/300, Loss: 0.004888740459651289, Test Accuracy: 46.47%\n",
            "Epoch 181/300, Loss: 0.004847669434719984, Test Accuracy: 46.27%\n",
            "Epoch 182/300, Loss: 0.004811947973134021, Test Accuracy: 46.40%\n",
            "Epoch 183/300, Loss: 0.00477013222352433, Test Accuracy: 46.48%\n",
            "Epoch 184/300, Loss: 0.004737283959561722, Test Accuracy: 46.22%\n",
            "Epoch 185/300, Loss: 0.00470068693349897, Test Accuracy: 46.44%\n",
            "Epoch 186/300, Loss: 0.004673335423111506, Test Accuracy: 46.30%\n",
            "Epoch 187/300, Loss: 0.004640165088526662, Test Accuracy: 46.41%\n",
            "Epoch 188/300, Loss: 0.004602413316914527, Test Accuracy: 46.46%\n",
            "Epoch 189/300, Loss: 0.004566066762103544, Test Accuracy: 46.37%\n",
            "Epoch 190/300, Loss: 0.004537050017457806, Test Accuracy: 46.43%\n",
            "Epoch 191/300, Loss: 0.004504614870432795, Test Accuracy: 46.47%\n",
            "Epoch 192/300, Loss: 0.004479275698763433, Test Accuracy: 46.32%\n",
            "Epoch 193/300, Loss: 0.004435529055131059, Test Accuracy: 46.36%\n",
            "Epoch 194/300, Loss: 0.004408082138253608, Test Accuracy: 46.41%\n",
            "Epoch 195/300, Loss: 0.004372622498971907, Test Accuracy: 46.43%\n",
            "Epoch 196/300, Loss: 0.0043425731452078255, Test Accuracy: 46.41%\n",
            "Epoch 197/300, Loss: 0.0043176171528944126, Test Accuracy: 46.32%\n",
            "Epoch 198/300, Loss: 0.004283114826224473, Test Accuracy: 46.40%\n",
            "Epoch 199/300, Loss: 0.004257794865243189, Test Accuracy: 46.43%\n",
            "Epoch 200/300, Loss: 0.00422845135209933, Test Accuracy: 46.52%\n",
            "Epoch 201/300, Loss: 0.004198365622382999, Test Accuracy: 46.29%\n",
            "Epoch 202/300, Loss: 0.00417097257086751, Test Accuracy: 46.39%\n",
            "Epoch 203/300, Loss: 0.004140672800074536, Test Accuracy: 46.41%\n",
            "Epoch 204/300, Loss: 0.004115963240898311, Test Accuracy: 46.32%\n",
            "Epoch 205/300, Loss: 0.004081610707603085, Test Accuracy: 46.42%\n",
            "Epoch 206/300, Loss: 0.0040638568183682475, Test Accuracy: 46.41%\n",
            "Epoch 207/300, Loss: 0.004034158541038585, Test Accuracy: 46.38%\n",
            "Epoch 208/300, Loss: 0.004003579805319698, Test Accuracy: 46.52%\n",
            "Epoch 209/300, Loss: 0.003977131998474499, Test Accuracy: 46.42%\n",
            "Epoch 210/300, Loss: 0.0039572251781282595, Test Accuracy: 46.29%\n",
            "Epoch 211/300, Loss: 0.003933481389662026, Test Accuracy: 46.42%\n",
            "Epoch 212/300, Loss: 0.003908129309000768, Test Accuracy: 46.50%\n",
            "Epoch 213/300, Loss: 0.0038802997332473862, Test Accuracy: 46.43%\n",
            "Epoch 214/300, Loss: 0.0038570784199482362, Test Accuracy: 46.50%\n",
            "Epoch 215/300, Loss: 0.0038284156981692368, Test Accuracy: 46.31%\n",
            "Epoch 216/300, Loss: 0.0038081994126786217, Test Accuracy: 46.43%\n",
            "Epoch 217/300, Loss: 0.003789753064999425, Test Accuracy: 46.13%\n",
            "Epoch 218/300, Loss: 0.0037612617273546246, Test Accuracy: 46.32%\n",
            "Epoch 219/300, Loss: 0.003737788517218767, Test Accuracy: 46.47%\n",
            "Epoch 220/300, Loss: 0.003717697059267313, Test Accuracy: 46.28%\n",
            "Epoch 221/300, Loss: 0.0036967343421949648, Test Accuracy: 46.44%\n",
            "Epoch 222/300, Loss: 0.0036737007834225827, Test Accuracy: 46.27%\n",
            "Epoch 223/300, Loss: 0.003653723528231503, Test Accuracy: 46.33%\n",
            "Epoch 224/300, Loss: 0.0036288713273650093, Test Accuracy: 46.33%\n",
            "Epoch 225/300, Loss: 0.0036061756333404162, Test Accuracy: 46.33%\n",
            "Epoch 226/300, Loss: 0.003588431019047591, Test Accuracy: 46.38%\n",
            "Epoch 227/300, Loss: 0.003568144407083405, Test Accuracy: 46.42%\n",
            "Epoch 228/300, Loss: 0.003544409252641817, Test Accuracy: 46.39%\n",
            "Epoch 229/300, Loss: 0.0035226147203877216, Test Accuracy: 46.37%\n",
            "Epoch 230/300, Loss: 0.0035048010469320746, Test Accuracy: 46.34%\n",
            "Epoch 231/300, Loss: 0.003484587505953154, Test Accuracy: 46.38%\n",
            "Epoch 232/300, Loss: 0.003466156128107529, Test Accuracy: 46.38%\n",
            "Epoch 233/300, Loss: 0.0034434198739569603, Test Accuracy: 46.26%\n",
            "Epoch 234/300, Loss: 0.0034248108621204054, Test Accuracy: 46.41%\n",
            "Epoch 235/300, Loss: 0.003407718024144494, Test Accuracy: 46.39%\n",
            "Epoch 236/300, Loss: 0.003387728432504435, Test Accuracy: 46.42%\n",
            "Epoch 237/300, Loss: 0.0033648654688787256, Test Accuracy: 46.28%\n",
            "Epoch 238/300, Loss: 0.003347438299132872, Test Accuracy: 46.45%\n",
            "Epoch 239/300, Loss: 0.003331032436462006, Test Accuracy: 46.39%\n",
            "Epoch 240/300, Loss: 0.0033131123425692833, Test Accuracy: 46.34%\n",
            "Epoch 241/300, Loss: 0.0032924102924368507, Test Accuracy: 46.36%\n",
            "Epoch 242/300, Loss: 0.0032770960729227175, Test Accuracy: 46.48%\n",
            "Epoch 243/300, Loss: 0.0032582972279165275, Test Accuracy: 46.37%\n",
            "Epoch 244/300, Loss: 0.0032412573656154246, Test Accuracy: 46.44%\n",
            "Epoch 245/300, Loss: 0.003223197243902749, Test Accuracy: 46.34%\n",
            "Epoch 246/300, Loss: 0.0032095514058826046, Test Accuracy: 46.42%\n",
            "Epoch 247/300, Loss: 0.0031895194375012796, Test Accuracy: 46.45%\n",
            "Epoch 248/300, Loss: 0.0031713938045745058, Test Accuracy: 46.33%\n",
            "Epoch 249/300, Loss: 0.003157238603268064, Test Accuracy: 46.50%\n",
            "Epoch 250/300, Loss: 0.0031408669130003138, Test Accuracy: 46.39%\n",
            "Epoch 251/300, Loss: 0.0031252729053855162, Test Accuracy: 46.31%\n",
            "Epoch 252/300, Loss: 0.0031075899632825197, Test Accuracy: 46.28%\n",
            "Epoch 253/300, Loss: 0.0030900551731205443, Test Accuracy: 46.47%\n",
            "Epoch 254/300, Loss: 0.003080192890187448, Test Accuracy: 46.45%\n",
            "Epoch 255/300, Loss: 0.003061778238683734, Test Accuracy: 46.32%\n",
            "Epoch 256/300, Loss: 0.003046404727125661, Test Accuracy: 46.48%\n",
            "Epoch 257/300, Loss: 0.0030268456146177037, Test Accuracy: 46.38%\n",
            "Epoch 258/300, Loss: 0.003014522163413098, Test Accuracy: 46.40%\n",
            "Epoch 259/300, Loss: 0.002998722334775504, Test Accuracy: 46.38%\n",
            "Epoch 260/300, Loss: 0.002982027942352879, Test Accuracy: 46.32%\n",
            "Epoch 261/300, Loss: 0.002969718253331155, Test Accuracy: 46.48%\n",
            "Epoch 262/300, Loss: 0.002952626858071036, Test Accuracy: 46.37%\n",
            "Epoch 263/300, Loss: 0.0029414609968078324, Test Accuracy: 46.42%\n",
            "Epoch 264/300, Loss: 0.0029243383523385427, Test Accuracy: 46.38%\n",
            "Epoch 265/300, Loss: 0.0029117256463746647, Test Accuracy: 46.34%\n",
            "Epoch 266/300, Loss: 0.002897987902368242, Test Accuracy: 46.43%\n",
            "Epoch 267/300, Loss: 0.0028830282789341012, Test Accuracy: 46.35%\n",
            "Epoch 268/300, Loss: 0.002870039763977788, Test Accuracy: 46.48%\n",
            "Epoch 269/300, Loss: 0.002855990785135341, Test Accuracy: 46.41%\n",
            "Epoch 270/300, Loss: 0.00284292120333065, Test Accuracy: 46.34%\n",
            "Epoch 271/300, Loss: 0.0028310952332289085, Test Accuracy: 46.38%\n",
            "Epoch 272/300, Loss: 0.002812286183298807, Test Accuracy: 46.41%\n",
            "Epoch 273/300, Loss: 0.0028044259650406313, Test Accuracy: 46.30%\n",
            "Epoch 274/300, Loss: 0.002790762962873546, Test Accuracy: 46.29%\n",
            "Epoch 275/300, Loss: 0.0027768136607214896, Test Accuracy: 46.37%\n",
            "Epoch 276/300, Loss: 0.002761993092596197, Test Accuracy: 46.41%\n",
            "Epoch 277/300, Loss: 0.002748818992475025, Test Accuracy: 46.36%\n",
            "Epoch 278/300, Loss: 0.002736787100352933, Test Accuracy: 46.40%\n",
            "Epoch 279/300, Loss: 0.0027258174980425123, Test Accuracy: 46.38%\n",
            "Epoch 280/300, Loss: 0.002712623666827725, Test Accuracy: 46.32%\n",
            "Epoch 281/300, Loss: 0.0027022401651639254, Test Accuracy: 46.38%\n",
            "Epoch 282/300, Loss: 0.0026899651115252538, Test Accuracy: 46.32%\n",
            "Epoch 283/300, Loss: 0.00267561457789624, Test Accuracy: 46.42%\n",
            "Epoch 284/300, Loss: 0.0026632369307786827, Test Accuracy: 46.39%\n",
            "Epoch 285/300, Loss: 0.0026527357640600525, Test Accuracy: 46.35%\n",
            "Epoch 286/300, Loss: 0.002643273066701302, Test Accuracy: 46.39%\n",
            "Epoch 287/300, Loss: 0.0026288867753948863, Test Accuracy: 46.35%\n",
            "Epoch 288/300, Loss: 0.002616797818463255, Test Accuracy: 46.39%\n",
            "Epoch 289/300, Loss: 0.0026049305008866144, Test Accuracy: 46.33%\n",
            "Epoch 290/300, Loss: 0.0025932669720921714, Test Accuracy: 46.31%\n",
            "Epoch 291/300, Loss: 0.00258026281845418, Test Accuracy: 46.22%\n",
            "Epoch 292/300, Loss: 0.002571773420517605, Test Accuracy: 46.23%\n",
            "Epoch 293/300, Loss: 0.002561234738868414, Test Accuracy: 46.31%\n",
            "Epoch 294/300, Loss: 0.0025501772036635325, Test Accuracy: 46.37%\n",
            "Epoch 295/300, Loss: 0.0025344548759754374, Test Accuracy: 46.24%\n",
            "Epoch 296/300, Loss: 0.002527197924372874, Test Accuracy: 46.33%\n",
            "Epoch 297/300, Loss: 0.0025166352315235617, Test Accuracy: 46.30%\n",
            "Epoch 298/300, Loss: 0.002505141013583153, Test Accuracy: 46.33%\n",
            "Epoch 299/300, Loss: 0.002496123177825246, Test Accuracy: 46.37%\n",
            "Epoch 300/300, Loss: 0.0024842160130640633, Test Accuracy: 46.37%\n",
            "Classification Report:\n",
            "               precision    recall  f1-score   support\n",
            "\n",
            "           0       0.54      0.53      0.53      1000\n",
            "           1       0.60      0.53      0.56      1000\n",
            "           2       0.34      0.37      0.35      1000\n",
            "           3       0.30      0.29      0.30      1000\n",
            "           4       0.39      0.42      0.41      1000\n",
            "           5       0.34      0.34      0.34      1000\n",
            "           6       0.48      0.52      0.50      1000\n",
            "           7       0.54      0.50      0.52      1000\n",
            "           8       0.58      0.64      0.61      1000\n",
            "           9       0.55      0.50      0.52      1000\n",
            "\n",
            "    accuracy                           0.46     10000\n",
            "   macro avg       0.47      0.46      0.46     10000\n",
            "weighted avg       0.47      0.46      0.46     10000\n",
            "\n",
            "time: 2h 51min 42s (started: 2023-12-02 01:15:03 +00:00)\n"
          ]
        }
      ]
    },
    {
      "cell_type": "code",
      "source": [
        "model2 = nn.Sequential(\n",
        "    nn.Flatten(),\n",
        "    nn.Linear(32 * 32 * 3, 512),\n",
        "    nn.Tanh(),\n",
        "    nn.Linear(512, 256),\n",
        "    nn.Tanh(),\n",
        "    nn.Linear(256, 128),\n",
        "    nn.Tanh(),\n",
        "    nn.Linear(128, 10)\n",
        ").to(device)"
      ],
      "metadata": {
        "colab": {
          "base_uri": "https://localhost:8080/"
        },
        "id": "PRF6nLRZQYH8",
        "outputId": "24382fa8-ad52-41a0-a3dc-bbcc0cc2e90f"
      },
      "execution_count": 73,
      "outputs": [
        {
          "output_type": "stream",
          "name": "stdout",
          "text": [
            "time: 51.2 ms (started: 2023-12-02 04:06:45 +00:00)\n"
          ]
        }
      ]
    },
    {
      "cell_type": "code",
      "source": [
        "train_model(model2, train_loader, test_loader, num_epochs=90, lr=0.01)"
      ],
      "metadata": {
        "colab": {
          "base_uri": "https://localhost:8080/"
        },
        "id": "7zZZrrQHQers",
        "outputId": "bb794693-9534-4f65-b662-a823264c1f74"
      },
      "execution_count": 76,
      "outputs": [
        {
          "output_type": "stream",
          "name": "stdout",
          "text": [
            "Epoch 1/90, Loss: 1.6397308474233803, Test Accuracy: 44.13%\n",
            "Epoch 2/90, Loss: 1.5758887746741355, Test Accuracy: 45.39%\n",
            "Epoch 3/90, Loss: 1.5176079042127173, Test Accuracy: 46.84%\n",
            "Epoch 4/90, Loss: 1.4606434471013832, Test Accuracy: 46.43%\n",
            "Epoch 5/90, Loss: 1.4043867838588648, Test Accuracy: 45.49%\n",
            "Epoch 6/90, Loss: 1.3499170009401924, Test Accuracy: 45.47%\n",
            "Epoch 7/90, Loss: 1.2927629313099789, Test Accuracy: 48.32%\n",
            "Epoch 8/90, Loss: 1.234866175259525, Test Accuracy: 47.34%\n",
            "Epoch 9/90, Loss: 1.1764625901986754, Test Accuracy: 47.81%\n",
            "Epoch 10/90, Loss: 1.1180155154076892, Test Accuracy: 48.45%\n",
            "Epoch 11/90, Loss: 1.0569338395438435, Test Accuracy: 46.88%\n",
            "Epoch 12/90, Loss: 0.9984162860738872, Test Accuracy: 47.36%\n",
            "Epoch 13/90, Loss: 0.9348498034271306, Test Accuracy: 47.21%\n",
            "Epoch 14/90, Loss: 0.8775273578638307, Test Accuracy: 46.67%\n",
            "Epoch 15/90, Loss: 0.8201381474142264, Test Accuracy: 46.97%\n",
            "Epoch 16/90, Loss: 0.7645678651576918, Test Accuracy: 47.19%\n",
            "Epoch 17/90, Loss: 0.7121308095471949, Test Accuracy: 43.57%\n",
            "Epoch 18/90, Loss: 0.6506125138916423, Test Accuracy: 47.09%\n",
            "Epoch 19/90, Loss: 0.6016270630800488, Test Accuracy: 46.71%\n",
            "Epoch 20/90, Loss: 0.5570049787932912, Test Accuracy: 45.46%\n",
            "Epoch 21/90, Loss: 0.5045057862653842, Test Accuracy: 46.56%\n",
            "Epoch 22/90, Loss: 0.4659396286527087, Test Accuracy: 46.29%\n",
            "Epoch 23/90, Loss: 0.42506463653142834, Test Accuracy: 46.35%\n",
            "Epoch 24/90, Loss: 0.3918432999909954, Test Accuracy: 44.45%\n",
            "Epoch 25/90, Loss: 0.35241735519237116, Test Accuracy: 44.51%\n",
            "Epoch 26/90, Loss: 0.31142482436330593, Test Accuracy: 45.33%\n",
            "Epoch 27/90, Loss: 0.2788042213746316, Test Accuracy: 46.76%\n",
            "Epoch 28/90, Loss: 0.25906013864463745, Test Accuracy: 43.55%\n",
            "Epoch 29/90, Loss: 0.231744880954272, Test Accuracy: 46.47%\n",
            "Epoch 30/90, Loss: 0.21136758030080596, Test Accuracy: 44.63%\n",
            "Epoch 31/90, Loss: 0.18305428979545355, Test Accuracy: 45.60%\n",
            "Epoch 32/90, Loss: 0.1679346192632912, Test Accuracy: 46.38%\n",
            "Epoch 33/90, Loss: 0.15083168265996685, Test Accuracy: 46.46%\n",
            "Epoch 34/90, Loss: 0.12470893133896441, Test Accuracy: 45.36%\n",
            "Epoch 35/90, Loss: 0.11037135829938122, Test Accuracy: 45.26%\n",
            "Epoch 36/90, Loss: 0.0891374765924504, Test Accuracy: 45.85%\n",
            "Epoch 37/90, Loss: 0.10328220102878827, Test Accuracy: 45.46%\n",
            "Epoch 38/90, Loss: 0.0855955066277347, Test Accuracy: 45.72%\n",
            "Epoch 39/90, Loss: 0.07483427474985492, Test Accuracy: 45.65%\n",
            "Epoch 40/90, Loss: 0.06409607810532568, Test Accuracy: 46.22%\n",
            "Epoch 41/90, Loss: 0.05343666982015336, Test Accuracy: 46.60%\n",
            "Epoch 42/90, Loss: 0.04949784335207792, Test Accuracy: 46.37%\n",
            "Epoch 43/90, Loss: 0.04690377798315164, Test Accuracy: 46.88%\n",
            "Epoch 44/90, Loss: 0.02601674031385805, Test Accuracy: 46.05%\n",
            "Epoch 45/90, Loss: 0.02655269068717046, Test Accuracy: 46.33%\n",
            "Epoch 46/90, Loss: 0.019667441150282586, Test Accuracy: 46.39%\n",
            "Epoch 47/90, Loss: 0.014892019775963638, Test Accuracy: 46.65%\n",
            "Epoch 48/90, Loss: 0.011125804863718796, Test Accuracy: 45.98%\n",
            "Epoch 49/90, Loss: 0.010036563564816482, Test Accuracy: 46.43%\n",
            "Epoch 50/90, Loss: 0.008059780684340583, Test Accuracy: 46.78%\n",
            "Epoch 51/90, Loss: 0.004270397843414666, Test Accuracy: 46.49%\n",
            "Epoch 52/90, Loss: 0.003283332988149972, Test Accuracy: 46.79%\n",
            "Epoch 53/90, Loss: 0.002698178710764535, Test Accuracy: 46.78%\n",
            "Epoch 54/90, Loss: 0.0024885334486680457, Test Accuracy: 46.67%\n",
            "Epoch 55/90, Loss: 0.002143189217701616, Test Accuracy: 46.71%\n",
            "Epoch 56/90, Loss: 0.0021627818020352628, Test Accuracy: 46.52%\n",
            "Epoch 57/90, Loss: 0.001972342938954435, Test Accuracy: 46.40%\n",
            "Epoch 58/90, Loss: 0.0019892676973564077, Test Accuracy: 46.78%\n",
            "Epoch 59/90, Loss: 0.0016905710515098423, Test Accuracy: 46.63%\n",
            "Epoch 60/90, Loss: 0.0016057030236926789, Test Accuracy: 46.68%\n",
            "Epoch 61/90, Loss: 0.0015384381344188565, Test Accuracy: 46.62%\n",
            "Epoch 62/90, Loss: 0.0014577572537414487, Test Accuracy: 46.59%\n",
            "Epoch 63/90, Loss: 0.001404785777295279, Test Accuracy: 46.69%\n",
            "Epoch 64/90, Loss: 0.0013596809165686624, Test Accuracy: 46.72%\n",
            "Epoch 65/90, Loss: 0.0013081994519857374, Test Accuracy: 46.63%\n",
            "Epoch 66/90, Loss: 0.0012722027542461925, Test Accuracy: 46.63%\n",
            "Epoch 67/90, Loss: 0.0012353247046503117, Test Accuracy: 46.60%\n",
            "Epoch 68/90, Loss: 0.0011896354288040939, Test Accuracy: 46.55%\n",
            "Epoch 69/90, Loss: 0.001150286978561138, Test Accuracy: 46.60%\n",
            "Epoch 70/90, Loss: 0.0011274273200543039, Test Accuracy: 46.47%\n",
            "Epoch 71/90, Loss: 0.0010911046452434484, Test Accuracy: 46.52%\n",
            "Epoch 72/90, Loss: 0.001061987635704569, Test Accuracy: 46.55%\n",
            "Epoch 73/90, Loss: 0.0010328290846838746, Test Accuracy: 46.48%\n",
            "Epoch 74/90, Loss: 0.001009792584227398, Test Accuracy: 46.44%\n",
            "Epoch 75/90, Loss: 0.0009852323859090776, Test Accuracy: 46.57%\n",
            "Epoch 76/90, Loss: 0.0009591369910531523, Test Accuracy: 46.41%\n",
            "Epoch 77/90, Loss: 0.0009395487928883395, Test Accuracy: 46.59%\n",
            "Epoch 78/90, Loss: 0.0009171307494063038, Test Accuracy: 46.49%\n",
            "Epoch 79/90, Loss: 0.0008986766625288695, Test Accuracy: 46.50%\n",
            "Epoch 80/90, Loss: 0.0008786523592175995, Test Accuracy: 46.51%\n",
            "Epoch 81/90, Loss: 0.0008599314493070114, Test Accuracy: 46.47%\n",
            "Epoch 82/90, Loss: 0.0008439476299773686, Test Accuracy: 46.48%\n",
            "Epoch 83/90, Loss: 0.0008239931980268916, Test Accuracy: 46.47%\n",
            "Epoch 84/90, Loss: 0.0008085154820938481, Test Accuracy: 46.49%\n",
            "Epoch 85/90, Loss: 0.0007948170168814205, Test Accuracy: 46.51%\n",
            "Epoch 86/90, Loss: 0.0007785826444070815, Test Accuracy: 46.53%\n",
            "Epoch 87/90, Loss: 0.0007623140427091928, Test Accuracy: 46.53%\n",
            "Epoch 88/90, Loss: 0.0007505425923587057, Test Accuracy: 46.42%\n",
            "Epoch 89/90, Loss: 0.0007364078370238441, Test Accuracy: 46.53%\n",
            "Epoch 90/90, Loss: 0.0007237994871380836, Test Accuracy: 46.53%\n",
            "Classification Report:\n",
            "               precision    recall  f1-score   support\n",
            "\n",
            "           0       0.52      0.54      0.53      1000\n",
            "           1       0.59      0.55      0.57      1000\n",
            "           2       0.35      0.37      0.36      1000\n",
            "           3       0.31      0.31      0.31      1000\n",
            "           4       0.41      0.41      0.41      1000\n",
            "           5       0.34      0.34      0.34      1000\n",
            "           6       0.51      0.52      0.52      1000\n",
            "           7       0.51      0.48      0.50      1000\n",
            "           8       0.58      0.61      0.60      1000\n",
            "           9       0.54      0.52      0.53      1000\n",
            "\n",
            "    accuracy                           0.47     10000\n",
            "   macro avg       0.47      0.47      0.47     10000\n",
            "weighted avg       0.47      0.47      0.47     10000\n",
            "\n",
            "time: 53min 1s (started: 2023-12-02 04:07:51 +00:00)\n"
          ]
        }
      ]
    }
  ]
}